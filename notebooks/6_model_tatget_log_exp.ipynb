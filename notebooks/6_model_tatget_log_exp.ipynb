{
 "cells": [
  {
   "cell_type": "code",
   "execution_count": 1,
   "id": "e5384ba3",
   "metadata": {
    "ExecuteTime": {
     "end_time": "2021-11-01T12:47:16.760989Z",
     "start_time": "2021-11-01T12:47:14.782049Z"
    }
   },
   "outputs": [],
   "source": [
    "import pandas as pd\n",
    "import numpy as np\n",
    "from pathlib2 import Path\n",
    "import matplotlib.pyplot as plt\n",
    "from typing import List, Tuple, Optional\n",
    "import re\n",
    "import lightgbm as lgb\n",
    "from datetime import datetime\n",
    "from tqdm import tqdm\n",
    "\n",
    "from sklearn.model_selection import train_test_split\n",
    "from sklearn.metrics import mean_squared_error\n",
    "\n",
    "import xgboost as xgb\n",
    "import matplotlib.pyplot as plt\n",
    "from scipy.stats import ttest_rel\n",
    "\n",
    "from sklearn.metrics import r2_score\n",
    "from sklearn.ensemble import RandomForestRegressor\n",
    "from sklearn.model_selection import KFold, StratifiedKFold, train_test_split, cross_val_score"
   ]
  },
  {
   "cell_type": "code",
   "execution_count": 2,
   "id": "6282fdf2",
   "metadata": {
    "ExecuteTime": {
     "end_time": "2021-11-01T12:47:16.802758Z",
     "start_time": "2021-11-01T12:47:16.787799Z"
    }
   },
   "outputs": [],
   "source": [
    "def evraz_metric(true_t, predict_t, true_c, predict_c):\n",
    "\n",
    "    delta_c = np.abs(np.array(true_c) - np.array(predict_c))\n",
    "    hit_rate_c = np.int64(delta_c < 0.02)\n",
    "\n",
    "    delta_t = np.abs(np.array(true_t) - np.array(predict_t))\n",
    "    hit_rate_t = np.int64(delta_t < 20)\n",
    "\n",
    "    N = np.size(predict_c)\n",
    "\n",
    "    return np.sum(hit_rate_c + hit_rate_t) / 2 / N"
   ]
  },
  {
   "cell_type": "code",
   "execution_count": 3,
   "id": "a01005ba",
   "metadata": {
    "ExecuteTime": {
     "end_time": "2021-11-01T12:47:17.489152Z",
     "start_time": "2021-11-01T12:47:17.474680Z"
    }
   },
   "outputs": [],
   "source": [
    "path = Path('../../../data/2021_evraz')"
   ]
  },
  {
   "cell_type": "code",
   "execution_count": 12,
   "id": "2a13bdc5",
   "metadata": {
    "ExecuteTime": {
     "end_time": "2021-11-01T15:01:03.297312Z",
     "start_time": "2021-11-01T15:01:03.271861Z"
    },
    "scrolled": true
   },
   "outputs": [
    {
     "name": "stdout",
     "output_type": "stream",
     "text": [
      "(2063, 167)\n"
     ]
    },
    {
     "data": {
      "text/html": [
       "<div>\n",
       "<style scoped>\n",
       "    .dataframe tbody tr th:only-of-type {\n",
       "        vertical-align: middle;\n",
       "    }\n",
       "\n",
       "    .dataframe tbody tr th {\n",
       "        vertical-align: top;\n",
       "    }\n",
       "\n",
       "    .dataframe thead th {\n",
       "        text-align: right;\n",
       "    }\n",
       "</style>\n",
       "<table border=\"1\" class=\"dataframe\">\n",
       "  <thead>\n",
       "    <tr style=\"text-align: right;\">\n",
       "      <th></th>\n",
       "      <th>NPLV</th>\n",
       "      <th>TST</th>\n",
       "      <th>C</th>\n",
       "      <th>VES</th>\n",
       "      <th>T_x</th>\n",
       "      <th>SI</th>\n",
       "      <th>MN</th>\n",
       "      <th>S</th>\n",
       "      <th>P</th>\n",
       "      <th>CR</th>\n",
       "      <th>...</th>\n",
       "      <th>NMSYP_Dolomsyr</th>\n",
       "      <th>NMSYP_Ugol_TO</th>\n",
       "      <th>NMSYP_FLUMAG</th>\n",
       "      <th>NMSYP_FlusFOMI</th>\n",
       "      <th>NMSYP_agl_ofl_s</th>\n",
       "      <th>NMSYP_dolom_syr</th>\n",
       "      <th>NMSYP_izvotsev</th>\n",
       "      <th>NMSYP_izv_ZOI</th>\n",
       "      <th>NMSYP_izv_otsev</th>\n",
       "      <th>NMSYP_koks_25_40</th>\n",
       "    </tr>\n",
       "  </thead>\n",
       "  <tbody>\n",
       "    <tr>\n",
       "      <th>0</th>\n",
       "      <td>510008</td>\n",
       "      <td>1690</td>\n",
       "      <td>0.060</td>\n",
       "      <td>263700.0</td>\n",
       "      <td>1396.0</td>\n",
       "      <td>0.44</td>\n",
       "      <td>0.22</td>\n",
       "      <td>0.023</td>\n",
       "      <td>0.097</td>\n",
       "      <td>0.03</td>\n",
       "      <td>...</td>\n",
       "      <td>0</td>\n",
       "      <td>2950</td>\n",
       "      <td>2960</td>\n",
       "      <td>980</td>\n",
       "      <td>0</td>\n",
       "      <td>0</td>\n",
       "      <td>0</td>\n",
       "      <td>14080</td>\n",
       "      <td>0</td>\n",
       "      <td>0</td>\n",
       "    </tr>\n",
       "    <tr>\n",
       "      <th>1</th>\n",
       "      <td>510009</td>\n",
       "      <td>1683</td>\n",
       "      <td>0.097</td>\n",
       "      <td>264500.0</td>\n",
       "      <td>1419.0</td>\n",
       "      <td>0.68</td>\n",
       "      <td>0.20</td>\n",
       "      <td>0.017</td>\n",
       "      <td>0.087</td>\n",
       "      <td>0.02</td>\n",
       "      <td>...</td>\n",
       "      <td>0</td>\n",
       "      <td>2930</td>\n",
       "      <td>0</td>\n",
       "      <td>960</td>\n",
       "      <td>0</td>\n",
       "      <td>0</td>\n",
       "      <td>1060</td>\n",
       "      <td>18830</td>\n",
       "      <td>0</td>\n",
       "      <td>0</td>\n",
       "    </tr>\n",
       "    <tr>\n",
       "      <th>2</th>\n",
       "      <td>510010</td>\n",
       "      <td>1662</td>\n",
       "      <td>0.091</td>\n",
       "      <td>263800.0</td>\n",
       "      <td>1384.0</td>\n",
       "      <td>0.56</td>\n",
       "      <td>0.26</td>\n",
       "      <td>0.017</td>\n",
       "      <td>0.096</td>\n",
       "      <td>0.03</td>\n",
       "      <td>...</td>\n",
       "      <td>0</td>\n",
       "      <td>2990</td>\n",
       "      <td>2960</td>\n",
       "      <td>1050</td>\n",
       "      <td>0</td>\n",
       "      <td>0</td>\n",
       "      <td>990</td>\n",
       "      <td>16080</td>\n",
       "      <td>0</td>\n",
       "      <td>0</td>\n",
       "    </tr>\n",
       "  </tbody>\n",
       "</table>\n",
       "<p>3 rows × 167 columns</p>\n",
       "</div>"
      ],
      "text/plain": [
       "     NPLV   TST      C       VES     T_x    SI    MN      S      P    CR  ...  \\\n",
       "0  510008  1690  0.060  263700.0  1396.0  0.44  0.22  0.023  0.097  0.03  ...   \n",
       "1  510009  1683  0.097  264500.0  1419.0  0.68  0.20  0.017  0.087  0.02  ...   \n",
       "2  510010  1662  0.091  263800.0  1384.0  0.56  0.26  0.017  0.096  0.03  ...   \n",
       "\n",
       "   NMSYP_Dolomsyr  NMSYP_Ugol_TO  NMSYP_FLUMAG  NMSYP_FlusFOMI  \\\n",
       "0               0           2950          2960             980   \n",
       "1               0           2930             0             960   \n",
       "2               0           2990          2960            1050   \n",
       "\n",
       "  NMSYP_agl_ofl_s  NMSYP_dolom_syr  NMSYP_izvotsev  NMSYP_izv_ZOI  \\\n",
       "0               0                0               0          14080   \n",
       "1               0                0            1060          18830   \n",
       "2               0                0             990          16080   \n",
       "\n",
       "   NMSYP_izv_otsev  NMSYP_koks_25_40  \n",
       "0                0                 0  \n",
       "1                0                 0  \n",
       "2                0                 0  \n",
       "\n",
       "[3 rows x 167 columns]"
      ]
     },
     "execution_count": 12,
     "metadata": {},
     "output_type": "execute_result"
    }
   ],
   "source": [
    "target_train = pd.read_pickle(path.joinpath('target_train_all.pkl'))\n",
    "print(target_train.shape)\n",
    "target_train.head(3)"
   ]
  },
  {
   "cell_type": "code",
   "execution_count": 5,
   "id": "579e3b6e",
   "metadata": {
    "ExecuteTime": {
     "end_time": "2021-11-01T12:47:19.409867Z",
     "start_time": "2021-11-01T12:47:19.378906Z"
    }
   },
   "outputs": [
    {
     "name": "stdout",
     "output_type": "stream",
     "text": [
      "(780, 165)\n"
     ]
    },
    {
     "data": {
      "text/html": [
       "<div>\n",
       "<style scoped>\n",
       "    .dataframe tbody tr th:only-of-type {\n",
       "        vertical-align: middle;\n",
       "    }\n",
       "\n",
       "    .dataframe tbody tr th {\n",
       "        vertical-align: top;\n",
       "    }\n",
       "\n",
       "    .dataframe thead th {\n",
       "        text-align: right;\n",
       "    }\n",
       "</style>\n",
       "<table border=\"1\" class=\"dataframe\">\n",
       "  <thead>\n",
       "    <tr style=\"text-align: right;\">\n",
       "      <th></th>\n",
       "      <th>NPLV</th>\n",
       "      <th>VES</th>\n",
       "      <th>T_x</th>\n",
       "      <th>SI</th>\n",
       "      <th>MN</th>\n",
       "      <th>S</th>\n",
       "      <th>P</th>\n",
       "      <th>CR</th>\n",
       "      <th>NI</th>\n",
       "      <th>CU</th>\n",
       "      <th>...</th>\n",
       "      <th>NMSYP_Dolomsyr</th>\n",
       "      <th>NMSYP_Ugol_TO</th>\n",
       "      <th>NMSYP_FLUMAG</th>\n",
       "      <th>NMSYP_FlusFOMI</th>\n",
       "      <th>NMSYP_agl_ofl_s</th>\n",
       "      <th>NMSYP_dolom_syr</th>\n",
       "      <th>NMSYP_izvotsev</th>\n",
       "      <th>NMSYP_izv_ZOI</th>\n",
       "      <th>NMSYP_izv_otsev</th>\n",
       "      <th>NMSYP_koks_25_40</th>\n",
       "    </tr>\n",
       "  </thead>\n",
       "  <tbody>\n",
       "    <tr>\n",
       "      <th>0</th>\n",
       "      <td>512324</td>\n",
       "      <td>240100.0</td>\n",
       "      <td>1355.0</td>\n",
       "      <td>0.46</td>\n",
       "      <td>0.33</td>\n",
       "      <td>0.027</td>\n",
       "      <td>0.079</td>\n",
       "      <td>0.01</td>\n",
       "      <td>0.01</td>\n",
       "      <td>0.02</td>\n",
       "      <td>...</td>\n",
       "      <td>0</td>\n",
       "      <td>1310</td>\n",
       "      <td>1670</td>\n",
       "      <td>0</td>\n",
       "      <td>0</td>\n",
       "      <td>0</td>\n",
       "      <td>0</td>\n",
       "      <td>13960</td>\n",
       "      <td>0</td>\n",
       "      <td>0</td>\n",
       "    </tr>\n",
       "    <tr>\n",
       "      <th>1</th>\n",
       "      <td>512327</td>\n",
       "      <td>266400.0</td>\n",
       "      <td>1390.0</td>\n",
       "      <td>0.30</td>\n",
       "      <td>0.33</td>\n",
       "      <td>0.032</td>\n",
       "      <td>0.099</td>\n",
       "      <td>0.01</td>\n",
       "      <td>0.00</td>\n",
       "      <td>0.00</td>\n",
       "      <td>...</td>\n",
       "      <td>0</td>\n",
       "      <td>0</td>\n",
       "      <td>0</td>\n",
       "      <td>0</td>\n",
       "      <td>0</td>\n",
       "      <td>0</td>\n",
       "      <td>0</td>\n",
       "      <td>15290</td>\n",
       "      <td>0</td>\n",
       "      <td>50</td>\n",
       "    </tr>\n",
       "    <tr>\n",
       "      <th>2</th>\n",
       "      <td>512328</td>\n",
       "      <td>270200.0</td>\n",
       "      <td>1373.0</td>\n",
       "      <td>0.00</td>\n",
       "      <td>0.00</td>\n",
       "      <td>0.000</td>\n",
       "      <td>0.000</td>\n",
       "      <td>0.00</td>\n",
       "      <td>0.00</td>\n",
       "      <td>0.00</td>\n",
       "      <td>...</td>\n",
       "      <td>0</td>\n",
       "      <td>0</td>\n",
       "      <td>0</td>\n",
       "      <td>0</td>\n",
       "      <td>0</td>\n",
       "      <td>0</td>\n",
       "      <td>0</td>\n",
       "      <td>20010</td>\n",
       "      <td>0</td>\n",
       "      <td>1400</td>\n",
       "    </tr>\n",
       "  </tbody>\n",
       "</table>\n",
       "<p>3 rows × 165 columns</p>\n",
       "</div>"
      ],
      "text/plain": [
       "     NPLV       VES     T_x    SI    MN      S      P    CR    NI    CU  ...  \\\n",
       "0  512324  240100.0  1355.0  0.46  0.33  0.027  0.079  0.01  0.01  0.02  ...   \n",
       "1  512327  266400.0  1390.0  0.30  0.33  0.032  0.099  0.01  0.00  0.00  ...   \n",
       "2  512328  270200.0  1373.0  0.00  0.00  0.000  0.000  0.00  0.00  0.00  ...   \n",
       "\n",
       "   NMSYP_Dolomsyr  NMSYP_Ugol_TO NMSYP_FLUMAG  NMSYP_FlusFOMI  \\\n",
       "0               0           1310         1670               0   \n",
       "1               0              0            0               0   \n",
       "2               0              0            0               0   \n",
       "\n",
       "   NMSYP_agl_ofl_s  NMSYP_dolom_syr  NMSYP_izvotsev  NMSYP_izv_ZOI  \\\n",
       "0                0                0               0          13960   \n",
       "1                0                0               0          15290   \n",
       "2                0                0               0          20010   \n",
       "\n",
       "   NMSYP_izv_otsev  NMSYP_koks_25_40  \n",
       "0                0                 0  \n",
       "1                0                50  \n",
       "2                0              1400  \n",
       "\n",
       "[3 rows x 165 columns]"
      ]
     },
     "execution_count": 5,
     "metadata": {},
     "output_type": "execute_result"
    }
   ],
   "source": [
    "test = pd.read_pickle(path.joinpath('test_all.pkl'))\n",
    "print(test.shape)\n",
    "test.head(3)"
   ]
  },
  {
   "cell_type": "code",
   "execution_count": 7,
   "id": "030af78e",
   "metadata": {
    "ExecuteTime": {
     "end_time": "2021-11-01T12:52:24.786955Z",
     "start_time": "2021-11-01T12:52:24.513759Z"
    }
   },
   "outputs": [
    {
     "data": {
      "image/png": "[encoded data removed]",
      "text/plain": [
       "<Figure size 432x288 with 1 Axes>"
      ]
     },
     "metadata": {
      "needs_background": "light"
     },
     "output_type": "display_data"
    }
   ],
   "source": [
    "plt.hist(target_train['TST'], bins=100);"
   ]
  },
  {
   "cell_type": "code",
   "execution_count": 8,
   "id": "1a870fa7",
   "metadata": {
    "ExecuteTime": {
     "end_time": "2021-11-01T12:52:32.973380Z",
     "start_time": "2021-11-01T12:52:32.771182Z"
    },
    "scrolled": true
   },
   "outputs": [
    {
     "data": {
      "image/png": "[encoded data removed]",
      "text/plain": [
       "<Figure size 432x288 with 1 Axes>"
      ]
     },
     "metadata": {
      "needs_background": "light"
     },
     "output_type": "display_data"
    }
   ],
   "source": [
    "plt.hist(target_train['C'], bins=100);"
   ]
  },
  {
   "cell_type": "markdown",
   "id": "e43556ea",
   "metadata": {},
   "source": [
    "**Сделаем логарифмирование целевой функции С.**"
   ]
  },
  {
   "cell_type": "code",
   "execution_count": 47,
   "id": "92cde7a8",
   "metadata": {
    "ExecuteTime": {
     "end_time": "2021-11-01T16:53:35.737952Z",
     "start_time": "2021-11-01T16:53:35.727979Z"
    }
   },
   "outputs": [],
   "source": [
    "target_train = pd.read_pickle(path.joinpath('target_train_all.pkl'))\n",
    "target_train['C'] = np.log10(target_train['C'])"
   ]
  },
  {
   "cell_type": "code",
   "execution_count": 48,
   "id": "c5044273",
   "metadata": {
    "ExecuteTime": {
     "end_time": "2021-11-01T16:53:36.710165Z",
     "start_time": "2021-11-01T16:53:36.480375Z"
    }
   },
   "outputs": [
    {
     "data": {
      "image/png": "[encoded data removed]",
      "text/plain": [
       "<Figure size 432x288 with 1 Axes>"
      ]
     },
     "metadata": {
      "needs_background": "light"
     },
     "output_type": "display_data"
    }
   ],
   "source": [
    "plt.hist(target_train['C'], bins=100);"
   ]
  },
  {
   "cell_type": "code",
   "execution_count": 53,
   "id": "d04a631d",
   "metadata": {
    "ExecuteTime": {
     "end_time": "2021-11-01T17:02:40.255875Z",
     "start_time": "2021-11-01T17:02:40.242082Z"
    }
   },
   "outputs": [],
   "source": [
    "target_train = pd.read_pickle(path.joinpath('target_train_all.pkl'))\n",
    "target_train['C'] = np.log(target_train['C'])"
   ]
  },
  {
   "cell_type": "code",
   "execution_count": 54,
   "id": "faa15ed1",
   "metadata": {
    "ExecuteTime": {
     "end_time": "2021-11-01T17:02:41.107118Z",
     "start_time": "2021-11-01T17:02:40.904541Z"
    },
    "scrolled": true
   },
   "outputs": [
    {
     "data": {
      "image/png": "[encoded data removed]",
      "text/plain": [
       "<Figure size 432x288 with 1 Axes>"
      ]
     },
     "metadata": {
      "needs_background": "light"
     },
     "output_type": "display_data"
    }
   ],
   "source": [
    "plt.hist(target_train['C'], bins=100);"
   ]
  },
  {
   "cell_type": "code",
   "execution_count": 35,
   "id": "a02fe0ca",
   "metadata": {
    "ExecuteTime": {
     "end_time": "2021-11-01T16:50:52.000518Z",
     "start_time": "2021-11-01T16:50:51.984152Z"
    }
   },
   "outputs": [],
   "source": [
    "target_train = pd.read_pickle(path.joinpath('target_train_all.pkl'))\n",
    "target_train['C'] = np.log2(target_train['C'])"
   ]
  },
  {
   "cell_type": "code",
   "execution_count": 36,
   "id": "933163d4",
   "metadata": {
    "ExecuteTime": {
     "end_time": "2021-11-01T16:50:53.019268Z",
     "start_time": "2021-11-01T16:50:52.768632Z"
    }
   },
   "outputs": [
    {
     "data": {
      "image/png": "[encoded data removed]",
      "text/plain": [
       "<Figure size 432x288 with 1 Axes>"
      ]
     },
     "metadata": {
      "needs_background": "light"
     },
     "output_type": "display_data"
    }
   ],
   "source": [
    "plt.hist(target_train['C'], bins=100);"
   ]
  },
  {
   "cell_type": "code",
   "execution_count": 37,
   "id": "1f4b52e9",
   "metadata": {
    "ExecuteTime": {
     "end_time": "2021-11-01T16:50:54.505797Z",
     "start_time": "2021-11-01T16:50:54.486739Z"
    }
   },
   "outputs": [
    {
     "data": {
      "text/plain": [
       "0      -4.058894\n",
       "1      -3.365871\n",
       "2      -3.457990\n",
       "3      -1.286304\n",
       "4      -3.058894\n",
       "          ...   \n",
       "2058   -2.785875\n",
       "2059   -3.522841\n",
       "2060   -2.826233\n",
       "2061   -1.888969\n",
       "2062   -2.450084\n",
       "Name: C, Length: 2063, dtype: float64"
      ]
     },
     "execution_count": 37,
     "metadata": {},
     "output_type": "execute_result"
    }
   ],
   "source": [
    "target_train['C']"
   ]
  },
  {
   "cell_type": "code",
   "execution_count": 40,
   "id": "f7065e37",
   "metadata": {
    "ExecuteTime": {
     "end_time": "2021-11-01T16:51:23.447368Z",
     "start_time": "2021-11-01T16:51:23.429417Z"
    }
   },
   "outputs": [],
   "source": [
    "def make_cross_validation(X: pd.DataFrame,\n",
    "                          y_1: pd.Series,\n",
    "                          y_2: pd.Series,\n",
    "                          X_test: pd.DataFrame,\n",
    "                          estimator_1: object,\n",
    "                          estimator_2: object,\n",
    "                          metric: callable,\n",
    "                          cv_strategy,\n",
    "                          error_to_be_outlier: None):\n",
    "    \"\"\"\n",
    "    Кросс-валидация.\n",
    "\n",
    "    Parameters\n",
    "    ----------\n",
    "    X: pd.DataFrame\n",
    "        Матрица признаков.\n",
    "\n",
    "    y_1: pd.Series\n",
    "        Вектор 1-й целевой переменной.\n",
    "        \n",
    "    y_2: pd.Series\n",
    "        Вектор 2-й целевой переменной.\n",
    "        \n",
    "    X_test: pd.Series\n",
    "        Матрица признаков для предсказания.\n",
    "\n",
    "    estimator: callable\n",
    "        Объект модели для обучения.\n",
    "\n",
    "    metric: callable\n",
    "        Метрика для оценки качества решения.\n",
    "        Ожидается, что на вход будет передана функция,\n",
    "        которая принимает 2 аргумента: y_true, y_pred.\n",
    "\n",
    "    cv_strategy: cross-validation generator\n",
    "        Объект для описания стратегии кросс-валидации.\n",
    "        Ожидается, что на вход будет передан объект типа\n",
    "        KFold или StratifiedKFold.\n",
    "        \n",
    "    error_to_be_outlier: float, optional, default = None\n",
    "        Максимальная относительная величина ошибки для того,\n",
    "        чтобы объект считать выбросом и не учитывать в итоговой\n",
    "        ошибке алгоритма. Опциональный параметр, по умолчанию,\n",
    "        не используется.\n",
    "        Если ставим 100, это 100% - если 2 раза ошибаемся, то\n",
    "        говорим, что это выброс.\n",
    "\n",
    "    Returns\n",
    "    -------\n",
    "    oof_score: float\n",
    "        Значение метрики качества на OOF-прогнозах.\n",
    "\n",
    "    fold_train_scores: List[float]\n",
    "        Значение метрики качества на каждом обучающем датасете кросс-валидации.\n",
    "\n",
    "    fold_valid_scores: List[float]\n",
    "        Значение метрики качества на каждом валидационном датасете кросс-валидации.\n",
    "\n",
    "    oof_predictions: np.array\n",
    "        Прогнозы на OOF.\n",
    "\n",
    "    \"\"\"\n",
    "    estimators, fold_train_scores_1, fold_train_scores_2, fold_valid_scores_1, fold_valid_scores_2, \\\n",
    "    evraz_metric_train_scores, evraz_metric_valid_scores = [], [], [], [], [], [], []\n",
    "    oof_predictions_1, oof_predictions_2 = np.zeros(X.shape[0]), np.zeros(X.shape[0])\n",
    "\n",
    "    for fold_number, (train_idx, valid_idx) in enumerate(cv_strategy.split(X, y_1)):\n",
    "        x_train, x_valid = X.loc[train_idx], X.loc[valid_idx]\n",
    "        y_train_1, y_valid_1 = y_1.loc[train_idx], y_1.loc[valid_idx]\n",
    "        y_train_2, y_valid_2 = y_2.loc[train_idx], y_2.loc[valid_idx]\n",
    "\n",
    "        estimator_1.fit(x_train, y_train_1)\n",
    "        estimator_2.fit(x_train, y_train_2)\n",
    "        y_train_pred_1 = estimator_1.predict(x_train)\n",
    "        y_train_pred_2 = estimator_2.predict(x_train)\n",
    "        y_valid_pred_1 = estimator_1.predict(x_valid)\n",
    "        y_valid_pred_2 = estimator_2.predict(x_valid)\n",
    "\n",
    "        fold_train_scores_1.append(metric(y_train_1, y_train_pred_1))\n",
    "        fold_train_scores_2.append(metric(y_train_2, y_train_pred_2))\n",
    "        \n",
    "        if not error_to_be_outlier:\n",
    "            fold_valid_scores_1.append(metric(y_valid_1, y_valid_pred_1))\n",
    "            fold_valid_scores_2.append(metric(y_valid_2, y_valid_pred_2))\n",
    "        else:\n",
    "            mask = ((y_valid_1 - y_valid_pred_1) / y_valid_1) < error_to_be_outlier\n",
    "            fold_valid_scores_1.append(metric(y_valid_1.loc[mask], y_valid_pred_1[mask]))\n",
    "            mask = ((y_valid_2 - y_valid_pred_2) / y_valid_2) < error_to_be_outlier\n",
    "            fold_valid_scores_2.append(metric(y_valid_2.loc[mask], y_valid_pred_2[mask]))\n",
    "            \n",
    "        oof_predictions_1[valid_idx] = y_valid_pred_1\n",
    "        oof_predictions_2[valid_idx] = y_valid_pred_2\n",
    "        \n",
    "        evraz_metric_train = evraz_metric(y_train_1, y_train_pred_1, y_train_2, y_train_pred_2)\n",
    "        evraz_metric_valid = evraz_metric(y_valid_1, y_valid_pred_1, y_valid_2, y_valid_pred_2)\n",
    "        evraz_metric_train_scores.append(evraz_metric_train)\n",
    "        evraz_metric_valid_scores.append(evraz_metric_valid)\n",
    "\n",
    "        msg = (\n",
    "            f\"Fold: {fold_number+1}, train-observations = {len(train_idx)}, \"\n",
    "            f\"valid-observations = {len(valid_idx)}\\n\"\n",
    "            f\"train-score 1 = {round(fold_train_scores_1[fold_number], 4)}, \"\n",
    "            f\"train-score 2 = {round(fold_train_scores_2[fold_number], 4)}\\n\"\n",
    "            f\"valid-score 1 = {round(fold_valid_scores_1[fold_number], 4)}, \"\n",
    "            f\"valid-score 2 = {round(fold_valid_scores_2[fold_number], 4)}\" \n",
    "        )\n",
    "        print(msg)\n",
    "        print('Train metric = ', round(evraz_metric_train, 4))\n",
    "        print('Valid metric = ', round(evraz_metric_valid, 4))\n",
    "        print(\"=\"*69)\n",
    "        estimators.append(estimator_1)\n",
    "        estimators.append(estimator_2)\n",
    "\n",
    "    if not error_to_be_outlier:\n",
    "        oof_score_1 = metric(y_1, oof_predictions_1)\n",
    "        oof_score_2 = metric(y_2, oof_predictions_2)\n",
    "    else:\n",
    "        mask = ((y_1 - oof_predictions_1) / y_1) < error_to_be_outlier\n",
    "        oof_score_1 = metric(y_1.loc[mask], oof_predictions_1[mask])\n",
    "        mask = ((y_2 - oof_predictions_2) / y_1) < error_to_be_outlier\n",
    "        oof_score_2 = metric(y_2.loc[mask], oof_predictions_2[mask])\n",
    "        \n",
    "    print(f\"CV-results train 1: {round(np.mean(fold_train_scores_1), 4)} +/- {round(np.std(fold_train_scores_1), 3)}\")\n",
    "    print(f\"CV-results train 2: {round(np.mean(fold_train_scores_2), 4)} +/- {round(np.std(fold_train_scores_2), 3)}\")\n",
    "    print(f\"CV-results valid 1: {round(np.mean(fold_valid_scores_1), 4)} +/- {round(np.std(fold_valid_scores_1), 3)}\")\n",
    "    print(f\"CV-results valid 2: {round(np.mean(fold_valid_scores_2), 4)} +/- {round(np.std(fold_valid_scores_2), 3)}\")\n",
    "    print(f\"OOF-score 1 = {round(oof_score_1, 4)}\")\n",
    "    print(f\"OOF-score 2 = {round(oof_score_2, 4)}\")\n",
    "    \n",
    "    print(f\"CV-results evraz metric train: {round(np.mean(evraz_metric_train_scores), 4)}\\\n",
    "+/- {round(np.std(evraz_metric_train_scores), 3)}\")\n",
    "    print(f\"CV-results evraz metric valid: {round(np.mean(evraz_metric_valid_scores), 4)}\\\n",
    "+/- {round(np.std(evraz_metric_valid_scores), 3)}\")\n",
    "    \n",
    "    # error fix: ValueError: Feature shape mismatch, expected: 142, got 780\n",
    "    # https://stackoverflow.com/questions/42338972/valueerror-feature-names-mismatch-in-xgboost-in-the-predict-function\n",
    "    f_names = estimator_1.get_booster().feature_names \n",
    "    X_test = X_test[f_names]\n",
    "    \n",
    "    return estimators, oof_score_1, oof_score_2, fold_train_scores_1, fold_train_scores_2, fold_valid_scores_1,\\\n",
    "fold_valid_scores_2, oof_predictions_1, oof_predictions_2, estimator_1.predict(X_test), estimator_2.predict(X_test),\\\n",
    "np.mean(evraz_metric_train_scores), np.mean(evraz_metric_valid_scores)"
   ]
  },
  {
   "cell_type": "code",
   "execution_count": 55,
   "id": "663bf2af",
   "metadata": {
    "ExecuteTime": {
     "end_time": "2021-11-01T17:03:22.101026Z",
     "start_time": "2021-11-01T17:02:49.200315Z"
    },
    "scrolled": true
   },
   "outputs": [
    {
     "name": "stderr",
     "output_type": "stream",
     "text": [
      "\r",
      "  0%|                                                                                           | 0/25 [00:00<?, ?it/s]"
     ]
    },
    {
     "name": "stdout",
     "output_type": "stream",
     "text": [
      "Fold: 1, train-observations = 1650, valid-observations = 413\n",
      "train-score 1 = 0.9262, train-score 2 = 0.9636\n",
      "valid-score 1 = 0.4053, valid-score 2 = 0.3816\n",
      "Train metric =  0.5658\n",
      "Valid metric =  0.3354\n",
      "=====================================================================\n",
      "Fold: 2, train-observations = 1650, valid-observations = 413\n",
      "train-score 1 = 0.9253, train-score 2 = 0.9678\n",
      "valid-score 1 = 0.5079, valid-score 2 = 0.5522\n",
      "Train metric =  0.5752\n",
      "Valid metric =  0.3789\n",
      "=====================================================================\n",
      "Fold: 3, train-observations = 1650, valid-observations = 413\n",
      "train-score 1 = 0.9184, train-score 2 = 0.9599\n",
      "valid-score 1 = 0.5014, valid-score 2 = 0.5262\n",
      "Train metric =  0.5721\n",
      "Valid metric =  0.3717\n",
      "=====================================================================\n",
      "Fold: 4, train-observations = 1651, valid-observations = 412\n",
      "train-score 1 = 0.925, train-score 2 = 0.9664\n",
      "valid-score 1 = 0.5836, valid-score 2 = 0.553\n",
      "Train metric =  0.5651\n",
      "Valid metric =  0.3859\n",
      "=====================================================================\n"
     ]
    },
    {
     "name": "stderr",
     "output_type": "stream",
     "text": [
      "\r",
      "  4%|███▎                                                                               | 1/25 [00:02<00:49,  2.08s/it]"
     ]
    },
    {
     "name": "stdout",
     "output_type": "stream",
     "text": [
      "Fold: 5, train-observations = 1651, valid-observations = 412\n",
      "train-score 1 = 0.9333, train-score 2 = 0.951\n",
      "valid-score 1 = 0.4091, valid-score 2 = 0.5184\n",
      "Train metric =  0.5627\n",
      "Valid metric =  0.3786\n",
      "=====================================================================\n",
      "CV-results train 1: 0.9256 +/- 0.005\n",
      "CV-results train 2: 0.9617 +/- 0.006\n",
      "CV-results valid 1: 0.4815 +/- 0.067\n",
      "CV-results valid 2: 0.5063 +/- 0.064\n",
      "OOF-score 1 = 0.4911\n",
      "OOF-score 2 = 0.5163\n",
      "CV-results evraz metric train: 0.5682+/- 0.005\n",
      "CV-results evraz metric valid: 0.3701+/- 0.018\n",
      "Fold: 1, train-observations = 1650, valid-observations = 413\n",
      "train-score 1 = 0.9207, train-score 2 = 0.9624\n",
      "valid-score 1 = 0.4035, valid-score 2 = 0.3773\n",
      "Train metric =  0.5673\n",
      "Valid metric =  0.3378\n",
      "=====================================================================\n",
      "Fold: 2, train-observations = 1650, valid-observations = 413\n",
      "train-score 1 = 0.9239, train-score 2 = 0.9648\n",
      "valid-score 1 = 0.5072, valid-score 2 = 0.5529\n",
      "Train metric =  0.5733\n",
      "Valid metric =  0.3789\n",
      "=====================================================================\n",
      "Fold: 3, train-observations = 1650, valid-observations = 413\n",
      "train-score 1 = 0.9135, train-score 2 = 0.9573\n",
      "valid-score 1 = 0.509, valid-score 2 = 0.5259\n",
      "Train metric =  0.5703\n",
      "Valid metric =  0.3705\n",
      "=====================================================================\n",
      "Fold: 4, train-observations = 1651, valid-observations = 412\n",
      "train-score 1 = 0.9178, train-score 2 = 0.9637\n",
      "valid-score 1 = 0.5803, valid-score 2 = 0.5532\n",
      "Train metric =  0.5597\n",
      "Valid metric =  0.3859\n",
      "=====================================================================\n"
     ]
    },
    {
     "name": "stderr",
     "output_type": "stream",
     "text": [
      "\r",
      "  8%|██████▋                                                                            | 2/25 [00:04<00:45,  2.00s/it]"
     ]
    },
    {
     "name": "stdout",
     "output_type": "stream",
     "text": [
      "Fold: 5, train-observations = 1651, valid-observations = 412\n",
      "train-score 1 = 0.932, train-score 2 = 0.9501\n",
      "valid-score 1 = 0.4097, valid-score 2 = 0.5188\n",
      "Train metric =  0.5615\n",
      "Valid metric =  0.375\n",
      "=====================================================================\n",
      "CV-results train 1: 0.9216 +/- 0.006\n",
      "CV-results train 2: 0.9597 +/- 0.005\n",
      "CV-results valid 1: 0.4819 +/- 0.067\n",
      "CV-results valid 2: 0.5056 +/- 0.066\n",
      "OOF-score 1 = 0.4915\n",
      "OOF-score 2 = 0.5157\n",
      "CV-results evraz metric train: 0.5664+/- 0.005\n",
      "CV-results evraz metric valid: 0.3696+/- 0.017\n",
      "Fold: 1, train-observations = 1650, valid-observations = 413\n",
      "train-score 1 = 0.9163, train-score 2 = 0.9598\n",
      "valid-score 1 = 0.4043, valid-score 2 = 0.3736\n",
      "Train metric =  0.5633\n",
      "Valid metric =  0.3402\n",
      "=====================================================================\n",
      "Fold: 2, train-observations = 1650, valid-observations = 413\n",
      "train-score 1 = 0.9168, train-score 2 = 0.9614\n",
      "valid-score 1 = 0.51, valid-score 2 = 0.5512\n",
      "Train metric =  0.5706\n",
      "Valid metric =  0.3777\n",
      "=====================================================================\n",
      "Fold: 3, train-observations = 1650, valid-observations = 413\n",
      "train-score 1 = 0.908, train-score 2 = 0.9558\n",
      "valid-score 1 = 0.5083, valid-score 2 = 0.5266\n",
      "Train metric =  0.563\n",
      "Valid metric =  0.3644\n",
      "=====================================================================\n",
      "Fold: 4, train-observations = 1651, valid-observations = 412\n",
      "train-score 1 = 0.9147, train-score 2 = 0.9604\n",
      "valid-score 1 = 0.5808, valid-score 2 = 0.5527\n",
      "Train metric =  0.5578\n",
      "Valid metric =  0.3896\n",
      "=====================================================================\n"
     ]
    },
    {
     "name": "stderr",
     "output_type": "stream",
     "text": [
      "\r",
      " 12%|█████████▉                                                                         | 3/25 [00:05<00:41,  1.91s/it]"
     ]
    },
    {
     "name": "stdout",
     "output_type": "stream",
     "text": [
      "Fold: 5, train-observations = 1651, valid-observations = 412\n",
      "train-score 1 = 0.9238, train-score 2 = 0.9482\n",
      "valid-score 1 = 0.4122, valid-score 2 = 0.5204\n",
      "Train metric =  0.553\n",
      "Valid metric =  0.3714\n",
      "=====================================================================\n",
      "CV-results train 1: 0.9159 +/- 0.005\n",
      "CV-results train 2: 0.9571 +/- 0.005\n",
      "CV-results valid 1: 0.4831 +/- 0.067\n",
      "CV-results valid 2: 0.5049 +/- 0.067\n",
      "OOF-score 1 = 0.4925\n",
      "OOF-score 2 = 0.5151\n",
      "CV-results evraz metric train: 0.5616+/- 0.006\n",
      "CV-results evraz metric valid: 0.3686+/- 0.016\n",
      "Fold: 1, train-observations = 1650, valid-observations = 413\n",
      "train-score 1 = 0.914, train-score 2 = 0.9581\n",
      "valid-score 1 = 0.4058, valid-score 2 = 0.3812\n",
      "Train metric =  0.5612\n",
      "Valid metric =  0.3414\n",
      "=====================================================================\n",
      "Fold: 2, train-observations = 1650, valid-observations = 413\n",
      "train-score 1 = 0.9142, train-score 2 = 0.9588\n",
      "valid-score 1 = 0.5103, valid-score 2 = 0.5495\n",
      "Train metric =  0.5627\n",
      "Valid metric =  0.3862\n",
      "=====================================================================\n",
      "Fold: 3, train-observations = 1650, valid-observations = 413\n",
      "train-score 1 = 0.9035, train-score 2 = 0.9531\n",
      "valid-score 1 = 0.5069, valid-score 2 = 0.5264\n",
      "Train metric =  0.56\n",
      "Valid metric =  0.3632\n",
      "=====================================================================\n",
      "Fold: 4, train-observations = 1651, valid-observations = 412\n",
      "train-score 1 = 0.9092, train-score 2 = 0.9587\n",
      "valid-score 1 = 0.578, valid-score 2 = 0.5517\n",
      "Train metric =  0.5606\n",
      "Valid metric =  0.3883\n",
      "=====================================================================\n"
     ]
    },
    {
     "name": "stderr",
     "output_type": "stream",
     "text": [
      "\r",
      " 16%|█████████████▎                                                                     | 4/25 [00:07<00:39,  1.86s/it]"
     ]
    },
    {
     "name": "stdout",
     "output_type": "stream",
     "text": [
      "Fold: 5, train-observations = 1651, valid-observations = 412\n",
      "train-score 1 = 0.9213, train-score 2 = 0.9468\n",
      "valid-score 1 = 0.4109, valid-score 2 = 0.5256\n",
      "Train metric =  0.5509\n",
      "Valid metric =  0.3677\n",
      "=====================================================================\n",
      "CV-results train 1: 0.9124 +/- 0.006\n",
      "CV-results train 2: 0.9551 +/- 0.005\n",
      "CV-results valid 1: 0.4824 +/- 0.066\n",
      "CV-results valid 2: 0.5069 +/- 0.064\n",
      "OOF-score 1 = 0.4917\n",
      "OOF-score 2 = 0.5169\n",
      "CV-results evraz metric train: 0.5591+/- 0.004\n",
      "CV-results evraz metric valid: 0.3694+/- 0.017\n",
      "Fold: 1, train-observations = 1650, valid-observations = 413\n",
      "train-score 1 = 0.9105, train-score 2 = 0.9569\n",
      "valid-score 1 = 0.403, valid-score 2 = 0.3813\n",
      "Train metric =  0.5579\n",
      "Valid metric =  0.3414\n",
      "=====================================================================\n",
      "Fold: 2, train-observations = 1650, valid-observations = 413\n",
      "train-score 1 = 0.9056, train-score 2 = 0.9569\n",
      "valid-score 1 = 0.5144, valid-score 2 = 0.5497\n",
      "Train metric =  0.5561\n",
      "Valid metric =  0.3838\n",
      "=====================================================================\n",
      "Fold: 3, train-observations = 1650, valid-observations = 413\n",
      "train-score 1 = 0.9003, train-score 2 = 0.9518\n",
      "valid-score 1 = 0.505, valid-score 2 = 0.5263\n",
      "Train metric =  0.5542\n",
      "Valid metric =  0.3717\n",
      "=====================================================================\n",
      "Fold: 4, train-observations = 1651, valid-observations = 412\n",
      "train-score 1 = 0.9063, train-score 2 = 0.9554\n",
      "valid-score 1 = 0.5777, valid-score 2 = 0.5531\n",
      "Train metric =  0.5588\n",
      "Valid metric =  0.3847\n",
      "=====================================================================\n"
     ]
    },
    {
     "name": "stderr",
     "output_type": "stream",
     "text": [
      "\r",
      " 20%|████████████████▌                                                                  | 5/25 [00:09<00:36,  1.83s/it]"
     ]
    },
    {
     "name": "stdout",
     "output_type": "stream",
     "text": [
      "Fold: 5, train-observations = 1651, valid-observations = 412\n",
      "train-score 1 = 0.9151, train-score 2 = 0.9427\n",
      "valid-score 1 = 0.4295, valid-score 2 = 0.5258\n",
      "Train metric =  0.5409\n",
      "Valid metric =  0.3859\n",
      "=====================================================================\n",
      "CV-results train 1: 0.9076 +/- 0.005\n",
      "CV-results train 2: 0.9528 +/- 0.005\n",
      "CV-results valid 1: 0.4859 +/- 0.063\n",
      "CV-results valid 2: 0.5072 +/- 0.064\n",
      "OOF-score 1 = 0.494\n",
      "OOF-score 2 = 0.5172\n",
      "CV-results evraz metric train: 0.5536+/- 0.007\n",
      "CV-results evraz metric valid: 0.3735+/- 0.017\n",
      "Fold: 1, train-observations = 1650, valid-observations = 413\n",
      "train-score 1 = 0.9083, train-score 2 = 0.9532\n",
      "valid-score 1 = 0.4285, valid-score 2 = 0.3805\n",
      "Train metric =  0.5515\n",
      "Valid metric =  0.3499\n",
      "=====================================================================\n",
      "Fold: 2, train-observations = 1650, valid-observations = 413\n",
      "train-score 1 = 0.8945, train-score 2 = 0.9534\n",
      "valid-score 1 = 0.5118, valid-score 2 = 0.551\n",
      "Train metric =  0.5442\n",
      "Valid metric =  0.3862\n",
      "=====================================================================\n",
      "Fold: 3, train-observations = 1650, valid-observations = 413\n",
      "train-score 1 = 0.8975, train-score 2 = 0.9513\n",
      "valid-score 1 = 0.5045, valid-score 2 = 0.5268\n",
      "Train metric =  0.5542\n",
      "Valid metric =  0.3705\n",
      "=====================================================================\n",
      "Fold: 4, train-observations = 1651, valid-observations = 412\n",
      "train-score 1 = 0.9045, train-score 2 = 0.9529\n",
      "valid-score 1 = 0.5781, valid-score 2 = 0.5514\n",
      "Train metric =  0.553\n",
      "Valid metric =  0.3835\n",
      "=====================================================================\n"
     ]
    },
    {
     "name": "stderr",
     "output_type": "stream",
     "text": [
      "\r",
      " 24%|███████████████████▉                                                               | 6/25 [00:11<00:35,  1.89s/it]"
     ]
    },
    {
     "name": "stdout",
     "output_type": "stream",
     "text": [
      "Fold: 5, train-observations = 1651, valid-observations = 412\n",
      "train-score 1 = 0.9055, train-score 2 = 0.9387\n",
      "valid-score 1 = 0.4325, valid-score 2 = 0.5291\n",
      "Train metric =  0.54\n",
      "Valid metric =  0.3823\n",
      "=====================================================================\n",
      "CV-results train 1: 0.9021 +/- 0.005\n",
      "CV-results train 2: 0.9499 +/- 0.006\n",
      "CV-results valid 1: 0.4911 +/- 0.056\n",
      "CV-results valid 2: 0.5078 +/- 0.064\n",
      "OOF-score 1 = 0.4994\n",
      "OOF-score 2 = 0.5177\n",
      "CV-results evraz metric train: 0.5486+/- 0.006\n",
      "CV-results evraz metric valid: 0.3745+/- 0.013\n",
      "Fold: 1, train-observations = 1650, valid-observations = 413\n",
      "train-score 1 = 0.9009, train-score 2 = 0.9496\n",
      "valid-score 1 = 0.4294, valid-score 2 = 0.3791\n",
      "Train metric =  0.5485\n",
      "Valid metric =  0.3547\n",
      "=====================================================================\n",
      "Fold: 2, train-observations = 1650, valid-observations = 413\n",
      "train-score 1 = 0.8861, train-score 2 = 0.9487\n",
      "valid-score 1 = 0.5114, valid-score 2 = 0.5529\n",
      "Train metric =  0.5421\n",
      "Valid metric =  0.3886\n",
      "=====================================================================\n",
      "Fold: 3, train-observations = 1650, valid-observations = 413\n",
      "train-score 1 = 0.8959, train-score 2 = 0.9504\n",
      "valid-score 1 = 0.5065, valid-score 2 = 0.5261\n",
      "Train metric =  0.5512\n",
      "Valid metric =  0.3729\n",
      "=====================================================================\n",
      "Fold: 4, train-observations = 1651, valid-observations = 412\n",
      "train-score 1 = 0.8937, train-score 2 = 0.9498\n",
      "valid-score 1 = 0.5769, valid-score 2 = 0.5517\n",
      "Train metric =  0.5445\n",
      "Valid metric =  0.3811\n",
      "=====================================================================\n"
     ]
    },
    {
     "name": "stderr",
     "output_type": "stream",
     "text": [
      "\r",
      " 28%|███████████████████████▏                                                           | 7/25 [00:13<00:32,  1.81s/it]"
     ]
    },
    {
     "name": "stdout",
     "output_type": "stream",
     "text": [
      "Fold: 5, train-observations = 1651, valid-observations = 412\n",
      "train-score 1 = 0.9009, train-score 2 = 0.9366\n",
      "valid-score 1 = 0.4388, valid-score 2 = 0.5277\n",
      "Train metric =  0.5382\n",
      "Valid metric =  0.3896\n",
      "=====================================================================\n",
      "CV-results train 1: 0.8955 +/- 0.005\n",
      "CV-results train 2: 0.947 +/- 0.005\n",
      "CV-results valid 1: 0.4926 +/- 0.054\n",
      "CV-results valid 2: 0.5075 +/- 0.065\n",
      "OOF-score 1 = 0.5006\n",
      "OOF-score 2 = 0.5175\n",
      "CV-results evraz metric train: 0.5449+/- 0.005\n",
      "CV-results evraz metric valid: 0.3774+/- 0.013\n",
      "Fold: 1, train-observations = 1650, valid-observations = 413\n",
      "train-score 1 = 0.8989, train-score 2 = 0.9433\n",
      "valid-score 1 = 0.4273, valid-score 2 = 0.3763\n",
      "Train metric =  0.5442\n",
      "Valid metric =  0.3523\n",
      "=====================================================================\n",
      "Fold: 2, train-observations = 1650, valid-observations = 413\n",
      "train-score 1 = 0.8798, train-score 2 = 0.9442\n",
      "valid-score 1 = 0.515, valid-score 2 = 0.5544\n",
      "Train metric =  0.5327\n",
      "Valid metric =  0.3874\n",
      "=====================================================================\n",
      "Fold: 3, train-observations = 1650, valid-observations = 413\n",
      "train-score 1 = 0.8894, train-score 2 = 0.947\n",
      "valid-score 1 = 0.5065, valid-score 2 = 0.5241\n",
      "Train metric =  0.5442\n",
      "Valid metric =  0.3765\n",
      "=====================================================================\n",
      "Fold: 4, train-observations = 1651, valid-observations = 412\n",
      "train-score 1 = 0.8868, train-score 2 = 0.9464\n",
      "valid-score 1 = 0.5753, valid-score 2 = 0.5533\n",
      "Train metric =  0.5351\n",
      "Valid metric =  0.3847\n",
      "=====================================================================\n"
     ]
    },
    {
     "name": "stderr",
     "output_type": "stream",
     "text": [
      "\r",
      " 32%|██████████████████████████▌                                                        | 8/25 [00:14<00:29,  1.74s/it]"
     ]
    },
    {
     "name": "stdout",
     "output_type": "stream",
     "text": [
      "Fold: 5, train-observations = 1651, valid-observations = 412\n",
      "train-score 1 = 0.8945, train-score 2 = 0.9344\n",
      "valid-score 1 = 0.4443, valid-score 2 = 0.528\n",
      "Train metric =  0.5333\n",
      "Valid metric =  0.3835\n",
      "=====================================================================\n",
      "CV-results train 1: 0.8899 +/- 0.007\n",
      "CV-results train 2: 0.943 +/- 0.005\n",
      "CV-results valid 1: 0.4937 +/- 0.053\n",
      "CV-results valid 2: 0.5072 +/- 0.067\n",
      "OOF-score 1 = 0.5012\n",
      "OOF-score 2 = 0.5172\n",
      "CV-results evraz metric train: 0.5379+/- 0.005\n",
      "CV-results evraz metric valid: 0.3769+/- 0.013\n",
      "Fold: 1, train-observations = 1650, valid-observations = 413\n",
      "train-score 1 = 0.8906, train-score 2 = 0.9415\n",
      "valid-score 1 = 0.439, valid-score 2 = 0.3766\n",
      "Train metric =  0.5385\n",
      "Valid metric =  0.3535\n",
      "=====================================================================\n",
      "Fold: 2, train-observations = 1650, valid-observations = 413\n",
      "train-score 1 = 0.877, train-score 2 = 0.937\n",
      "valid-score 1 = 0.5159, valid-score 2 = 0.5548\n",
      "Train metric =  0.5258\n",
      "Valid metric =  0.3874\n",
      "=====================================================================\n",
      "Fold: 3, train-observations = 1650, valid-observations = 413\n",
      "train-score 1 = 0.8821, train-score 2 = 0.9443\n",
      "valid-score 1 = 0.5072, valid-score 2 = 0.525\n",
      "Train metric =  0.54\n",
      "Valid metric =  0.3838\n",
      "=====================================================================\n",
      "Fold: 4, train-observations = 1651, valid-observations = 412\n",
      "train-score 1 = 0.8821, train-score 2 = 0.9398\n",
      "valid-score 1 = 0.5758, valid-score 2 = 0.5581\n",
      "Train metric =  0.5279\n",
      "Valid metric =  0.3896\n",
      "=====================================================================\n"
     ]
    },
    {
     "name": "stderr",
     "output_type": "stream",
     "text": [
      "\r",
      " 36%|█████████████████████████████▉                                                     | 9/25 [00:16<00:26,  1.68s/it]"
     ]
    },
    {
     "name": "stdout",
     "output_type": "stream",
     "text": [
      "Fold: 5, train-observations = 1651, valid-observations = 412\n",
      "train-score 1 = 0.8869, train-score 2 = 0.9288\n",
      "valid-score 1 = 0.461, valid-score 2 = 0.5283\n",
      "Train metric =  0.5257\n",
      "Valid metric =  0.3968\n",
      "=====================================================================\n",
      "CV-results train 1: 0.8837 +/- 0.005\n",
      "CV-results train 2: 0.9383 +/- 0.005\n",
      "CV-results valid 1: 0.4998 +/- 0.048\n",
      "CV-results valid 2: 0.5086 +/- 0.067\n",
      "OOF-score 1 = 0.5064\n",
      "OOF-score 2 = 0.5185\n",
      "CV-results evraz metric train: 0.5316+/- 0.006\n",
      "CV-results evraz metric valid: 0.3822+/- 0.015\n",
      "Fold: 1, train-observations = 1650, valid-observations = 413\n",
      "train-score 1 = 0.8842, train-score 2 = 0.9354\n",
      "valid-score 1 = 0.4372, valid-score 2 = 0.3743\n",
      "Train metric =  0.5348\n",
      "Valid metric =  0.3511\n",
      "=====================================================================\n",
      "Fold: 2, train-observations = 1650, valid-observations = 413\n",
      "train-score 1 = 0.8698, train-score 2 = 0.9306\n",
      "valid-score 1 = 0.5209, valid-score 2 = 0.5567\n",
      "Train metric =  0.52\n",
      "Valid metric =  0.3826\n",
      "=====================================================================\n",
      "Fold: 3, train-observations = 1650, valid-observations = 413\n",
      "train-score 1 = 0.8702, train-score 2 = 0.9414\n",
      "valid-score 1 = 0.5133, valid-score 2 = 0.5216\n",
      "Train metric =  0.5327\n",
      "Valid metric =  0.3814\n",
      "=====================================================================\n",
      "Fold: 4, train-observations = 1651, valid-observations = 412\n",
      "train-score 1 = 0.8713, train-score 2 = 0.9366\n",
      "valid-score 1 = 0.5778, valid-score 2 = 0.5544\n",
      "Train metric =  0.527\n",
      "Valid metric =  0.3932\n",
      "=====================================================================\n"
     ]
    },
    {
     "name": "stderr",
     "output_type": "stream",
     "text": [
      "\r",
      " 40%|████████████████████████████████▊                                                 | 10/25 [00:17<00:24,  1.66s/it]"
     ]
    },
    {
     "name": "stdout",
     "output_type": "stream",
     "text": [
      "Fold: 5, train-observations = 1651, valid-observations = 412\n",
      "train-score 1 = 0.8802, train-score 2 = 0.9259\n",
      "valid-score 1 = 0.461, valid-score 2 = 0.5221\n",
      "Train metric =  0.53\n",
      "Valid metric =  0.392\n",
      "=====================================================================\n",
      "CV-results train 1: 0.8752 +/- 0.006\n",
      "CV-results train 2: 0.934 +/- 0.005\n",
      "CV-results valid 1: 0.502 +/- 0.049\n",
      "CV-results valid 2: 0.5058 +/- 0.067\n",
      "OOF-score 1 = 0.5088\n",
      "OOF-score 2 = 0.5159\n",
      "CV-results evraz metric train: 0.5289+/- 0.005\n",
      "CV-results evraz metric valid: 0.38+/- 0.015\n",
      "Fold: 1, train-observations = 1650, valid-observations = 413\n",
      "train-score 1 = 0.8688, train-score 2 = 0.9328\n",
      "valid-score 1 = 0.4359, valid-score 2 = 0.3738\n",
      "Train metric =  0.5252\n",
      "Valid metric =  0.3438\n",
      "=====================================================================\n",
      "Fold: 2, train-observations = 1650, valid-observations = 413\n",
      "train-score 1 = 0.8616, train-score 2 = 0.9271\n",
      "valid-score 1 = 0.5211, valid-score 2 = 0.5549\n",
      "Train metric =  0.5176\n",
      "Valid metric =  0.3814\n",
      "=====================================================================\n",
      "Fold: 3, train-observations = 1650, valid-observations = 413\n",
      "train-score 1 = 0.8592, train-score 2 = 0.9386\n",
      "valid-score 1 = 0.508, valid-score 2 = 0.5228\n",
      "Train metric =  0.5276\n",
      "Valid metric =  0.3753\n",
      "=====================================================================\n",
      "Fold: 4, train-observations = 1651, valid-observations = 412\n",
      "train-score 1 = 0.865, train-score 2 = 0.9341\n",
      "valid-score 1 = 0.5757, valid-score 2 = 0.5535\n",
      "Train metric =  0.5203\n",
      "Valid metric =  0.3871\n",
      "=====================================================================\n"
     ]
    },
    {
     "name": "stderr",
     "output_type": "stream",
     "text": [
      "\r",
      " 44%|████████████████████████████████████                                              | 11/25 [00:19<00:22,  1.59s/it]"
     ]
    },
    {
     "name": "stdout",
     "output_type": "stream",
     "text": [
      "Fold: 5, train-observations = 1651, valid-observations = 412\n",
      "train-score 1 = 0.8704, train-score 2 = 0.9219\n",
      "valid-score 1 = 0.4598, valid-score 2 = 0.5229\n",
      "Train metric =  0.5227\n",
      "Valid metric =  0.3932\n",
      "=====================================================================\n",
      "CV-results train 1: 0.865 +/- 0.004\n",
      "CV-results train 2: 0.9309 +/- 0.006\n",
      "CV-results valid 1: 0.5001 +/- 0.049\n",
      "CV-results valid 2: 0.5056 +/- 0.067\n",
      "OOF-score 1 = 0.5067\n",
      "OOF-score 2 = 0.5157\n",
      "CV-results evraz metric train: 0.5227+/- 0.004\n",
      "CV-results evraz metric valid: 0.3762+/- 0.017\n",
      "Fold: 1, train-observations = 1650, valid-observations = 413\n",
      "train-score 1 = 0.8544, train-score 2 = 0.9311\n",
      "valid-score 1 = 0.4382, valid-score 2 = 0.3727\n",
      "Train metric =  0.5209\n",
      "Valid metric =  0.3426\n",
      "=====================================================================\n",
      "Fold: 2, train-observations = 1650, valid-observations = 413\n",
      "train-score 1 = 0.841, train-score 2 = 0.9196\n",
      "valid-score 1 = 0.5217, valid-score 2 = 0.5538\n",
      "Train metric =  0.5039\n",
      "Valid metric =  0.3923\n",
      "=====================================================================\n",
      "Fold: 3, train-observations = 1650, valid-observations = 413\n",
      "train-score 1 = 0.8454, train-score 2 = 0.9341\n",
      "valid-score 1 = 0.5012, valid-score 2 = 0.5205\n",
      "Train metric =  0.5164\n",
      "Valid metric =  0.3801\n",
      "=====================================================================\n",
      "Fold: 4, train-observations = 1651, valid-observations = 412\n",
      "train-score 1 = 0.852, train-score 2 = 0.9292\n",
      "valid-score 1 = 0.5769, valid-score 2 = 0.552\n",
      "Train metric =  0.5145\n",
      "Valid metric =  0.3871\n",
      "=====================================================================\n"
     ]
    },
    {
     "name": "stderr",
     "output_type": "stream",
     "text": [
      "\r",
      " 48%|███████████████████████████████████████▎                                          | 12/25 [00:20<00:19,  1.53s/it]"
     ]
    },
    {
     "name": "stdout",
     "output_type": "stream",
     "text": [
      "Fold: 5, train-observations = 1651, valid-observations = 412\n",
      "train-score 1 = 0.8611, train-score 2 = 0.915\n",
      "valid-score 1 = 0.4584, valid-score 2 = 0.5133\n",
      "Train metric =  0.5133\n",
      "Valid metric =  0.3823\n",
      "=====================================================================\n",
      "CV-results train 1: 0.8508 +/- 0.007\n",
      "CV-results train 2: 0.9258 +/- 0.007\n",
      "CV-results valid 1: 0.4993 +/- 0.049\n",
      "CV-results valid 2: 0.5025 +/- 0.067\n",
      "OOF-score 1 = 0.506\n",
      "OOF-score 2 = 0.5126\n",
      "CV-results evraz metric train: 0.5138+/- 0.006\n",
      "CV-results evraz metric valid: 0.3769+/- 0.018\n",
      "Fold: 1, train-observations = 1650, valid-observations = 413\n",
      "train-score 1 = 0.8371, train-score 2 = 0.9271\n",
      "valid-score 1 = 0.4332, valid-score 2 = 0.3706\n",
      "Train metric =  0.5118\n",
      "Valid metric =  0.345\n",
      "=====================================================================\n",
      "Fold: 2, train-observations = 1650, valid-observations = 413\n",
      "train-score 1 = 0.8275, train-score 2 = 0.917\n",
      "valid-score 1 = 0.5132, valid-score 2 = 0.5556\n",
      "Train metric =  0.5012\n",
      "Valid metric =  0.3935\n",
      "=====================================================================\n",
      "Fold: 3, train-observations = 1650, valid-observations = 413\n",
      "train-score 1 = 0.8276, train-score 2 = 0.9292\n",
      "valid-score 1 = 0.4841, valid-score 2 = 0.5209\n",
      "Train metric =  0.5039\n",
      "Valid metric =  0.3765\n",
      "=====================================================================\n",
      "Fold: 4, train-observations = 1651, valid-observations = 412\n",
      "train-score 1 = 0.83, train-score 2 = 0.925\n",
      "valid-score 1 = 0.5765, valid-score 2 = 0.5523\n",
      "Train metric =  0.5055\n",
      "Valid metric =  0.3944\n",
      "=====================================================================\n"
     ]
    },
    {
     "name": "stderr",
     "output_type": "stream",
     "text": [
      "\r",
      " 52%|██████████████████████████████████████████▋                                       | 13/25 [00:21<00:17,  1.45s/it]"
     ]
    },
    {
     "name": "stdout",
     "output_type": "stream",
     "text": [
      "Fold: 5, train-observations = 1651, valid-observations = 412\n",
      "train-score 1 = 0.8438, train-score 2 = 0.9092\n",
      "valid-score 1 = 0.4611, valid-score 2 = 0.5117\n",
      "Train metric =  0.5033\n",
      "Valid metric =  0.3762\n",
      "=====================================================================\n",
      "CV-results train 1: 0.8332 +/- 0.006\n",
      "CV-results train 2: 0.9215 +/- 0.007\n",
      "CV-results valid 1: 0.4936 +/- 0.049\n",
      "CV-results valid 2: 0.5022 +/- 0.068\n",
      "OOF-score 1 = 0.5\n",
      "OOF-score 2 = 0.5125\n",
      "CV-results evraz metric train: 0.5052+/- 0.004\n",
      "CV-results evraz metric valid: 0.3771+/- 0.018\n",
      "Fold: 1, train-observations = 1650, valid-observations = 413\n",
      "train-score 1 = 0.8084, train-score 2 = 0.9216\n",
      "valid-score 1 = 0.4167, valid-score 2 = 0.3666\n",
      "Train metric =  0.4942\n",
      "Valid metric =  0.339\n",
      "=====================================================================\n",
      "Fold: 2, train-observations = 1650, valid-observations = 413\n",
      "train-score 1 = 0.8016, train-score 2 = 0.9138\n",
      "valid-score 1 = 0.5042, valid-score 2 = 0.5556\n",
      "Train metric =  0.4888\n",
      "Valid metric =  0.3959\n",
      "=====================================================================\n",
      "Fold: 3, train-observations = 1650, valid-observations = 413\n",
      "train-score 1 = 0.8015, train-score 2 = 0.9247\n",
      "valid-score 1 = 0.4756, valid-score 2 = 0.5192\n",
      "Train metric =  0.4882\n",
      "Valid metric =  0.3814\n",
      "=====================================================================\n",
      "Fold: 4, train-observations = 1651, valid-observations = 412\n",
      "train-score 1 = 0.8009, train-score 2 = 0.9212\n",
      "valid-score 1 = 0.571, valid-score 2 = 0.552\n",
      "Train metric =  0.49\n",
      "Valid metric =  0.3835\n",
      "=====================================================================\n"
     ]
    },
    {
     "name": "stderr",
     "output_type": "stream",
     "text": [
      "\r",
      " 56%|█████████████████████████████████████████████▉                                    | 14/25 [00:23<00:15,  1.38s/it]"
     ]
    },
    {
     "name": "stdout",
     "output_type": "stream",
     "text": [
      "Fold: 5, train-observations = 1651, valid-observations = 412\n",
      "train-score 1 = 0.8193, train-score 2 = 0.902\n",
      "valid-score 1 = 0.4619, valid-score 2 = 0.5088\n",
      "Train metric =  0.4891\n",
      "Valid metric =  0.3799\n",
      "=====================================================================\n",
      "CV-results train 1: 0.8063 +/- 0.007\n",
      "CV-results train 2: 0.9167 +/- 0.008\n",
      "CV-results valid 1: 0.4859 +/- 0.051\n",
      "CV-results valid 2: 0.5005 +/- 0.069\n",
      "OOF-score 1 = 0.4917\n",
      "OOF-score 2 = 0.5108\n",
      "CV-results evraz metric train: 0.4901+/- 0.002\n",
      "CV-results evraz metric valid: 0.3759+/- 0.019\n",
      "Fold: 1, train-observations = 1650, valid-observations = 413\n",
      "train-score 1 = 0.7764, train-score 2 = 0.9138\n",
      "valid-score 1 = 0.3772, valid-score 2 = 0.3608\n",
      "Train metric =  0.4764\n",
      "Valid metric =  0.3293\n",
      "=====================================================================\n",
      "Fold: 2, train-observations = 1650, valid-observations = 413\n",
      "train-score 1 = 0.7674, train-score 2 = 0.9093\n",
      "valid-score 1 = 0.4884, valid-score 2 = 0.5551\n",
      "Train metric =  0.4724\n",
      "Valid metric =  0.3826\n",
      "=====================================================================\n",
      "Fold: 3, train-observations = 1650, valid-observations = 413\n",
      "train-score 1 = 0.7703, train-score 2 = 0.9189\n",
      "valid-score 1 = 0.4542, valid-score 2 = 0.5169\n",
      "Train metric =  0.4736\n",
      "Valid metric =  0.3729\n",
      "=====================================================================\n",
      "Fold: 4, train-observations = 1651, valid-observations = 412\n",
      "train-score 1 = 0.7658, train-score 2 = 0.9151\n",
      "valid-score 1 = 0.5554, valid-score 2 = 0.553\n",
      "Train metric =  0.4761\n",
      "Valid metric =  0.3835\n",
      "=====================================================================\n"
     ]
    },
    {
     "name": "stderr",
     "output_type": "stream",
     "text": [
      "\r",
      " 60%|█████████████████████████████████████████████████▏                                | 15/25 [00:24<00:13,  1.31s/it]"
     ]
    },
    {
     "name": "stdout",
     "output_type": "stream",
     "text": [
      "Fold: 5, train-observations = 1651, valid-observations = 412\n",
      "train-score 1 = 0.7852, train-score 2 = 0.8948\n",
      "valid-score 1 = 0.4466, valid-score 2 = 0.5026\n",
      "Train metric =  0.4703\n",
      "Valid metric =  0.3835\n",
      "=====================================================================\n",
      "CV-results train 1: 0.773 +/- 0.007\n",
      "CV-results train 2: 0.9104 +/- 0.008\n",
      "CV-results valid 1: 0.4643 +/- 0.058\n",
      "CV-results valid 2: 0.4977 +/- 0.071\n",
      "OOF-score 1 = 0.4698\n",
      "OOF-score 2 = 0.5081\n",
      "CV-results evraz metric train: 0.4738+/- 0.002\n",
      "CV-results evraz metric valid: 0.3703+/- 0.021\n",
      "Fold: 1, train-observations = 1650, valid-observations = 413\n",
      "train-score 1 = 0.7186, train-score 2 = 0.9045\n",
      "valid-score 1 = 0.3202, valid-score 2 = 0.3621\n",
      "Train metric =  0.453\n",
      "Valid metric =  0.3148\n",
      "=====================================================================\n",
      "Fold: 2, train-observations = 1650, valid-observations = 413\n",
      "train-score 1 = 0.7149, train-score 2 = 0.9038\n",
      "valid-score 1 = 0.4471, valid-score 2 = 0.555\n",
      "Train metric =  0.4545\n",
      "Valid metric =  0.3777\n",
      "=====================================================================\n",
      "Fold: 3, train-observations = 1650, valid-observations = 413\n",
      "train-score 1 = 0.7133, train-score 2 = 0.9133\n",
      "valid-score 1 = 0.4024, valid-score 2 = 0.5105\n",
      "Train metric =  0.4494\n",
      "Valid metric =  0.3584\n",
      "=====================================================================\n",
      "Fold: 4, train-observations = 1651, valid-observations = 412\n",
      "train-score 1 = 0.7029, train-score 2 = 0.907\n",
      "valid-score 1 = 0.5295, valid-score 2 = 0.5533\n",
      "Train metric =  0.4518\n",
      "Valid metric =  0.3896\n",
      "=====================================================================\n"
     ]
    },
    {
     "name": "stderr",
     "output_type": "stream",
     "text": [
      "\r",
      " 64%|████████████████████████████████████████████████████▍                             | 16/25 [00:25<00:11,  1.26s/it]"
     ]
    },
    {
     "name": "stdout",
     "output_type": "stream",
     "text": [
      "Fold: 5, train-observations = 1651, valid-observations = 412\n",
      "train-score 1 = 0.73, train-score 2 = 0.8902\n",
      "valid-score 1 = 0.4169, valid-score 2 = 0.4991\n",
      "Train metric =  0.4431\n",
      "Valid metric =  0.3811\n",
      "=====================================================================\n",
      "CV-results train 1: 0.7159 +/- 0.009\n",
      "CV-results train 2: 0.9038 +/- 0.008\n",
      "CV-results valid 1: 0.4232 +/- 0.068\n",
      "CV-results valid 2: 0.496 +/- 0.071\n",
      "OOF-score 1 = 0.4285\n",
      "OOF-score 2 = 0.5063\n",
      "CV-results evraz metric train: 0.4504+/- 0.004\n",
      "CV-results evraz metric valid: 0.3643+/- 0.027\n",
      "Fold: 1, train-observations = 1650, valid-observations = 413\n",
      "train-score 1 = 0.6148, train-score 2 = 0.8989\n",
      "valid-score 1 = 0.2292, valid-score 2 = 0.354\n",
      "Train metric =  0.42\n",
      "Valid metric =  0.3002\n",
      "=====================================================================\n",
      "Fold: 2, train-observations = 1650, valid-observations = 413\n",
      "train-score 1 = 0.622, train-score 2 = 0.8965\n",
      "valid-score 1 = 0.3769, valid-score 2 = 0.5486\n",
      "Train metric =  0.4239\n",
      "Valid metric =  0.362\n",
      "=====================================================================\n",
      "Fold: 3, train-observations = 1650, valid-observations = 413\n",
      "train-score 1 = 0.6156, train-score 2 = 0.907\n",
      "valid-score 1 = 0.3081, valid-score 2 = 0.5092\n",
      "Train metric =  0.4179\n",
      "Valid metric =  0.3487\n",
      "=====================================================================\n",
      "Fold: 4, train-observations = 1651, valid-observations = 412\n",
      "train-score 1 = 0.5991, train-score 2 = 0.9014\n",
      "valid-score 1 = 0.4767, valid-score 2 = 0.5527\n",
      "Train metric =  0.4116\n",
      "Valid metric =  0.3738\n",
      "=====================================================================\n",
      "Fold: 5, train-observations = 1651, valid-observations = 412\n",
      "train-score 1 = 0.6362, train-score 2 = 0.8825\n",
      "valid-score 1 = 0.3231, valid-score 2 = 0.4876\n",
      "Train metric =  0.4104\n",
      "Valid metric =  0.3604\n",
      "=====================================================================\n"
     ]
    },
    {
     "name": "stderr",
     "output_type": "stream",
     "text": [
      "\r",
      " 68%|███████████████████████████████████████████████████████▊                          | 17/25 [00:26<00:09,  1.20s/it]"
     ]
    },
    {
     "name": "stdout",
     "output_type": "stream",
     "text": [
      "CV-results train 1: 0.6175 +/- 0.012\n",
      "CV-results train 2: 0.8973 +/- 0.008\n",
      "CV-results valid 1: 0.3428 +/- 0.082\n",
      "CV-results valid 2: 0.4904 +/- 0.072\n",
      "OOF-score 1 = 0.3499\n",
      "OOF-score 2 = 0.5009\n",
      "CV-results evraz metric train: 0.4167+/- 0.005\n",
      "CV-results evraz metric valid: 0.349+/- 0.026\n",
      "Fold: 1, train-observations = 1650, valid-observations = 413\n",
      "train-score 1 = 0.4443, train-score 2 = 0.8864\n",
      "valid-score 1 = 0.0371, valid-score 2 = 0.3451\n",
      "Train metric =  0.3682\n",
      "Valid metric =  0.2627\n",
      "=====================================================================\n",
      "Fold: 2, train-observations = 1650, valid-observations = 413\n",
      "train-score 1 = 0.4535, train-score 2 = 0.8907\n",
      "valid-score 1 = 0.2146, valid-score 2 = 0.5456\n",
      "Train metric =  0.3676\n",
      "Valid metric =  0.316\n",
      "=====================================================================\n",
      "Fold: 3, train-observations = 1650, valid-observations = 413\n",
      "train-score 1 = 0.4425, train-score 2 = 0.895\n",
      "valid-score 1 = 0.115, valid-score 2 = 0.5038\n",
      "Train metric =  0.3667\n",
      "Valid metric =  0.3099\n",
      "=====================================================================\n",
      "Fold: 4, train-observations = 1651, valid-observations = 412\n",
      "train-score 1 = 0.4201, train-score 2 = 0.8942\n",
      "valid-score 1 = 0.3664, valid-score 2 = 0.5583\n",
      "Train metric =  0.3592\n",
      "Valid metric =  0.3434\n",
      "=====================================================================\n"
     ]
    },
    {
     "name": "stderr",
     "output_type": "stream",
     "text": [
      "\r",
      " 72%|███████████████████████████████████████████████████████████                       | 18/25 [00:27<00:08,  1.15s/it]"
     ]
    },
    {
     "name": "stdout",
     "output_type": "stream",
     "text": [
      "Fold: 5, train-observations = 1651, valid-observations = 412\n",
      "train-score 1 = 0.4754, train-score 2 = 0.8698\n",
      "valid-score 1 = 0.1324, valid-score 2 = 0.4789\n",
      "Train metric =  0.3592\n",
      "Valid metric =  0.3228\n",
      "=====================================================================\n",
      "CV-results train 1: 0.4471 +/- 0.018\n",
      "CV-results train 2: 0.8872 +/- 0.009\n",
      "CV-results valid 1: 0.1731 +/- 0.112\n",
      "CV-results valid 2: 0.4863 +/- 0.076\n",
      "OOF-score 1 = 0.1838\n",
      "OOF-score 2 = 0.4968\n",
      "CV-results evraz metric train: 0.3642+/- 0.004\n",
      "CV-results evraz metric valid: 0.311+/- 0.027\n",
      "Fold: 1, train-observations = 1650, valid-observations = 413\n",
      "train-score 1 = 0.1157, train-score 2 = 0.8757\n",
      "valid-score 1 = -0.2656, valid-score 2 = 0.3231\n",
      "Train metric =  0.2758\n",
      "Valid metric =  0.201\n",
      "=====================================================================\n",
      "Fold: 2, train-observations = 1650, valid-observations = 413\n",
      "train-score 1 = 0.1322, train-score 2 = 0.8783\n",
      "valid-score 1 = -0.0805, valid-score 2 = 0.5427\n",
      "Train metric =  0.2724\n",
      "Valid metric =  0.2385\n",
      "=====================================================================\n",
      "Fold: 3, train-observations = 1650, valid-observations = 413\n",
      "train-score 1 = 0.1163, train-score 2 = 0.8839\n",
      "valid-score 1 = -0.2148, valid-score 2 = 0.4997\n",
      "Train metric =  0.2724\n",
      "Valid metric =  0.2228\n",
      "=====================================================================\n"
     ]
    },
    {
     "name": "stderr",
     "output_type": "stream",
     "text": [
      "\r",
      " 76%|██████████████████████████████████████████████████████████████▎                   | 19/25 [00:28<00:06,  1.07s/it]"
     ]
    },
    {
     "name": "stdout",
     "output_type": "stream",
     "text": [
      "Fold: 4, train-observations = 1651, valid-observations = 412\n",
      "train-score 1 = 0.0765, train-score 2 = 0.8786\n",
      "valid-score 1 = 0.1414, valid-score 2 = 0.561\n",
      "Train metric =  0.2735\n",
      "Valid metric =  0.2427\n",
      "=====================================================================\n",
      "Fold: 5, train-observations = 1651, valid-observations = 412\n",
      "train-score 1 = 0.1622, train-score 2 = 0.8548\n",
      "valid-score 1 = -0.1931, valid-score 2 = 0.5224\n",
      "Train metric =  0.268\n",
      "Valid metric =  0.2694\n",
      "=====================================================================\n",
      "CV-results train 1: 0.1206 +/- 0.028\n",
      "CV-results train 2: 0.8743 +/- 0.01\n",
      "CV-results valid 1: -0.1225 +/- 0.145\n",
      "CV-results valid 2: 0.4898 +/- 0.086\n",
      "OOF-score 1 = -0.1063\n",
      "OOF-score 2 = 0.5\n",
      "CV-results evraz metric train: 0.2724+/- 0.003\n",
      "CV-results evraz metric valid: 0.2349+/- 0.023\n",
      "Fold: 1, train-observations = 1650, valid-observations = 413\n",
      "train-score 1 = -0.5183, train-score 2 = 0.859\n",
      "valid-score 1 = -0.9058, valid-score 2 = 0.2869\n",
      "Train metric =  0.1452\n",
      "Valid metric =  0.1041\n",
      "=====================================================================\n",
      "Fold: 2, train-observations = 1650, valid-observations = 413\n",
      "train-score 1 = -0.4882, train-score 2 = 0.8617\n",
      "valid-score 1 = -0.7047, valid-score 2 = 0.5389\n",
      "Train metric =  0.1558\n",
      "Valid metric =  0.1356\n",
      "=====================================================================\n",
      "Fold: 3, train-observations = 1650, valid-observations = 413\n",
      "train-score 1 = -0.527, train-score 2 = 0.864\n",
      "valid-score 1 = -0.8535, valid-score 2 = 0.4986\n",
      "Train metric =  0.1564\n",
      "Valid metric =  0.1283\n",
      "=====================================================================\n",
      "Fold: 4, train-observations = 1651, valid-observations = 412\n",
      "train-score 1 = -0.5866, train-score 2 = 0.8587\n",
      "valid-score 1 = -0.3038, valid-score 2 = 0.5594\n",
      "Train metric =  0.1466\n",
      "Valid metric =  0.1699\n",
      "=====================================================================\n"
     ]
    },
    {
     "name": "stderr",
     "output_type": "stream",
     "text": [
      "\r",
      " 80%|█████████████████████████████████████████████████████████████████▌                | 20/25 [00:29<00:05,  1.01s/it]"
     ]
    },
    {
     "name": "stdout",
     "output_type": "stream",
     "text": [
      "Fold: 5, train-observations = 1651, valid-observations = 412\n",
      "train-score 1 = -0.4205, train-score 2 = 0.839\n",
      "valid-score 1 = -1.0389, valid-score 2 = 0.4982\n",
      "Train metric =  0.1569\n",
      "Valid metric =  0.1505\n",
      "=====================================================================\n",
      "CV-results train 1: -0.5081 +/- 0.054\n",
      "CV-results train 2: 0.8565 +/- 0.009\n",
      "CV-results valid 1: -0.7613 +/- 0.253\n",
      "CV-results valid 2: 0.4764 +/- 0.098\n",
      "OOF-score 1 = -0.7222\n",
      "OOF-score 2 = 0.4876\n",
      "CV-results evraz metric train: 0.1521+/- 0.005\n",
      "CV-results evraz metric valid: 0.1377+/- 0.022\n",
      "Fold: 1, train-observations = 1650, valid-observations = 413\n",
      "train-score 1 = -1.7842, train-score 2 = 0.834\n",
      "valid-score 1 = -2.2773, valid-score 2 = 0.2943\n",
      "Train metric =  0.057\n",
      "Valid metric =  0.0569\n",
      "=====================================================================\n",
      "Fold: 2, train-observations = 1650, valid-observations = 413\n",
      "train-score 1 = -1.713, train-score 2 = 0.8303\n",
      "valid-score 1 = -1.9575, valid-score 2 = 0.5216\n",
      "Train metric =  0.0718\n",
      "Valid metric =  0.0508\n",
      "=====================================================================\n",
      "Fold: 3, train-observations = 1650, valid-observations = 413\n",
      "train-score 1 = -1.7851, train-score 2 = 0.8332\n",
      "valid-score 1 = -2.0865, valid-score 2 = 0.4791\n",
      "Train metric =  0.0582\n",
      "Valid metric =  0.0533\n",
      "=====================================================================\n"
     ]
    },
    {
     "name": "stderr",
     "output_type": "stream",
     "text": [
      "\r",
      " 84%|████████████████████████████████████████████████████████████████████▉             | 21/25 [00:30<00:03,  1.05it/s]"
     ]
    },
    {
     "name": "stdout",
     "output_type": "stream",
     "text": [
      "Fold: 4, train-observations = 1651, valid-observations = 412\n",
      "train-score 1 = -1.8986, train-score 2 = 0.8297\n",
      "valid-score 1 = -1.2898, valid-score 2 = 0.5491\n",
      "Train metric =  0.0581\n",
      "Valid metric =  0.0765\n",
      "=====================================================================\n",
      "Fold: 5, train-observations = 1651, valid-observations = 412\n",
      "train-score 1 = -1.5804, train-score 2 = 0.8155\n",
      "valid-score 1 = -2.5401, valid-score 2 = 0.4667\n",
      "Train metric =  0.0621\n",
      "Valid metric =  0.0534\n",
      "=====================================================================\n",
      "CV-results train 1: -1.7523 +/- 0.105\n",
      "CV-results train 2: 0.8285 +/- 0.007\n",
      "CV-results valid 1: -2.0302 +/- 0.419\n",
      "CV-results valid 2: 0.4622 +/- 0.089\n",
      "OOF-score 1 = -1.9611\n",
      "OOF-score 2 = 0.4731\n",
      "CV-results evraz metric train: 0.0614+/- 0.005\n",
      "CV-results evraz metric valid: 0.0582+/- 0.009\n",
      "Fold: 1, train-observations = 1650, valid-observations = 413\n",
      "train-score 1 = -4.3084, train-score 2 = 0.7941\n",
      "valid-score 1 = -4.6913, valid-score 2 = 0.216\n",
      "Train metric =  0.0339\n",
      "Valid metric =  0.0266\n",
      "=====================================================================\n",
      "Fold: 2, train-observations = 1650, valid-observations = 413\n",
      "train-score 1 = -4.1586, train-score 2 = 0.7866\n",
      "valid-score 1 = -4.4964, valid-score 2 = 0.489\n",
      "Train metric =  0.0321\n",
      "Valid metric =  0.0291\n",
      "=====================================================================\n",
      "Fold: 3, train-observations = 1650, valid-observations = 413\n",
      "train-score 1 = -4.3103, train-score 2 = 0.7909\n",
      "valid-score 1 = -4.5743, valid-score 2 = 0.4449\n",
      "Train metric =  0.0367\n",
      "Valid metric =  0.0242\n",
      "=====================================================================\n",
      "Fold: 4, train-observations = 1651, valid-observations = 412\n",
      "train-score 1 = -4.5078, train-score 2 = 0.7853\n",
      "valid-score 1 = -3.2442, valid-score 2 = 0.5218\n",
      "Train metric =  0.0342\n",
      "Valid metric =  0.0267\n",
      "=====================================================================\n"
     ]
    },
    {
     "name": "stderr",
     "output_type": "stream",
     "text": [
      "\r",
      " 88%|████████████████████████████████████████████████████████████████████████▏         | 22/25 [00:30<00:02,  1.12it/s]"
     ]
    },
    {
     "name": "stdout",
     "output_type": "stream",
     "text": [
      "Fold: 5, train-observations = 1651, valid-observations = 412\n",
      "train-score 1 = -3.8946, train-score 2 = 0.7715\n",
      "valid-score 1 = -5.8792, valid-score 2 = 0.4155\n",
      "Train metric =  0.0373\n",
      "Valid metric =  0.0231\n",
      "=====================================================================\n",
      "CV-results train 1: -4.2359 +/- 0.204\n",
      "CV-results train 2: 0.7857 +/- 0.008\n",
      "CV-results valid 1: -4.577 +/- 0.836\n",
      "CV-results valid 2: 0.4174 +/- 0.107\n",
      "OOF-score 1 = -4.4224\n",
      "OOF-score 2 = 0.4299\n",
      "CV-results evraz metric train: 0.0348+/- 0.002\n",
      "CV-results evraz metric valid: 0.0259+/- 0.002\n",
      "Fold: 1, train-observations = 1650, valid-observations = 413\n",
      "train-score 1 = -9.3869, train-score 2 = 0.722\n",
      "valid-score 1 = -9.083, valid-score 2 = 0.0865\n",
      "Train metric =  0.0221\n",
      "Valid metric =  0.0085\n",
      "=====================================================================\n",
      "Fold: 2, train-observations = 1650, valid-observations = 413\n",
      "train-score 1 = -9.072, train-score 2 = 0.7105\n",
      "valid-score 1 = -9.7279, valid-score 2 = 0.4386\n",
      "Train metric =  0.0258\n",
      "Valid metric =  0.0194\n",
      "=====================================================================\n",
      "Fold: 3, train-observations = 1650, valid-observations = 413\n",
      "train-score 1 = -9.3947, train-score 2 = 0.709\n",
      "valid-score 1 = -9.3378, valid-score 2 = 0.3886\n",
      "Train metric =  0.0242\n",
      "Valid metric =  0.0121\n",
      "=====================================================================\n"
     ]
    },
    {
     "name": "stderr",
     "output_type": "stream",
     "text": [
      "\r",
      " 92%|███████████████████████████████████████████████████████████████████████████▍      | 23/25 [00:31<00:01,  1.22it/s]"
     ]
    },
    {
     "name": "stdout",
     "output_type": "stream",
     "text": [
      "Fold: 4, train-observations = 1651, valid-observations = 412\n",
      "train-score 1 = -9.7804, train-score 2 = 0.7167\n",
      "valid-score 1 = -7.2593, valid-score 2 = 0.4775\n",
      "Train metric =  0.0245\n",
      "Valid metric =  0.017\n",
      "=====================================================================\n",
      "Fold: 5, train-observations = 1651, valid-observations = 412\n",
      "train-score 1 = -8.565, train-score 2 = 0.6969\n",
      "valid-score 1 = -12.9347, valid-score 2 = 0.3277\n",
      "Train metric =  0.0236\n",
      "Valid metric =  0.0109\n",
      "=====================================================================\n",
      "CV-results train 1: -9.2398 +/- 0.405\n",
      "CV-results train 2: 0.711 +/- 0.008\n",
      "CV-results valid 1: -9.6685 +/- 1.84\n",
      "CV-results valid 2: 0.3438 +/- 0.138\n",
      "OOF-score 1 = -9.3134\n",
      "OOF-score 2 = 0.3588\n",
      "CV-results evraz metric train: 0.0241+/- 0.001\n",
      "CV-results evraz metric valid: 0.0136+/- 0.004\n",
      "Fold: 1, train-observations = 1650, valid-observations = 413\n",
      "train-score 1 = -19.6816, train-score 2 = 0.5833\n",
      "valid-score 1 = -18.6249, valid-score 2 = -0.1149\n",
      "Train metric =  0.013\n",
      "Valid metric =  0.0036\n",
      "=====================================================================\n",
      "Fold: 2, train-observations = 1650, valid-observations = 413\n",
      "train-score 1 = -19.0289, train-score 2 = 0.5703\n",
      "valid-score 1 = -20.4294, valid-score 2 = 0.2957\n",
      "Train metric =  0.017\n",
      "Valid metric =  0.0097\n",
      "=====================================================================\n",
      "Fold: 3, train-observations = 1650, valid-observations = 413\n",
      "train-score 1 = -19.6918, train-score 2 = 0.5635\n",
      "valid-score 1 = -19.0084, valid-score 2 = 0.2866\n",
      "Train metric =  0.0173\n",
      "Valid metric =  0.0169\n",
      "=====================================================================\n",
      "Fold: 4, train-observations = 1651, valid-observations = 412\n",
      "train-score 1 = -20.4662, train-score 2 = 0.5826\n",
      "valid-score 1 = -15.5658, valid-score 2 = 0.3869\n",
      "Train metric =  0.0164\n",
      "Valid metric =  0.0109\n",
      "=====================================================================\n"
     ]
    },
    {
     "name": "stderr",
     "output_type": "stream",
     "text": [
      "\r",
      " 96%|██████████████████████████████████████████████████████████████████████████████▋   | 24/25 [00:32<00:00,  1.31it/s]"
     ]
    },
    {
     "name": "stdout",
     "output_type": "stream",
     "text": [
      "Fold: 5, train-observations = 1651, valid-observations = 412\n",
      "train-score 1 = -18.0262, train-score 2 = 0.5552\n",
      "valid-score 1 = -27.2838, valid-score 2 = 0.201\n",
      "Train metric =  0.0157\n",
      "Valid metric =  0.0109\n",
      "=====================================================================\n",
      "CV-results train 1: -19.3789 +/- 0.815\n",
      "CV-results train 2: 0.571 +/- 0.011\n",
      "CV-results valid 1: -20.1825 +/- 3.889\n",
      "CV-results valid 2: 0.2111 +/- 0.173\n",
      "OOF-score 1 = -19.4329\n",
      "OOF-score 2 = 0.2291\n",
      "CV-results evraz metric train: 0.0159+/- 0.002\n",
      "CV-results evraz metric valid: 0.0104+/- 0.004\n",
      "Fold: 1, train-observations = 1650, valid-observations = 413\n",
      "train-score 1 = -40.6086, train-score 2 = 0.3393\n",
      "valid-score 1 = -37.8203, valid-score 2 = -0.429\n",
      "Train metric =  0.0103\n",
      "Valid metric =  0.0036\n",
      "=====================================================================\n",
      "Fold: 2, train-observations = 1650, valid-observations = 413\n",
      "train-score 1 = -39.2731, train-score 2 = 0.3105\n",
      "valid-score 1 = -42.1527, valid-score 2 = 0.0472\n",
      "Train metric =  0.0136\n",
      "Valid metric =  0.0109\n",
      "=====================================================================\n",
      "Fold: 3, train-observations = 1650, valid-observations = 413\n",
      "train-score 1 = -40.6013, train-score 2 = 0.2984\n",
      "valid-score 1 = -38.3398, valid-score 2 = 0.0923\n",
      "Train metric =  0.0115\n",
      "Valid metric =  0.0061\n",
      "=====================================================================\n",
      "Fold: 4, train-observations = 1651, valid-observations = 412\n",
      "train-score 1 = -42.1649, train-score 2 = 0.3304\n",
      "valid-score 1 = -32.3896, valid-score 2 = 0.1594\n",
      "Train metric =  0.0103\n",
      "Valid metric =  0.0085\n",
      "=====================================================================\n",
      "Fold: 5, train-observations = 1651, valid-observations = 412\n",
      "train-score 1 = -37.2073, train-score 2 = 0.3051\n",
      "valid-score 1 = -56.8989, valid-score 2 = -0.0866\n",
      "Train metric =  0.0106\n",
      "Valid metric =  0.0036\n",
      "=====================================================================\n"
     ]
    },
    {
     "name": "stderr",
     "output_type": "stream",
     "text": [
      "100%|██████████████████████████████████████████████████████████████████████████████████| 25/25 [00:32<00:00,  1.31s/it]"
     ]
    },
    {
     "name": "stdout",
     "output_type": "stream",
     "text": [
      "CV-results train 1: -39.9711 +/- 1.658\n",
      "CV-results train 2: 0.3167 +/- 0.016\n",
      "CV-results valid 1: -41.5203 +/- 8.295\n",
      "CV-results valid 2: -0.0433 +/- 0.209\n",
      "OOF-score 1 = -39.933\n",
      "OOF-score 2 = -0.0188\n",
      "CV-results evraz metric train: 0.0113+/- 0.001\n",
      "CV-results evraz metric valid: 0.0065+/- 0.003\n"
     ]
    },
    {
     "name": "stderr",
     "output_type": "stream",
     "text": [
      "\n"
     ]
    },
    {
     "data": {
      "image/png": "[encoded data removed]",
      "text/plain": [
       "<Figure size 432x288 with 1 Axes>"
      ]
     },
     "metadata": {
      "needs_background": "light"
     },
     "output_type": "display_data"
    }
   ],
   "source": [
    "cv_strategy = KFold(n_splits=5)\n",
    "\n",
    "n_trees, current_score_train, current_score_valid  = [], [], []\n",
    "\n",
    "for i in tqdm(range(30, 5, -1)):\n",
    "    estimators, oof_score_1, oof_score_2, fold_train_scores_1, fold_train_scores_2, fold_valid_scores_1, \\\n",
    "    fold_valid_scores_2, oof_predictions_1, oof_predictions_2, test_pred_1, test_pred_2,\\\n",
    "    evraz_metric_train_scores_mean, evraz_metric_valid_scores_mean = make_cross_validation(\n",
    "        target_train.drop(['TST', 'C', 'DATA_ZAMERA'], axis=1), \n",
    "        target_train['TST'], \n",
    "        target_train['C'],\n",
    "        test.drop(['DATA_ZAMERA'], axis=1),\n",
    "        estimator_1=xgb.XGBRegressor(n_estimators=i, random_state=1), \n",
    "        estimator_2=xgb.XGBRegressor(n_estimators=i, random_state=1),\n",
    "        metric=r2_score, \n",
    "        cv_strategy=cv_strategy,\n",
    "        error_to_be_outlier=None,\n",
    "    )\n",
    "    \n",
    "    current_score_train.append(evraz_metric_train_scores_mean)\n",
    "    current_score_valid.append(evraz_metric_valid_scores_mean)\n",
    "    n_trees.append(i)\n",
    "\n",
    "plt.plot(n_trees, current_score_train)\n",
    "plt.plot(n_trees, current_score_valid)\n",
    "plt.xlabel('n_estimators')\n",
    "plt.ylabel('score')\n",
    "plt.show();"
   ]
  },
  {
   "cell_type": "code",
   "execution_count": 56,
   "id": "60061dc6",
   "metadata": {
    "ExecuteTime": {
     "end_time": "2021-11-01T17:03:24.052319Z",
     "start_time": "2021-11-01T17:03:22.324258Z"
    }
   },
   "outputs": [
    {
     "name": "stdout",
     "output_type": "stream",
     "text": [
      "Fold: 1, train-observations = 1650, valid-observations = 413\n",
      "train-score 1 = 0.8084, train-score 2 = 0.9216\n",
      "valid-score 1 = 0.4167, valid-score 2 = 0.3666\n",
      "Train metric =  0.4942\n",
      "Valid metric =  0.339\n",
      "=====================================================================\n",
      "Fold: 2, train-observations = 1650, valid-observations = 413\n",
      "train-score 1 = 0.8016, train-score 2 = 0.9138\n",
      "valid-score 1 = 0.5042, valid-score 2 = 0.5556\n",
      "Train metric =  0.4888\n",
      "Valid metric =  0.3959\n",
      "=====================================================================\n",
      "Fold: 3, train-observations = 1650, valid-observations = 413\n",
      "train-score 1 = 0.8015, train-score 2 = 0.9247\n",
      "valid-score 1 = 0.4756, valid-score 2 = 0.5192\n",
      "Train metric =  0.4882\n",
      "Valid metric =  0.3814\n",
      "=====================================================================\n",
      "Fold: 4, train-observations = 1651, valid-observations = 412\n",
      "train-score 1 = 0.8009, train-score 2 = 0.9212\n",
      "valid-score 1 = 0.571, valid-score 2 = 0.552\n",
      "Train metric =  0.49\n",
      "Valid metric =  0.3835\n",
      "=====================================================================\n",
      "Fold: 5, train-observations = 1651, valid-observations = 412\n",
      "train-score 1 = 0.8193, train-score 2 = 0.902\n",
      "valid-score 1 = 0.4619, valid-score 2 = 0.5088\n",
      "Train metric =  0.4891\n",
      "Valid metric =  0.3799\n",
      "=====================================================================\n",
      "CV-results train 1: 0.8063 +/- 0.007\n",
      "CV-results train 2: 0.9167 +/- 0.008\n",
      "CV-results valid 1: 0.4859 +/- 0.051\n",
      "CV-results valid 2: 0.5005 +/- 0.069\n",
      "OOF-score 1 = 0.4917\n",
      "OOF-score 2 = 0.5108\n",
      "CV-results evraz metric train: 0.4901+/- 0.002\n",
      "CV-results evraz metric valid: 0.3759+/- 0.019\n"
     ]
    }
   ],
   "source": [
    "cv_strategy = KFold(n_splits=5)\n",
    "#cv_strategy = StratifiedKFold(n_splits=5)\n",
    "\n",
    "n_trees=17\n",
    "\n",
    "estimators, oof_score_1, oof_score_2, fold_train_scores_1, fold_train_scores_2, fold_valid_scores_1, \\\n",
    "fold_valid_scores_2, oof_predictions_1, oof_predictions_2, test_pred_1, test_pred_2,\\\n",
    "evraz_metric_train_scores_mean, evraz_metric_valid_scores_mean = make_cross_validation(\n",
    "    target_train.drop(['TST', 'C', 'DATA_ZAMERA'], axis=1), \n",
    "    target_train['TST'], \n",
    "    target_train['C'],\n",
    "    test.drop(['DATA_ZAMERA'], axis=1),\n",
    "    estimator_1=xgb.XGBRegressor(n_estimators=n_trees, random_state=1), \n",
    "    estimator_2=xgb.XGBRegressor(n_estimators=n_trees, random_state=1),\n",
    "    metric=r2_score, \n",
    "    cv_strategy=cv_strategy,\n",
    "    error_to_be_outlier=None,\n",
    ")"
   ]
  },
  {
   "cell_type": "code",
   "execution_count": 63,
   "id": "e5f1e79f",
   "metadata": {
    "ExecuteTime": {
     "end_time": "2021-11-01T17:13:54.136041Z",
     "start_time": "2021-11-01T17:13:54.121082Z"
    }
   },
   "outputs": [
    {
     "name": "stdout",
     "output_type": "stream",
     "text": [
      "(780, 3)\n"
     ]
    },
    {
     "data": {
      "text/html": [
       "<div>\n",
       "<style scoped>\n",
       "    .dataframe tbody tr th:only-of-type {\n",
       "        vertical-align: middle;\n",
       "    }\n",
       "\n",
       "    .dataframe tbody tr th {\n",
       "        vertical-align: top;\n",
       "    }\n",
       "\n",
       "    .dataframe thead th {\n",
       "        text-align: right;\n",
       "    }\n",
       "</style>\n",
       "<table border=\"1\" class=\"dataframe\">\n",
       "  <thead>\n",
       "    <tr style=\"text-align: right;\">\n",
       "      <th></th>\n",
       "      <th>NPLV</th>\n",
       "      <th>TST</th>\n",
       "      <th>C</th>\n",
       "    </tr>\n",
       "  </thead>\n",
       "  <tbody>\n",
       "    <tr>\n",
       "      <th>0</th>\n",
       "      <td>512324</td>\n",
       "      <td>1639.152954</td>\n",
       "      <td>0.044117</td>\n",
       "    </tr>\n",
       "    <tr>\n",
       "      <th>1</th>\n",
       "      <td>512327</td>\n",
       "      <td>1668.477661</td>\n",
       "      <td>0.068015</td>\n",
       "    </tr>\n",
       "    <tr>\n",
       "      <th>2</th>\n",
       "      <td>512328</td>\n",
       "      <td>1645.428833</td>\n",
       "      <td>0.082462</td>\n",
       "    </tr>\n",
       "    <tr>\n",
       "      <th>3</th>\n",
       "      <td>512331</td>\n",
       "      <td>1657.093994</td>\n",
       "      <td>0.089369</td>\n",
       "    </tr>\n",
       "    <tr>\n",
       "      <th>4</th>\n",
       "      <td>512333</td>\n",
       "      <td>1664.839233</td>\n",
       "      <td>0.095829</td>\n",
       "    </tr>\n",
       "  </tbody>\n",
       "</table>\n",
       "</div>"
      ],
      "text/plain": [
       "     NPLV          TST         C\n",
       "0  512324  1639.152954  0.044117\n",
       "1  512327  1668.477661  0.068015\n",
       "2  512328  1645.428833  0.082462\n",
       "3  512331  1657.093994  0.089369\n",
       "4  512333  1664.839233  0.095829"
      ]
     },
     "execution_count": 63,
     "metadata": {},
     "output_type": "execute_result"
    }
   ],
   "source": [
    "submit = pd.concat([test['NPLV'], \n",
    "                    pd.Series(test_pred_1).rename('TST'), \n",
    "                    pd.Series(np.exp(test_pred_2)).rename('C')\n",
    "                   ],\n",
    "                   axis=1\n",
    "                  )\n",
    "print(submit.shape)\n",
    "submit.head(5)"
   ]
  },
  {
   "cell_type": "code",
   "execution_count": 64,
   "id": "673f5c1a",
   "metadata": {
    "ExecuteTime": {
     "end_time": "2021-11-01T17:14:19.025068Z",
     "start_time": "2021-11-01T17:14:19.016093Z"
    }
   },
   "outputs": [
    {
     "name": "stdout",
     "output_type": "stream",
     "text": [
      "File name:  xgb_n-tree-17_all_feats_log10_exp_2021-11-01_20-14-19.csv\n",
      "\n",
      " File saved to disk!\n"
     ]
    }
   ],
   "source": [
    "# получаем текущие дату и время\n",
    "now = datetime.now().strftime(\"%Y-%m-%d_%H-%M-%S\")\n",
    "\n",
    "# создаём путь и имя файла с датой и временем\n",
    "# file_name = f'../../data/kaggle/gb_competitive_data_analysis/lgb_predictions_{now}.csv'\n",
    "file_name = f'xgb_n-tree-17_all_feats_log10_exp_{now}.csv'\n",
    "print('File name: ', file_name)\n",
    "\n",
    "# сохраняем в csv\n",
    "submit.to_csv(file_name, index=False, encoding='utf-8')\n",
    "print('\\n File saved to disk!')"
   ]
  },
  {
   "cell_type": "code",
   "execution_count": null,
   "id": "643e9fe9",
   "metadata": {},
   "outputs": [],
   "source": []
  },
  {
   "cell_type": "code",
   "execution_count": null,
   "id": "98b9b33f",
   "metadata": {},
   "outputs": [],
   "source": []
  },
  {
   "cell_type": "code",
   "execution_count": null,
   "id": "22021707",
   "metadata": {},
   "outputs": [],
   "source": []
  },
  {
   "cell_type": "code",
   "execution_count": null,
   "id": "bf67b587",
   "metadata": {},
   "outputs": [],
   "source": []
  },
  {
   "cell_type": "code",
   "execution_count": null,
   "id": "a870111e",
   "metadata": {},
   "outputs": [],
   "source": []
  },
  {
   "cell_type": "code",
   "execution_count": null,
   "id": "f41e3c73",
   "metadata": {},
   "outputs": [],
   "source": []
  }
 ],
 "metadata": {
  "kernelspec": {
   "display_name": "Python 3",
   "language": "python",
   "name": "python3"
  },
  "language_info": {
   "codemirror_mode": {
    "name": "ipython",
    "version": 3
   },
   "file_extension": ".py",
   "mimetype": "text/x-python",
   "name": "python",
   "nbconvert_exporter": "python",
   "pygments_lexer": "ipython3",
   "version": "3.8.8"
  },
  "toc": {
   "base_numbering": 1,
   "nav_menu": {},
   "number_sections": false,
   "sideBar": true,
   "skip_h1_title": false,
   "title_cell": "Table of Contents",
   "title_sidebar": "Contents",
   "toc_cell": false,
   "toc_position": {},
   "toc_section_display": true,
   "toc_window_display": false
  },
  "varInspector": {
   "cols": {
    "lenName": 16,
    "lenType": 16,
    "lenVar": 40
   },
   "kernels_config": {
    "python": {
     "delete_cmd_postfix": "",
     "delete_cmd_prefix": "del ",
     "library": "var_list.py",
     "varRefreshCmd": "print(var_dic_list())"
    },
    "r": {
     "delete_cmd_postfix": ") ",
     "delete_cmd_prefix": "rm(",
     "library": "var_list.r",
     "varRefreshCmd": "cat(var_dic_list()) "
    }
   },
   "types_to_exclude": [
    "module",
    "function",
    "builtin_function_or_method",
    "instance",
    "_Feature"
   ],
   "window_display": false
  }
 },
 "nbformat": 4,
 "nbformat_minor": 5
}
