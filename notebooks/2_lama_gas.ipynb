{
 "cells": [
  {
   "cell_type": "markdown",
   "id": "875e3b86",
   "metadata": {},
   "source": [
    "Evraz AI Challenge\n",
    "---\n",
    "\n",
    "29-31 октября 2021 г\n",
    "\n",
    "**Трек 1: Продуйте металл через Data Science**. \n",
    "\n",
    "Разработайте модель, прогнозирующую содержание углерода и температуру чугуна во время процесса продувки металла\n",
    "\n",
    "https://hackathon.evraz.com/"
   ]
  },
  {
   "cell_type": "markdown",
   "id": "62ea6c51",
   "metadata": {
    "ExecuteTime": {
     "end_time": "2021-10-29T15:36:54.436442Z",
     "start_time": "2021-10-29T15:36:54.421487Z"
    }
   },
   "source": [
    "**Исходные данные**\n",
    "\n",
    "В рамках этой задачи вам будут даны данные о продувки чугуна в цехе:\n",
    "\n",
    "- **produv** – Таблица содержит основные параметры продувки - мгновенный расход кислорода и положение (наклон) фурмы\n",
    "- **lom** – Вместе с чугуном в фурму засыпают лом - это часть технологического процесса. Таблица содержит вес и тип ломов, использованных в каждой плавке\n",
    "- **plavki** – Основная информация по плавке - характеристики плавки (марка металла, направление разливки) и оборудования\n",
    "- **sip** – Сыпучие добавки, используемые в технологическом процессе\n",
    "- **chronom** – хронометраж - время начала и конца различных операций во время плавки\n",
    "- **chugun** – Химический состав и характеристики чугуна\n",
    "- **gas** – Информация об анализе отходящих газов\n",
    "- **target** – целевые значения\n",
    "\n",
    "\n",
    "- [описание задачи](https://russianhackers.notion.site/1-Data-Science-4cc89ba42de1429bbac316f59bf07a3b)\n",
    "- [атрибутный состав данных](https://russianhackers.notion.site/a685453e4fde41a098d9ad704d906e21?v=c482eaeb8f3143d58763b4b9008f1fec)\n",
    "\n",
    "### Light Auto ML\n",
    "\n",
    "Light Auto ML House prices regression: https://www.kaggle.com/alexryzhkov/lightautoml-houseprices-love\n",
    "\n",
    "Light Auto ML Titanic classification: https://towardsdatascience.com/lightautoml-preset-usage-tutorial-2cce7da6f936 и https://www.kaggle.com/alexryzhkov/lightautoml-extreme-short-titanic-solution"
   ]
  },
  {
   "cell_type": "code",
   "execution_count": 1,
   "id": "f275c239",
   "metadata": {
    "ExecuteTime": {
     "end_time": "2021-10-30T21:22:58.036544Z",
     "start_time": "2021-10-30T21:22:52.430332Z"
    }
   },
   "outputs": [],
   "source": [
    "import pandas as pd\n",
    "import numpy as np\n",
    "from pathlib2 import Path\n",
    "import matplotlib.pyplot as plt\n",
    "from typing import List, Tuple, Optional\n",
    "import re\n",
    "import lightgbm as lgb\n",
    "from datetime import datetime\n",
    "\n",
    "from lightautoml.automl.presets.tabular_presets import TabularAutoML\n",
    "from lightautoml.tasks import Task"
   ]
  },
  {
   "cell_type": "markdown",
   "id": "25ff1338",
   "metadata": {},
   "source": [
    "## Функции"
   ]
  },
  {
   "cell_type": "markdown",
   "id": "64d7b407",
   "metadata": {},
   "source": [
    "# Загрузка данных"
   ]
  },
  {
   "cell_type": "code",
   "execution_count": 2,
   "id": "41462e0c",
   "metadata": {
    "ExecuteTime": {
     "end_time": "2021-10-30T21:22:58.082387Z",
     "start_time": "2021-10-30T21:22:58.070419Z"
    }
   },
   "outputs": [],
   "source": [
    "path = Path('../../../data/2021_evraz')"
   ]
  },
  {
   "cell_type": "code",
   "execution_count": 3,
   "id": "5b7cfe36",
   "metadata": {
    "ExecuteTime": {
     "end_time": "2021-10-30T21:22:58.176136Z",
     "start_time": "2021-10-30T21:22:58.116296Z"
    },
    "scrolled": true
   },
   "outputs": [
    {
     "name": "stdout",
     "output_type": "stream",
     "text": [
      "(2063, 156)\n"
     ]
    },
    {
     "data": {
      "text/html": [
       "<div>\n",
       "<style scoped>\n",
       "    .dataframe tbody tr th:only-of-type {\n",
       "        vertical-align: middle;\n",
       "    }\n",
       "\n",
       "    .dataframe tbody tr th {\n",
       "        vertical-align: top;\n",
       "    }\n",
       "\n",
       "    .dataframe thead th {\n",
       "        text-align: right;\n",
       "    }\n",
       "</style>\n",
       "<table border=\"1\" class=\"dataframe\">\n",
       "  <thead>\n",
       "    <tr style=\"text-align: right;\">\n",
       "      <th></th>\n",
       "      <th>NPLV</th>\n",
       "      <th>TST</th>\n",
       "      <th>C</th>\n",
       "      <th>VES</th>\n",
       "      <th>T_x</th>\n",
       "      <th>SI</th>\n",
       "      <th>MN</th>\n",
       "      <th>S</th>\n",
       "      <th>P</th>\n",
       "      <th>CR</th>\n",
       "      <th>...</th>\n",
       "      <th>CO</th>\n",
       "      <th>CO2</th>\n",
       "      <th>H2</th>\n",
       "      <th>N2</th>\n",
       "      <th>O2</th>\n",
       "      <th>O2_pressure</th>\n",
       "      <th>T_y</th>\n",
       "      <th>Tfurmy1</th>\n",
       "      <th>Tfurmy2</th>\n",
       "      <th>V_y</th>\n",
       "    </tr>\n",
       "  </thead>\n",
       "  <tbody>\n",
       "    <tr>\n",
       "      <th>0</th>\n",
       "      <td>510008</td>\n",
       "      <td>1690</td>\n",
       "      <td>0.060</td>\n",
       "      <td>263700.0</td>\n",
       "      <td>1396.0</td>\n",
       "      <td>0.44</td>\n",
       "      <td>0.22</td>\n",
       "      <td>0.023</td>\n",
       "      <td>0.097</td>\n",
       "      <td>0.03</td>\n",
       "      <td>...</td>\n",
       "      <td>41565.325339</td>\n",
       "      <td>34936.083312</td>\n",
       "      <td>768.890272</td>\n",
       "      <td>156085.786997</td>\n",
       "      <td>20685.819848</td>\n",
       "      <td>34191.508527</td>\n",
       "      <td>1.297695e+06</td>\n",
       "      <td>0.0</td>\n",
       "      <td>0.0</td>\n",
       "      <td>5.549806e+08</td>\n",
       "    </tr>\n",
       "    <tr>\n",
       "      <th>1</th>\n",
       "      <td>510009</td>\n",
       "      <td>1683</td>\n",
       "      <td>0.097</td>\n",
       "      <td>264500.0</td>\n",
       "      <td>1419.0</td>\n",
       "      <td>0.68</td>\n",
       "      <td>0.20</td>\n",
       "      <td>0.017</td>\n",
       "      <td>0.087</td>\n",
       "      <td>0.02</td>\n",
       "      <td>...</td>\n",
       "      <td>45281.138686</td>\n",
       "      <td>46447.033896</td>\n",
       "      <td>644.923314</td>\n",
       "      <td>255833.503217</td>\n",
       "      <td>43381.103374</td>\n",
       "      <td>55089.194445</td>\n",
       "      <td>1.484196e+06</td>\n",
       "      <td>0.0</td>\n",
       "      <td>0.0</td>\n",
       "      <td>8.571479e+08</td>\n",
       "    </tr>\n",
       "    <tr>\n",
       "      <th>2</th>\n",
       "      <td>510010</td>\n",
       "      <td>1662</td>\n",
       "      <td>0.091</td>\n",
       "      <td>263800.0</td>\n",
       "      <td>1384.0</td>\n",
       "      <td>0.56</td>\n",
       "      <td>0.26</td>\n",
       "      <td>0.017</td>\n",
       "      <td>0.096</td>\n",
       "      <td>0.03</td>\n",
       "      <td>...</td>\n",
       "      <td>42363.861283</td>\n",
       "      <td>36527.960575</td>\n",
       "      <td>898.578333</td>\n",
       "      <td>179821.062543</td>\n",
       "      <td>25108.381611</td>\n",
       "      <td>40258.212162</td>\n",
       "      <td>1.406451e+06</td>\n",
       "      <td>0.0</td>\n",
       "      <td>0.0</td>\n",
       "      <td>6.190075e+08</td>\n",
       "    </tr>\n",
       "  </tbody>\n",
       "</table>\n",
       "<p>3 rows × 156 columns</p>\n",
       "</div>"
      ],
      "text/plain": [
       "     NPLV   TST      C       VES     T_x    SI    MN      S      P    CR  ...  \\\n",
       "0  510008  1690  0.060  263700.0  1396.0  0.44  0.22  0.023  0.097  0.03  ...   \n",
       "1  510009  1683  0.097  264500.0  1419.0  0.68  0.20  0.017  0.087  0.02  ...   \n",
       "2  510010  1662  0.091  263800.0  1384.0  0.56  0.26  0.017  0.096  0.03  ...   \n",
       "\n",
       "             CO           CO2          H2             N2            O2  \\\n",
       "0  41565.325339  34936.083312  768.890272  156085.786997  20685.819848   \n",
       "1  45281.138686  46447.033896  644.923314  255833.503217  43381.103374   \n",
       "2  42363.861283  36527.960575  898.578333  179821.062543  25108.381611   \n",
       "\n",
       "    O2_pressure           T_y  Tfurmy1  Tfurmy2           V_y  \n",
       "0  34191.508527  1.297695e+06      0.0      0.0  5.549806e+08  \n",
       "1  55089.194445  1.484196e+06      0.0      0.0  8.571479e+08  \n",
       "2  40258.212162  1.406451e+06      0.0      0.0  6.190075e+08  \n",
       "\n",
       "[3 rows x 156 columns]"
      ]
     },
     "execution_count": 3,
     "metadata": {},
     "output_type": "execute_result"
    }
   ],
   "source": [
    "target_train = pd.read_pickle(path.joinpath('target_train_with_gas_wo_sip.pkl'))\n",
    "print(target_train.shape)\n",
    "target_train.head(3)"
   ]
  },
  {
   "cell_type": "code",
   "execution_count": 4,
   "id": "f480d62b",
   "metadata": {
    "ExecuteTime": {
     "end_time": "2021-10-30T21:22:58.333357Z",
     "start_time": "2021-10-30T21:22:58.272495Z"
    }
   },
   "outputs": [
    {
     "name": "stdout",
     "output_type": "stream",
     "text": [
      "(780, 154)\n"
     ]
    },
    {
     "data": {
      "text/html": [
       "<div>\n",
       "<style scoped>\n",
       "    .dataframe tbody tr th:only-of-type {\n",
       "        vertical-align: middle;\n",
       "    }\n",
       "\n",
       "    .dataframe tbody tr th {\n",
       "        vertical-align: top;\n",
       "    }\n",
       "\n",
       "    .dataframe thead th {\n",
       "        text-align: right;\n",
       "    }\n",
       "</style>\n",
       "<table border=\"1\" class=\"dataframe\">\n",
       "  <thead>\n",
       "    <tr style=\"text-align: right;\">\n",
       "      <th></th>\n",
       "      <th>NPLV</th>\n",
       "      <th>VES</th>\n",
       "      <th>T_x</th>\n",
       "      <th>SI</th>\n",
       "      <th>MN</th>\n",
       "      <th>S</th>\n",
       "      <th>P</th>\n",
       "      <th>CR</th>\n",
       "      <th>NI</th>\n",
       "      <th>CU</th>\n",
       "      <th>...</th>\n",
       "      <th>CO</th>\n",
       "      <th>CO2</th>\n",
       "      <th>H2</th>\n",
       "      <th>N2</th>\n",
       "      <th>O2</th>\n",
       "      <th>O2_pressure</th>\n",
       "      <th>T_y</th>\n",
       "      <th>Tfurmy1</th>\n",
       "      <th>Tfurmy2</th>\n",
       "      <th>V_y</th>\n",
       "    </tr>\n",
       "  </thead>\n",
       "  <tbody>\n",
       "    <tr>\n",
       "      <th>0</th>\n",
       "      <td>512324</td>\n",
       "      <td>240100.0</td>\n",
       "      <td>1355.0</td>\n",
       "      <td>0.46</td>\n",
       "      <td>0.33</td>\n",
       "      <td>0.027</td>\n",
       "      <td>0.079</td>\n",
       "      <td>0.01</td>\n",
       "      <td>0.01</td>\n",
       "      <td>0.02</td>\n",
       "      <td>...</td>\n",
       "      <td>33000.858450</td>\n",
       "      <td>39568.252094</td>\n",
       "      <td>491.993420</td>\n",
       "      <td>266109.431543</td>\n",
       "      <td>42125.515482</td>\n",
       "      <td>57597.302491</td>\n",
       "      <td>1.470844e+06</td>\n",
       "      <td>101464.968297</td>\n",
       "      <td>115924.772553</td>\n",
       "      <td>8.093785e+08</td>\n",
       "    </tr>\n",
       "    <tr>\n",
       "      <th>1</th>\n",
       "      <td>512327</td>\n",
       "      <td>266400.0</td>\n",
       "      <td>1390.0</td>\n",
       "      <td>0.30</td>\n",
       "      <td>0.33</td>\n",
       "      <td>0.032</td>\n",
       "      <td>0.099</td>\n",
       "      <td>0.01</td>\n",
       "      <td>0.00</td>\n",
       "      <td>0.00</td>\n",
       "      <td>...</td>\n",
       "      <td>42393.120691</td>\n",
       "      <td>44885.938358</td>\n",
       "      <td>336.973542</td>\n",
       "      <td>213638.833867</td>\n",
       "      <td>25216.409921</td>\n",
       "      <td>52825.081793</td>\n",
       "      <td>1.304937e+06</td>\n",
       "      <td>85182.232605</td>\n",
       "      <td>97366.753531</td>\n",
       "      <td>7.628391e+08</td>\n",
       "    </tr>\n",
       "    <tr>\n",
       "      <th>2</th>\n",
       "      <td>512328</td>\n",
       "      <td>270200.0</td>\n",
       "      <td>1373.0</td>\n",
       "      <td>0.00</td>\n",
       "      <td>0.00</td>\n",
       "      <td>0.000</td>\n",
       "      <td>0.000</td>\n",
       "      <td>0.00</td>\n",
       "      <td>0.00</td>\n",
       "      <td>0.00</td>\n",
       "      <td>...</td>\n",
       "      <td>68213.928782</td>\n",
       "      <td>63900.041993</td>\n",
       "      <td>721.388411</td>\n",
       "      <td>379327.183482</td>\n",
       "      <td>56372.427382</td>\n",
       "      <td>92308.091414</td>\n",
       "      <td>1.698940e+06</td>\n",
       "      <td>147624.033960</td>\n",
       "      <td>164204.121230</td>\n",
       "      <td>1.331792e+09</td>\n",
       "    </tr>\n",
       "  </tbody>\n",
       "</table>\n",
       "<p>3 rows × 154 columns</p>\n",
       "</div>"
      ],
      "text/plain": [
       "     NPLV       VES     T_x    SI    MN      S      P    CR    NI    CU  ...  \\\n",
       "0  512324  240100.0  1355.0  0.46  0.33  0.027  0.079  0.01  0.01  0.02  ...   \n",
       "1  512327  266400.0  1390.0  0.30  0.33  0.032  0.099  0.01  0.00  0.00  ...   \n",
       "2  512328  270200.0  1373.0  0.00  0.00  0.000  0.000  0.00  0.00  0.00  ...   \n",
       "\n",
       "             CO           CO2          H2             N2            O2  \\\n",
       "0  33000.858450  39568.252094  491.993420  266109.431543  42125.515482   \n",
       "1  42393.120691  44885.938358  336.973542  213638.833867  25216.409921   \n",
       "2  68213.928782  63900.041993  721.388411  379327.183482  56372.427382   \n",
       "\n",
       "    O2_pressure           T_y        Tfurmy1        Tfurmy2           V_y  \n",
       "0  57597.302491  1.470844e+06  101464.968297  115924.772553  8.093785e+08  \n",
       "1  52825.081793  1.304937e+06   85182.232605   97366.753531  7.628391e+08  \n",
       "2  92308.091414  1.698940e+06  147624.033960  164204.121230  1.331792e+09  \n",
       "\n",
       "[3 rows x 154 columns]"
      ]
     },
     "execution_count": 4,
     "metadata": {},
     "output_type": "execute_result"
    }
   ],
   "source": [
    "test = pd.read_pickle(path.joinpath('test_with_gas_wo_sip.pkl'))\n",
    "print(test.shape)\n",
    "test.head(3)"
   ]
  },
  {
   "cell_type": "code",
   "execution_count": 5,
   "id": "ccba8f28",
   "metadata": {
    "ExecuteTime": {
     "end_time": "2021-10-30T21:23:00.998375Z",
     "start_time": "2021-10-30T21:23:00.977428Z"
    }
   },
   "outputs": [
    {
     "data": {
      "text/plain": [
       "Index(['NPLV', 'TST', 'C', 'VES', 'T_x', 'SI', 'MN', 'S', 'P', 'CR',\n",
       "       ...\n",
       "       'CO', 'CO2', 'H2', 'N2', 'O2', 'O2_pressure', 'T_y', 'Tfurmy1',\n",
       "       'Tfurmy2', 'V_y'],\n",
       "      dtype='object', length=156)"
      ]
     },
     "execution_count": 5,
     "metadata": {},
     "output_type": "execute_result"
    }
   ],
   "source": [
    "target_train.columns"
   ]
  },
  {
   "cell_type": "code",
   "execution_count": 6,
   "id": "b8bb62a2",
   "metadata": {
    "ExecuteTime": {
     "end_time": "2021-10-30T21:23:27.030306Z",
     "start_time": "2021-10-30T21:23:26.982407Z"
    }
   },
   "outputs": [],
   "source": [
    "automl_t = TabularAutoML(task = Task('reg', metric = 'mse'))\n",
    "automl_c = TabularAutoML(task = Task('reg', metric = 'mse'))"
   ]
  },
  {
   "cell_type": "code",
   "execution_count": 7,
   "id": "7369cbe1",
   "metadata": {
    "ExecuteTime": {
     "end_time": "2021-10-30T21:42:37.452881Z",
     "start_time": "2021-10-30T21:23:30.350279Z"
    }
   },
   "outputs": [],
   "source": [
    "oof_pred_t = automl_t.fit_predict(target_train,  roles = {'target': 'TST', 'drop': 'C'})\n",
    "oof_pred_c = automl_c.fit_predict(target_train,  roles = {'target': 'C', 'drop': 'TST'})"
   ]
  },
  {
   "cell_type": "code",
   "execution_count": 8,
   "id": "7447da19",
   "metadata": {
    "ExecuteTime": {
     "end_time": "2021-10-30T21:42:38.268707Z",
     "start_time": "2021-10-30T21:42:37.549579Z"
    }
   },
   "outputs": [],
   "source": [
    "test_pred_t = automl_t.predict(test)\n",
    "test_pred_c = automl_c.predict(test)"
   ]
  },
  {
   "cell_type": "code",
   "execution_count": 9,
   "id": "50afcde1",
   "metadata": {
    "ExecuteTime": {
     "end_time": "2021-10-30T21:42:38.424145Z",
     "start_time": "2021-10-30T21:42:38.409158Z"
    }
   },
   "outputs": [
    {
     "data": {
      "text/html": [
       "<div>\n",
       "<style scoped>\n",
       "    .dataframe tbody tr th:only-of-type {\n",
       "        vertical-align: middle;\n",
       "    }\n",
       "\n",
       "    .dataframe tbody tr th {\n",
       "        vertical-align: top;\n",
       "    }\n",
       "\n",
       "    .dataframe thead th {\n",
       "        text-align: right;\n",
       "    }\n",
       "</style>\n",
       "<table border=\"1\" class=\"dataframe\">\n",
       "  <thead>\n",
       "    <tr style=\"text-align: right;\">\n",
       "      <th></th>\n",
       "      <th>NPLV</th>\n",
       "      <th>TST</th>\n",
       "      <th>C</th>\n",
       "    </tr>\n",
       "  </thead>\n",
       "  <tbody>\n",
       "    <tr>\n",
       "      <th>0</th>\n",
       "      <td>512324</td>\n",
       "      <td>1655.895630</td>\n",
       "      <td>0.055032</td>\n",
       "    </tr>\n",
       "    <tr>\n",
       "      <th>1</th>\n",
       "      <td>512327</td>\n",
       "      <td>1661.177612</td>\n",
       "      <td>0.075187</td>\n",
       "    </tr>\n",
       "    <tr>\n",
       "      <th>2</th>\n",
       "      <td>512328</td>\n",
       "      <td>1654.020264</td>\n",
       "      <td>0.106143</td>\n",
       "    </tr>\n",
       "    <tr>\n",
       "      <th>3</th>\n",
       "      <td>512331</td>\n",
       "      <td>1653.269165</td>\n",
       "      <td>0.128139</td>\n",
       "    </tr>\n",
       "    <tr>\n",
       "      <th>4</th>\n",
       "      <td>512333</td>\n",
       "      <td>1658.896362</td>\n",
       "      <td>0.090677</td>\n",
       "    </tr>\n",
       "    <tr>\n",
       "      <th>...</th>\n",
       "      <td>...</td>\n",
       "      <td>...</td>\n",
       "      <td>...</td>\n",
       "    </tr>\n",
       "    <tr>\n",
       "      <th>775</th>\n",
       "      <td>513369</td>\n",
       "      <td>1662.528809</td>\n",
       "      <td>0.091954</td>\n",
       "    </tr>\n",
       "    <tr>\n",
       "      <th>776</th>\n",
       "      <td>513370</td>\n",
       "      <td>1663.140259</td>\n",
       "      <td>0.130896</td>\n",
       "    </tr>\n",
       "    <tr>\n",
       "      <th>777</th>\n",
       "      <td>513371</td>\n",
       "      <td>1666.706177</td>\n",
       "      <td>0.108258</td>\n",
       "    </tr>\n",
       "    <tr>\n",
       "      <th>778</th>\n",
       "      <td>513372</td>\n",
       "      <td>1671.117920</td>\n",
       "      <td>0.113524</td>\n",
       "    </tr>\n",
       "    <tr>\n",
       "      <th>779</th>\n",
       "      <td>513374</td>\n",
       "      <td>1672.472778</td>\n",
       "      <td>0.110733</td>\n",
       "    </tr>\n",
       "  </tbody>\n",
       "</table>\n",
       "<p>780 rows × 3 columns</p>\n",
       "</div>"
      ],
      "text/plain": [
       "       NPLV          TST         C\n",
       "0    512324  1655.895630  0.055032\n",
       "1    512327  1661.177612  0.075187\n",
       "2    512328  1654.020264  0.106143\n",
       "3    512331  1653.269165  0.128139\n",
       "4    512333  1658.896362  0.090677\n",
       "..      ...          ...       ...\n",
       "775  513369  1662.528809  0.091954\n",
       "776  513370  1663.140259  0.130896\n",
       "777  513371  1666.706177  0.108258\n",
       "778  513372  1671.117920  0.113524\n",
       "779  513374  1672.472778  0.110733\n",
       "\n",
       "[780 rows x 3 columns]"
      ]
     },
     "execution_count": 9,
     "metadata": {},
     "output_type": "execute_result"
    }
   ],
   "source": [
    "pd.DataFrame({'NPLV': test['NPLV'],\n",
    "              'TST':test_pred_t.data[:, 0], \n",
    "              'C': test_pred_c.data[:, 0]\n",
    "             })"
   ]
  },
  {
   "cell_type": "code",
   "execution_count": 10,
   "id": "8a70c8ab",
   "metadata": {
    "ExecuteTime": {
     "end_time": "2021-10-30T21:42:38.564743Z",
     "start_time": "2021-10-30T21:42:38.549781Z"
    }
   },
   "outputs": [
    {
     "name": "stdout",
     "output_type": "stream",
     "text": [
      "File name:  lama_2021-10-31_00-42-38.csv\n",
      "\n",
      " File saved to disk!\n"
     ]
    }
   ],
   "source": [
    "# получаем текущие дату и время\n",
    "now = datetime.now().strftime(\"%Y-%m-%d_%H-%M-%S\")\n",
    "\n",
    "# создаём путь и имя файла с датой и временем\n",
    "# file_name = f'../../data/kaggle/gb_competitive_data_analysis/lgb_predictions_{now}.csv'\n",
    "file_name = f'lama_{now}.csv'\n",
    "print('File name: ', file_name)\n",
    "\n",
    "# сохраняем в csv\n",
    "pd.DataFrame({'NPLV': test['NPLV'],\n",
    "              'TST':test_pred_t.data[:, 0], \n",
    "              'C': test_pred_c.data[:, 0]\n",
    "             }).to_csv(file_name, index=False, encoding='utf-8')\n",
    "print('\\n File saved to disk!')"
   ]
  },
  {
   "cell_type": "code",
   "execution_count": null,
   "id": "4dfc8100",
   "metadata": {},
   "outputs": [],
   "source": []
  },
  {
   "cell_type": "code",
   "execution_count": 11,
   "id": "3647408d",
   "metadata": {
    "ExecuteTime": {
     "end_time": "2021-10-30T16:50:27.233278Z",
     "start_time": "2021-10-30T16:50:27.218355Z"
    }
   },
   "outputs": [],
   "source": [
    "def metric(answers, user_csv):\n",
    "\n",
    "    delta_c = np.abs(np.array(answers['C']) - np.array(user_csv['C']))\n",
    "    hit_rate_c = np.int64(delta_c < 0.02)\n",
    "\n",
    "    delta_t = np.abs(np.array(answers['TST']) - np.array(user_csv['TST']))\n",
    "    hit_rate_t = np.int64(delta_t < 20)\n",
    "\n",
    "    N = np.size(answers['C'])\n",
    "\n",
    "    return np.sum(hit_rate_c + hit_rate_t) / 2 / N"
   ]
  }
 ],
 "metadata": {
  "kernelspec": {
   "display_name": "Python 3",
   "language": "python",
   "name": "python3"
  },
  "language_info": {
   "codemirror_mode": {
    "name": "ipython",
    "version": 3
   },
   "file_extension": ".py",
   "mimetype": "text/x-python",
   "name": "python",
   "nbconvert_exporter": "python",
   "pygments_lexer": "ipython3",
   "version": "3.8.8"
  },
  "toc": {
   "base_numbering": 1,
   "nav_menu": {},
   "number_sections": false,
   "sideBar": true,
   "skip_h1_title": false,
   "title_cell": "Table of Contents",
   "title_sidebar": "Contents",
   "toc_cell": false,
   "toc_position": {},
   "toc_section_display": true,
   "toc_window_display": false
  },
  "varInspector": {
   "cols": {
    "lenName": 16,
    "lenType": 16,
    "lenVar": 40
   },
   "kernels_config": {
    "python": {
     "delete_cmd_postfix": "",
     "delete_cmd_prefix": "del ",
     "library": "var_list.py",
     "varRefreshCmd": "print(var_dic_list())"
    },
    "r": {
     "delete_cmd_postfix": ") ",
     "delete_cmd_prefix": "rm(",
     "library": "var_list.r",
     "varRefreshCmd": "cat(var_dic_list()) "
    }
   },
   "types_to_exclude": [
    "module",
    "function",
    "builtin_function_or_method",
    "instance",
    "_Feature"
   ],
   "window_display": false
  }
 },
 "nbformat": 4,
 "nbformat_minor": 5
}
