{
 "cells": [
  {
   "cell_type": "markdown",
   "id": "875e3b86",
   "metadata": {},
   "source": [
    "Evraz AI Challenge\n",
    "---\n",
    "\n",
    "29-31 октября 2021 г\n",
    "\n",
    "**Трек 1: Продуйте металл через Data Science**. \n",
    "\n",
    "Разработайте модель, прогнозирующую содержание углерода и температуру чугуна во время процесса продувки металла\n",
    "\n",
    "https://hackathon.evraz.com/"
   ]
  },
  {
   "cell_type": "markdown",
   "id": "62ea6c51",
   "metadata": {
    "ExecuteTime": {
     "end_time": "2021-10-29T15:36:54.436442Z",
     "start_time": "2021-10-29T15:36:54.421487Z"
    }
   },
   "source": [
    "**Исходные данные**\n",
    "\n",
    "В рамках этой задачи вам будут даны данные о продувки чугуна в цехе:\n",
    "\n",
    "- **produv** – Таблица содержит основные параметры продувки - мгновенный расход кислорода и положение (наклон) фурмы\n",
    "- **lom** – Вместе с чугуном в фурму засыпают лом - это часть технологического процесса. Таблица содержит вес и тип ломов, использованных в каждой плавке\n",
    "- **plavki** – Основная информация по плавке - характеристики плавки (марка металла, направление разливки) и оборудования\n",
    "- **sip** – Сыпучие добавки, используемые в технологическом процессе\n",
    "- **chronom** – хронометраж - время начала и конца различных операций во время плавки\n",
    "- **chugun** – Химический состав и характеристики чугуна\n",
    "- **gas** – Информация об анализе отходящих газов\n",
    "- **target** – целевые значения\n",
    "\n",
    "\n",
    "- [описание задачи](https://russianhackers.notion.site/1-Data-Science-4cc89ba42de1429bbac316f59bf07a3b)\n",
    "- [атрибутный состав данных](https://russianhackers.notion.site/a685453e4fde41a098d9ad704d906e21?v=c482eaeb8f3143d58763b4b9008f1fec)\n",
    "\n",
    "### Light Auto ML\n",
    "\n",
    "Light Auto ML House prices regression: https://www.kaggle.com/alexryzhkov/lightautoml-houseprices-love\n",
    "\n",
    "Light Auto ML Titanic classification: https://towardsdatascience.com/lightautoml-preset-usage-tutorial-2cce7da6f936 и https://www.kaggle.com/alexryzhkov/lightautoml-extreme-short-titanic-solution"
   ]
  },
  {
   "cell_type": "code",
   "execution_count": 1,
   "id": "f275c239",
   "metadata": {
    "ExecuteTime": {
     "end_time": "2021-10-30T20:18:10.986654Z",
     "start_time": "2021-10-30T20:18:06.709433Z"
    }
   },
   "outputs": [],
   "source": [
    "import pandas as pd\n",
    "import numpy as np\n",
    "from pathlib2 import Path\n",
    "import matplotlib.pyplot as plt\n",
    "from typing import List, Tuple, Optional\n",
    "import re\n",
    "import lightgbm as lgb\n",
    "from datetime import datetime\n",
    "\n",
    "from lightautoml.automl.presets.tabular_presets import TabularAutoML\n",
    "from lightautoml.tasks import Task"
   ]
  },
  {
   "cell_type": "markdown",
   "id": "25ff1338",
   "metadata": {},
   "source": [
    "## Функции"
   ]
  },
  {
   "cell_type": "markdown",
   "id": "64d7b407",
   "metadata": {},
   "source": [
    "# Загрузка данных"
   ]
  },
  {
   "cell_type": "code",
   "execution_count": 2,
   "id": "41462e0c",
   "metadata": {
    "ExecuteTime": {
     "end_time": "2021-10-30T20:18:12.037296Z",
     "start_time": "2021-10-30T20:18:12.025329Z"
    }
   },
   "outputs": [],
   "source": [
    "path = Path('../../../data/2021_evraz')"
   ]
  },
  {
   "cell_type": "code",
   "execution_count": 3,
   "id": "4ac228ef",
   "metadata": {
    "ExecuteTime": {
     "end_time": "2021-10-30T20:18:12.900149Z",
     "start_time": "2021-10-30T20:18:12.849253Z"
    },
    "scrolled": true
   },
   "outputs": [
    {
     "name": "stdout",
     "output_type": "stream",
     "text": [
      "(2063, 145)\n"
     ]
    },
    {
     "data": {
      "text/html": [
       "<div>\n",
       "<style scoped>\n",
       "    .dataframe tbody tr th:only-of-type {\n",
       "        vertical-align: middle;\n",
       "    }\n",
       "\n",
       "    .dataframe tbody tr th {\n",
       "        vertical-align: top;\n",
       "    }\n",
       "\n",
       "    .dataframe thead th {\n",
       "        text-align: right;\n",
       "    }\n",
       "</style>\n",
       "<table border=\"1\" class=\"dataframe\">\n",
       "  <thead>\n",
       "    <tr style=\"text-align: right;\">\n",
       "      <th></th>\n",
       "      <th>NPLV</th>\n",
       "      <th>TST</th>\n",
       "      <th>C</th>\n",
       "      <th>VES</th>\n",
       "      <th>T</th>\n",
       "      <th>SI</th>\n",
       "      <th>MN</th>\n",
       "      <th>S</th>\n",
       "      <th>P</th>\n",
       "      <th>CR</th>\n",
       "      <th>...</th>\n",
       "      <th>plavka_TIPE_FUR_koniceskaa</th>\n",
       "      <th>plavka_TIPE_FUR_zilindriceskaa</th>\n",
       "      <th>plavka_TIPE_GOL_4-soplh54</th>\n",
       "      <th>plavka_TIPE_GOL_4-soplx54</th>\n",
       "      <th>plavka_TIPE_GOL_5soplovaa</th>\n",
       "      <th>plavka_TIPE_GOL_601-5</th>\n",
       "      <th>plavka_TIPE_GOL_E32</th>\n",
       "      <th>plavka_TIPE_GOL_E37_4-soplh54</th>\n",
       "      <th>plavka_TIPE_GOL_E_4-soplh54</th>\n",
       "      <th>pol_ras_sum</th>\n",
       "    </tr>\n",
       "  </thead>\n",
       "  <tbody>\n",
       "    <tr>\n",
       "      <th>0</th>\n",
       "      <td>510008</td>\n",
       "      <td>1690</td>\n",
       "      <td>0.060</td>\n",
       "      <td>263700.0</td>\n",
       "      <td>1396.0</td>\n",
       "      <td>0.44</td>\n",
       "      <td>0.22</td>\n",
       "      <td>0.023</td>\n",
       "      <td>0.097</td>\n",
       "      <td>0.03</td>\n",
       "      <td>...</td>\n",
       "      <td>0</td>\n",
       "      <td>1</td>\n",
       "      <td>0</td>\n",
       "      <td>0</td>\n",
       "      <td>1</td>\n",
       "      <td>0</td>\n",
       "      <td>0</td>\n",
       "      <td>0</td>\n",
       "      <td>0</td>\n",
       "      <td>593045.405789</td>\n",
       "    </tr>\n",
       "    <tr>\n",
       "      <th>1</th>\n",
       "      <td>510009</td>\n",
       "      <td>1683</td>\n",
       "      <td>0.097</td>\n",
       "      <td>264500.0</td>\n",
       "      <td>1419.0</td>\n",
       "      <td>0.68</td>\n",
       "      <td>0.20</td>\n",
       "      <td>0.017</td>\n",
       "      <td>0.087</td>\n",
       "      <td>0.02</td>\n",
       "      <td>...</td>\n",
       "      <td>0</td>\n",
       "      <td>1</td>\n",
       "      <td>0</td>\n",
       "      <td>0</td>\n",
       "      <td>1</td>\n",
       "      <td>0</td>\n",
       "      <td>0</td>\n",
       "      <td>0</td>\n",
       "      <td>0</td>\n",
       "      <td>567680.040137</td>\n",
       "    </tr>\n",
       "    <tr>\n",
       "      <th>2</th>\n",
       "      <td>510010</td>\n",
       "      <td>1662</td>\n",
       "      <td>0.091</td>\n",
       "      <td>263800.0</td>\n",
       "      <td>1384.0</td>\n",
       "      <td>0.56</td>\n",
       "      <td>0.26</td>\n",
       "      <td>0.017</td>\n",
       "      <td>0.096</td>\n",
       "      <td>0.03</td>\n",
       "      <td>...</td>\n",
       "      <td>0</td>\n",
       "      <td>1</td>\n",
       "      <td>0</td>\n",
       "      <td>0</td>\n",
       "      <td>1</td>\n",
       "      <td>0</td>\n",
       "      <td>0</td>\n",
       "      <td>0</td>\n",
       "      <td>0</td>\n",
       "      <td>591476.261946</td>\n",
       "    </tr>\n",
       "  </tbody>\n",
       "</table>\n",
       "<p>3 rows × 145 columns</p>\n",
       "</div>"
      ],
      "text/plain": [
       "     NPLV   TST      C       VES       T    SI    MN      S      P    CR  ...  \\\n",
       "0  510008  1690  0.060  263700.0  1396.0  0.44  0.22  0.023  0.097  0.03  ...   \n",
       "1  510009  1683  0.097  264500.0  1419.0  0.68  0.20  0.017  0.087  0.02  ...   \n",
       "2  510010  1662  0.091  263800.0  1384.0  0.56  0.26  0.017  0.096  0.03  ...   \n",
       "\n",
       "   plavka_TIPE_FUR_koniceskaa  plavka_TIPE_FUR_zilindriceskaa  \\\n",
       "0                           0                               1   \n",
       "1                           0                               1   \n",
       "2                           0                               1   \n",
       "\n",
       "   plavka_TIPE_GOL_4-soplh54  plavka_TIPE_GOL_4-soplx54  \\\n",
       "0                          0                          0   \n",
       "1                          0                          0   \n",
       "2                          0                          0   \n",
       "\n",
       "  plavka_TIPE_GOL_5soplovaa  plavka_TIPE_GOL_601-5  plavka_TIPE_GOL_E32  \\\n",
       "0                         1                      0                    0   \n",
       "1                         1                      0                    0   \n",
       "2                         1                      0                    0   \n",
       "\n",
       "   plavka_TIPE_GOL_E37_4-soplh54  plavka_TIPE_GOL_E_4-soplh54    pol_ras_sum  \n",
       "0                              0                            0  593045.405789  \n",
       "1                              0                            0  567680.040137  \n",
       "2                              0                            0  591476.261946  \n",
       "\n",
       "[3 rows x 145 columns]"
      ]
     },
     "execution_count": 3,
     "metadata": {},
     "output_type": "execute_result"
    }
   ],
   "source": [
    "target_train = pd.read_pickle(path.joinpath('target_train_wo_gas_wo_sip.pkl'))\n",
    "print(target_train.shape)\n",
    "target_train.head(3)"
   ]
  },
  {
   "cell_type": "code",
   "execution_count": 4,
   "id": "d957a53b",
   "metadata": {
    "ExecuteTime": {
     "end_time": "2021-10-30T20:18:14.786785Z",
     "start_time": "2021-10-30T20:18:14.747379Z"
    }
   },
   "outputs": [
    {
     "name": "stdout",
     "output_type": "stream",
     "text": [
      "(780, 143)\n"
     ]
    },
    {
     "data": {
      "text/html": [
       "<div>\n",
       "<style scoped>\n",
       "    .dataframe tbody tr th:only-of-type {\n",
       "        vertical-align: middle;\n",
       "    }\n",
       "\n",
       "    .dataframe tbody tr th {\n",
       "        vertical-align: top;\n",
       "    }\n",
       "\n",
       "    .dataframe thead th {\n",
       "        text-align: right;\n",
       "    }\n",
       "</style>\n",
       "<table border=\"1\" class=\"dataframe\">\n",
       "  <thead>\n",
       "    <tr style=\"text-align: right;\">\n",
       "      <th></th>\n",
       "      <th>NPLV</th>\n",
       "      <th>VES</th>\n",
       "      <th>T</th>\n",
       "      <th>SI</th>\n",
       "      <th>MN</th>\n",
       "      <th>S</th>\n",
       "      <th>P</th>\n",
       "      <th>CR</th>\n",
       "      <th>NI</th>\n",
       "      <th>CU</th>\n",
       "      <th>...</th>\n",
       "      <th>plavka_TIPE_FUR_koniceskaa</th>\n",
       "      <th>plavka_TIPE_FUR_zilindriceskaa</th>\n",
       "      <th>plavka_TIPE_GOL_4-soplh54</th>\n",
       "      <th>plavka_TIPE_GOL_4-soplx54</th>\n",
       "      <th>plavka_TIPE_GOL_5soplovaa</th>\n",
       "      <th>plavka_TIPE_GOL_601-5</th>\n",
       "      <th>plavka_TIPE_GOL_E32</th>\n",
       "      <th>plavka_TIPE_GOL_E37_4-soplh54</th>\n",
       "      <th>plavka_TIPE_GOL_E_4-soplh54</th>\n",
       "      <th>pol_ras_sum</th>\n",
       "    </tr>\n",
       "  </thead>\n",
       "  <tbody>\n",
       "    <tr>\n",
       "      <th>0</th>\n",
       "      <td>512324</td>\n",
       "      <td>240100.0</td>\n",
       "      <td>1355.0</td>\n",
       "      <td>0.46</td>\n",
       "      <td>0.33</td>\n",
       "      <td>0.027</td>\n",
       "      <td>0.079</td>\n",
       "      <td>0.01</td>\n",
       "      <td>0.01</td>\n",
       "      <td>0.02</td>\n",
       "      <td>...</td>\n",
       "      <td>0</td>\n",
       "      <td>1</td>\n",
       "      <td>1</td>\n",
       "      <td>0</td>\n",
       "      <td>0</td>\n",
       "      <td>0</td>\n",
       "      <td>0</td>\n",
       "      <td>0</td>\n",
       "      <td>0</td>\n",
       "      <td>463015.154170</td>\n",
       "    </tr>\n",
       "    <tr>\n",
       "      <th>1</th>\n",
       "      <td>512327</td>\n",
       "      <td>266400.0</td>\n",
       "      <td>1390.0</td>\n",
       "      <td>0.30</td>\n",
       "      <td>0.33</td>\n",
       "      <td>0.032</td>\n",
       "      <td>0.099</td>\n",
       "      <td>0.01</td>\n",
       "      <td>0.00</td>\n",
       "      <td>0.00</td>\n",
       "      <td>...</td>\n",
       "      <td>0</td>\n",
       "      <td>1</td>\n",
       "      <td>1</td>\n",
       "      <td>0</td>\n",
       "      <td>0</td>\n",
       "      <td>0</td>\n",
       "      <td>0</td>\n",
       "      <td>0</td>\n",
       "      <td>0</td>\n",
       "      <td>499984.992640</td>\n",
       "    </tr>\n",
       "    <tr>\n",
       "      <th>2</th>\n",
       "      <td>512328</td>\n",
       "      <td>270200.0</td>\n",
       "      <td>1373.0</td>\n",
       "      <td>0.00</td>\n",
       "      <td>0.00</td>\n",
       "      <td>0.000</td>\n",
       "      <td>0.000</td>\n",
       "      <td>0.00</td>\n",
       "      <td>0.00</td>\n",
       "      <td>0.00</td>\n",
       "      <td>...</td>\n",
       "      <td>0</td>\n",
       "      <td>1</td>\n",
       "      <td>1</td>\n",
       "      <td>0</td>\n",
       "      <td>0</td>\n",
       "      <td>0</td>\n",
       "      <td>0</td>\n",
       "      <td>0</td>\n",
       "      <td>0</td>\n",
       "      <td>468358.082766</td>\n",
       "    </tr>\n",
       "  </tbody>\n",
       "</table>\n",
       "<p>3 rows × 143 columns</p>\n",
       "</div>"
      ],
      "text/plain": [
       "     NPLV       VES       T    SI    MN      S      P    CR    NI    CU  ...  \\\n",
       "0  512324  240100.0  1355.0  0.46  0.33  0.027  0.079  0.01  0.01  0.02  ...   \n",
       "1  512327  266400.0  1390.0  0.30  0.33  0.032  0.099  0.01  0.00  0.00  ...   \n",
       "2  512328  270200.0  1373.0  0.00  0.00  0.000  0.000  0.00  0.00  0.00  ...   \n",
       "\n",
       "   plavka_TIPE_FUR_koniceskaa  plavka_TIPE_FUR_zilindriceskaa  \\\n",
       "0                           0                               1   \n",
       "1                           0                               1   \n",
       "2                           0                               1   \n",
       "\n",
       "  plavka_TIPE_GOL_4-soplh54  plavka_TIPE_GOL_4-soplx54  \\\n",
       "0                         1                          0   \n",
       "1                         1                          0   \n",
       "2                         1                          0   \n",
       "\n",
       "   plavka_TIPE_GOL_5soplovaa  plavka_TIPE_GOL_601-5  plavka_TIPE_GOL_E32  \\\n",
       "0                          0                      0                    0   \n",
       "1                          0                      0                    0   \n",
       "2                          0                      0                    0   \n",
       "\n",
       "   plavka_TIPE_GOL_E37_4-soplh54  plavka_TIPE_GOL_E_4-soplh54    pol_ras_sum  \n",
       "0                              0                            0  463015.154170  \n",
       "1                              0                            0  499984.992640  \n",
       "2                              0                            0  468358.082766  \n",
       "\n",
       "[3 rows x 143 columns]"
      ]
     },
     "execution_count": 4,
     "metadata": {},
     "output_type": "execute_result"
    }
   ],
   "source": [
    "test = pd.read_pickle(path.joinpath('test_wo_gas_wo_sip.pkl'))\n",
    "print(test.shape)\n",
    "test.head(3)"
   ]
  },
  {
   "cell_type": "code",
   "execution_count": 5,
   "id": "a9a0ef64",
   "metadata": {
    "ExecuteTime": {
     "end_time": "2021-10-30T20:18:17.917459Z",
     "start_time": "2021-10-30T20:18:17.907486Z"
    }
   },
   "outputs": [
    {
     "data": {
      "text/plain": [
       "Index(['NPLV', 'TST', 'C', 'VES', 'T', 'SI', 'MN', 'S', 'P', 'CR',\n",
       "       ...\n",
       "       'plavka_TIPE_FUR_koniceskaa', 'plavka_TIPE_FUR_zilindriceskaa',\n",
       "       'plavka_TIPE_GOL_4-soplh54', 'plavka_TIPE_GOL_4-soplx54',\n",
       "       'plavka_TIPE_GOL_5soplovaa', 'plavka_TIPE_GOL_601-5',\n",
       "       'plavka_TIPE_GOL_E32', 'plavka_TIPE_GOL_E37_4-soplh54',\n",
       "       'plavka_TIPE_GOL_E_4-soplh54', 'pol_ras_sum'],\n",
       "      dtype='object', length=145)"
      ]
     },
     "execution_count": 5,
     "metadata": {},
     "output_type": "execute_result"
    }
   ],
   "source": [
    "target_train.columns"
   ]
  },
  {
   "cell_type": "code",
   "execution_count": 6,
   "id": "011c63b8",
   "metadata": {
    "ExecuteTime": {
     "end_time": "2021-10-30T20:18:23.081990Z",
     "start_time": "2021-10-30T20:18:23.010180Z"
    }
   },
   "outputs": [],
   "source": [
    "automl_t = TabularAutoML(task = Task('reg', metric = 'mse'))\n",
    "automl_c = TabularAutoML(task = Task('reg', metric = 'mse'))"
   ]
  },
  {
   "cell_type": "code",
   "execution_count": 7,
   "id": "9c7f412e",
   "metadata": {
    "ExecuteTime": {
     "end_time": "2021-10-30T20:34:30.470137Z",
     "start_time": "2021-10-30T20:18:40.370295Z"
    }
   },
   "outputs": [],
   "source": [
    "oof_pred_t = automl_t.fit_predict(target_train,  roles = {'target': 'TST', 'drop': 'C'})\n",
    "oof_pred_c = automl_c.fit_predict(target_train,  roles = {'target': 'C', 'drop': 'TST'})"
   ]
  },
  {
   "cell_type": "code",
   "execution_count": 8,
   "id": "9f442b87",
   "metadata": {
    "ExecuteTime": {
     "end_time": "2021-10-30T20:34:32.263139Z",
     "start_time": "2021-10-30T20:34:30.784340Z"
    }
   },
   "outputs": [],
   "source": [
    "test_pred_t = automl_t.predict(test)\n",
    "test_pred_c = automl_c.predict(test)"
   ]
  },
  {
   "cell_type": "code",
   "execution_count": 79,
   "id": "3b614ca0",
   "metadata": {
    "ExecuteTime": {
     "end_time": "2021-10-30T21:16:22.169505Z",
     "start_time": "2021-10-30T21:16:22.150552Z"
    }
   },
   "outputs": [
    {
     "data": {
      "text/html": [
       "<div>\n",
       "<style scoped>\n",
       "    .dataframe tbody tr th:only-of-type {\n",
       "        vertical-align: middle;\n",
       "    }\n",
       "\n",
       "    .dataframe tbody tr th {\n",
       "        vertical-align: top;\n",
       "    }\n",
       "\n",
       "    .dataframe thead th {\n",
       "        text-align: right;\n",
       "    }\n",
       "</style>\n",
       "<table border=\"1\" class=\"dataframe\">\n",
       "  <thead>\n",
       "    <tr style=\"text-align: right;\">\n",
       "      <th></th>\n",
       "      <th>NPLV</th>\n",
       "      <th>TST</th>\n",
       "      <th>C</th>\n",
       "    </tr>\n",
       "  </thead>\n",
       "  <tbody>\n",
       "    <tr>\n",
       "      <th>0</th>\n",
       "      <td>512324</td>\n",
       "      <td>1651.203491</td>\n",
       "      <td>0.033007</td>\n",
       "    </tr>\n",
       "    <tr>\n",
       "      <th>1</th>\n",
       "      <td>512327</td>\n",
       "      <td>1656.208740</td>\n",
       "      <td>0.044633</td>\n",
       "    </tr>\n",
       "    <tr>\n",
       "      <th>2</th>\n",
       "      <td>512328</td>\n",
       "      <td>1650.830566</td>\n",
       "      <td>0.058527</td>\n",
       "    </tr>\n",
       "    <tr>\n",
       "      <th>3</th>\n",
       "      <td>512331</td>\n",
       "      <td>1647.513916</td>\n",
       "      <td>0.034300</td>\n",
       "    </tr>\n",
       "    <tr>\n",
       "      <th>4</th>\n",
       "      <td>512333</td>\n",
       "      <td>1653.981567</td>\n",
       "      <td>0.041524</td>\n",
       "    </tr>\n",
       "    <tr>\n",
       "      <th>...</th>\n",
       "      <td>...</td>\n",
       "      <td>...</td>\n",
       "      <td>...</td>\n",
       "    </tr>\n",
       "    <tr>\n",
       "      <th>775</th>\n",
       "      <td>513369</td>\n",
       "      <td>1665.734009</td>\n",
       "      <td>0.073311</td>\n",
       "    </tr>\n",
       "    <tr>\n",
       "      <th>776</th>\n",
       "      <td>513370</td>\n",
       "      <td>1665.300537</td>\n",
       "      <td>0.091745</td>\n",
       "    </tr>\n",
       "    <tr>\n",
       "      <th>777</th>\n",
       "      <td>513371</td>\n",
       "      <td>1664.160645</td>\n",
       "      <td>0.069668</td>\n",
       "    </tr>\n",
       "    <tr>\n",
       "      <th>778</th>\n",
       "      <td>513372</td>\n",
       "      <td>1670.006836</td>\n",
       "      <td>0.083593</td>\n",
       "    </tr>\n",
       "    <tr>\n",
       "      <th>779</th>\n",
       "      <td>513374</td>\n",
       "      <td>1670.250000</td>\n",
       "      <td>0.068404</td>\n",
       "    </tr>\n",
       "  </tbody>\n",
       "</table>\n",
       "<p>780 rows × 3 columns</p>\n",
       "</div>"
      ],
      "text/plain": [
       "       NPLV          TST         C\n",
       "0    512324  1651.203491  0.033007\n",
       "1    512327  1656.208740  0.044633\n",
       "2    512328  1650.830566  0.058527\n",
       "3    512331  1647.513916  0.034300\n",
       "4    512333  1653.981567  0.041524\n",
       "..      ...          ...       ...\n",
       "775  513369  1665.734009  0.073311\n",
       "776  513370  1665.300537  0.091745\n",
       "777  513371  1664.160645  0.069668\n",
       "778  513372  1670.006836  0.083593\n",
       "779  513374  1670.250000  0.068404\n",
       "\n",
       "[780 rows x 3 columns]"
      ]
     },
     "execution_count": 79,
     "metadata": {},
     "output_type": "execute_result"
    }
   ],
   "source": [
    "pd.DataFrame({'NPLV': test['NPLV'],\n",
    "              'TST':test_pred_t.data[:, 0], \n",
    "              'C': test_pred_c.data[:, 0]\n",
    "             })"
   ]
  },
  {
   "cell_type": "code",
   "execution_count": 80,
   "id": "2f460be1",
   "metadata": {
    "ExecuteTime": {
     "end_time": "2021-10-30T21:18:27.250430Z",
     "start_time": "2021-10-30T21:18:27.223505Z"
    }
   },
   "outputs": [
    {
     "name": "stdout",
     "output_type": "stream",
     "text": [
      "File name:  lama_2021-10-31_00-18-27.csv\n",
      "\n",
      " File saved to disk!\n"
     ]
    }
   ],
   "source": [
    "# получаем текущие дату и время\n",
    "now = datetime.now().strftime(\"%Y-%m-%d_%H-%M-%S\")\n",
    "\n",
    "# создаём путь и имя файла с датой и временем\n",
    "# file_name = f'../../data/kaggle/gb_competitive_data_analysis/lgb_predictions_{now}.csv'\n",
    "file_name = f'lama_{now}.csv'\n",
    "print('File name: ', file_name)\n",
    "\n",
    "# сохраняем в csv\n",
    "pd.DataFrame({'NPLV': test['NPLV'],\n",
    "              'TST':test_pred_t.data[:, 0], \n",
    "              'C': test_pred_c.data[:, 0]\n",
    "             }).to_csv(file_name, index=False, encoding='utf-8')\n",
    "print('\\n File saved to disk!')"
   ]
  },
  {
   "cell_type": "code",
   "execution_count": null,
   "id": "746822df",
   "metadata": {},
   "outputs": [],
   "source": []
  },
  {
   "cell_type": "code",
   "execution_count": 11,
   "id": "14a8721b",
   "metadata": {
    "ExecuteTime": {
     "end_time": "2021-10-30T16:50:27.233278Z",
     "start_time": "2021-10-30T16:50:27.218355Z"
    }
   },
   "outputs": [],
   "source": [
    "def metric(answers, user_csv):\n",
    "\n",
    "    delta_c = np.abs(np.array(answers['C']) - np.array(user_csv['C']))\n",
    "    hit_rate_c = np.int64(delta_c < 0.02)\n",
    "\n",
    "    delta_t = np.abs(np.array(answers['TST']) - np.array(user_csv['TST']))\n",
    "    hit_rate_t = np.int64(delta_t < 20)\n",
    "\n",
    "    N = np.size(answers['C'])\n",
    "\n",
    "    return np.sum(hit_rate_c + hit_rate_t) / 2 / N"
   ]
  }
 ],
 "metadata": {
  "kernelspec": {
   "display_name": "Python 3",
   "language": "python",
   "name": "python3"
  },
  "language_info": {
   "codemirror_mode": {
    "name": "ipython",
    "version": 3
   },
   "file_extension": ".py",
   "mimetype": "text/x-python",
   "name": "python",
   "nbconvert_exporter": "python",
   "pygments_lexer": "ipython3",
   "version": "3.8.8"
  },
  "toc": {
   "base_numbering": 1,
   "nav_menu": {},
   "number_sections": false,
   "sideBar": true,
   "skip_h1_title": false,
   "title_cell": "Table of Contents",
   "title_sidebar": "Contents",
   "toc_cell": false,
   "toc_position": {},
   "toc_section_display": true,
   "toc_window_display": false
  },
  "varInspector": {
   "cols": {
    "lenName": 16,
    "lenType": 16,
    "lenVar": 40
   },
   "kernels_config": {
    "python": {
     "delete_cmd_postfix": "",
     "delete_cmd_prefix": "del ",
     "library": "var_list.py",
     "varRefreshCmd": "print(var_dic_list())"
    },
    "r": {
     "delete_cmd_postfix": ") ",
     "delete_cmd_prefix": "rm(",
     "library": "var_list.r",
     "varRefreshCmd": "cat(var_dic_list()) "
    }
   },
   "types_to_exclude": [
    "module",
    "function",
    "builtin_function_or_method",
    "instance",
    "_Feature"
   ],
   "window_display": false
  }
 },
 "nbformat": 4,
 "nbformat_minor": 5
}
