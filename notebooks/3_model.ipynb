{
 "cells": [
  {
   "cell_type": "code",
   "execution_count": 8,
   "id": "eacf1e65",
   "metadata": {
    "ExecuteTime": {
     "end_time": "2021-10-30T21:33:01.413096Z",
     "start_time": "2021-10-30T21:33:01.399133Z"
    }
   },
   "outputs": [],
   "source": [
    "import pandas as pd\n",
    "import numpy as np\n",
    "from pathlib2 import Path\n",
    "import matplotlib.pyplot as plt\n",
    "from typing import List, Tuple, Optional\n",
    "import re\n",
    "import lightgbm as lgb\n",
    "from datetime import datetime\n",
    "\n",
    "from sklearn.model_selection import train_test_split\n",
    "from sklearn.metrics import mean_squared_error"
   ]
  },
  {
   "cell_type": "code",
   "execution_count": 2,
   "id": "8d65d001",
   "metadata": {
    "ExecuteTime": {
     "end_time": "2021-10-30T21:30:26.938116Z",
     "start_time": "2021-10-30T21:30:26.924154Z"
    }
   },
   "outputs": [],
   "source": [
    "path = Path('../../../data/2021_evraz')"
   ]
  },
  {
   "cell_type": "code",
   "execution_count": 4,
   "id": "1cd800c8",
   "metadata": {
    "ExecuteTime": {
     "end_time": "2021-10-30T21:31:28.797917Z",
     "start_time": "2021-10-30T21:31:28.746057Z"
    }
   },
   "outputs": [
    {
     "name": "stdout",
     "output_type": "stream",
     "text": [
      "(2063, 145)\n"
     ]
    },
    {
     "data": {
      "text/html": [
       "<div>\n",
       "<style scoped>\n",
       "    .dataframe tbody tr th:only-of-type {\n",
       "        vertical-align: middle;\n",
       "    }\n",
       "\n",
       "    .dataframe tbody tr th {\n",
       "        vertical-align: top;\n",
       "    }\n",
       "\n",
       "    .dataframe thead th {\n",
       "        text-align: right;\n",
       "    }\n",
       "</style>\n",
       "<table border=\"1\" class=\"dataframe\">\n",
       "  <thead>\n",
       "    <tr style=\"text-align: right;\">\n",
       "      <th></th>\n",
       "      <th>NPLV</th>\n",
       "      <th>TST</th>\n",
       "      <th>C</th>\n",
       "      <th>VES</th>\n",
       "      <th>T</th>\n",
       "      <th>SI</th>\n",
       "      <th>MN</th>\n",
       "      <th>S</th>\n",
       "      <th>P</th>\n",
       "      <th>CR</th>\n",
       "      <th>...</th>\n",
       "      <th>plavka_TIPE_FUR_koniceskaa</th>\n",
       "      <th>plavka_TIPE_FUR_zilindriceskaa</th>\n",
       "      <th>plavka_TIPE_GOL_4-soplh54</th>\n",
       "      <th>plavka_TIPE_GOL_4-soplx54</th>\n",
       "      <th>plavka_TIPE_GOL_5soplovaa</th>\n",
       "      <th>plavka_TIPE_GOL_601-5</th>\n",
       "      <th>plavka_TIPE_GOL_E32</th>\n",
       "      <th>plavka_TIPE_GOL_E37_4-soplh54</th>\n",
       "      <th>plavka_TIPE_GOL_E_4-soplh54</th>\n",
       "      <th>pol_ras_sum</th>\n",
       "    </tr>\n",
       "  </thead>\n",
       "  <tbody>\n",
       "    <tr>\n",
       "      <th>0</th>\n",
       "      <td>510008</td>\n",
       "      <td>1690</td>\n",
       "      <td>0.060</td>\n",
       "      <td>263700.0</td>\n",
       "      <td>1396.0</td>\n",
       "      <td>0.44</td>\n",
       "      <td>0.22</td>\n",
       "      <td>0.023</td>\n",
       "      <td>0.097</td>\n",
       "      <td>0.03</td>\n",
       "      <td>...</td>\n",
       "      <td>0</td>\n",
       "      <td>1</td>\n",
       "      <td>0</td>\n",
       "      <td>0</td>\n",
       "      <td>1</td>\n",
       "      <td>0</td>\n",
       "      <td>0</td>\n",
       "      <td>0</td>\n",
       "      <td>0</td>\n",
       "      <td>593045.405789</td>\n",
       "    </tr>\n",
       "    <tr>\n",
       "      <th>1</th>\n",
       "      <td>510009</td>\n",
       "      <td>1683</td>\n",
       "      <td>0.097</td>\n",
       "      <td>264500.0</td>\n",
       "      <td>1419.0</td>\n",
       "      <td>0.68</td>\n",
       "      <td>0.20</td>\n",
       "      <td>0.017</td>\n",
       "      <td>0.087</td>\n",
       "      <td>0.02</td>\n",
       "      <td>...</td>\n",
       "      <td>0</td>\n",
       "      <td>1</td>\n",
       "      <td>0</td>\n",
       "      <td>0</td>\n",
       "      <td>1</td>\n",
       "      <td>0</td>\n",
       "      <td>0</td>\n",
       "      <td>0</td>\n",
       "      <td>0</td>\n",
       "      <td>567680.040137</td>\n",
       "    </tr>\n",
       "    <tr>\n",
       "      <th>2</th>\n",
       "      <td>510010</td>\n",
       "      <td>1662</td>\n",
       "      <td>0.091</td>\n",
       "      <td>263800.0</td>\n",
       "      <td>1384.0</td>\n",
       "      <td>0.56</td>\n",
       "      <td>0.26</td>\n",
       "      <td>0.017</td>\n",
       "      <td>0.096</td>\n",
       "      <td>0.03</td>\n",
       "      <td>...</td>\n",
       "      <td>0</td>\n",
       "      <td>1</td>\n",
       "      <td>0</td>\n",
       "      <td>0</td>\n",
       "      <td>1</td>\n",
       "      <td>0</td>\n",
       "      <td>0</td>\n",
       "      <td>0</td>\n",
       "      <td>0</td>\n",
       "      <td>591476.261946</td>\n",
       "    </tr>\n",
       "  </tbody>\n",
       "</table>\n",
       "<p>3 rows × 145 columns</p>\n",
       "</div>"
      ],
      "text/plain": [
       "     NPLV   TST      C       VES       T    SI    MN      S      P    CR  ...  \\\n",
       "0  510008  1690  0.060  263700.0  1396.0  0.44  0.22  0.023  0.097  0.03  ...   \n",
       "1  510009  1683  0.097  264500.0  1419.0  0.68  0.20  0.017  0.087  0.02  ...   \n",
       "2  510010  1662  0.091  263800.0  1384.0  0.56  0.26  0.017  0.096  0.03  ...   \n",
       "\n",
       "   plavka_TIPE_FUR_koniceskaa  plavka_TIPE_FUR_zilindriceskaa  \\\n",
       "0                           0                               1   \n",
       "1                           0                               1   \n",
       "2                           0                               1   \n",
       "\n",
       "   plavka_TIPE_GOL_4-soplh54  plavka_TIPE_GOL_4-soplx54  \\\n",
       "0                          0                          0   \n",
       "1                          0                          0   \n",
       "2                          0                          0   \n",
       "\n",
       "  plavka_TIPE_GOL_5soplovaa  plavka_TIPE_GOL_601-5  plavka_TIPE_GOL_E32  \\\n",
       "0                         1                      0                    0   \n",
       "1                         1                      0                    0   \n",
       "2                         1                      0                    0   \n",
       "\n",
       "   plavka_TIPE_GOL_E37_4-soplh54  plavka_TIPE_GOL_E_4-soplh54    pol_ras_sum  \n",
       "0                              0                            0  593045.405789  \n",
       "1                              0                            0  567680.040137  \n",
       "2                              0                            0  591476.261946  \n",
       "\n",
       "[3 rows x 145 columns]"
      ]
     },
     "execution_count": 4,
     "metadata": {},
     "output_type": "execute_result"
    }
   ],
   "source": [
    "target_train = pd.read_pickle(path.joinpath('target_train_wo_gas_wo_sip.pkl'))\n",
    "print(target_train.shape)\n",
    "target_train.head(3)"
   ]
  },
  {
   "cell_type": "code",
   "execution_count": 5,
   "id": "1e6ad837",
   "metadata": {
    "ExecuteTime": {
     "end_time": "2021-10-30T21:31:40.727548Z",
     "start_time": "2021-10-30T21:31:40.693638Z"
    }
   },
   "outputs": [
    {
     "name": "stdout",
     "output_type": "stream",
     "text": [
      "(780, 143)\n"
     ]
    },
    {
     "data": {
      "text/html": [
       "<div>\n",
       "<style scoped>\n",
       "    .dataframe tbody tr th:only-of-type {\n",
       "        vertical-align: middle;\n",
       "    }\n",
       "\n",
       "    .dataframe tbody tr th {\n",
       "        vertical-align: top;\n",
       "    }\n",
       "\n",
       "    .dataframe thead th {\n",
       "        text-align: right;\n",
       "    }\n",
       "</style>\n",
       "<table border=\"1\" class=\"dataframe\">\n",
       "  <thead>\n",
       "    <tr style=\"text-align: right;\">\n",
       "      <th></th>\n",
       "      <th>NPLV</th>\n",
       "      <th>VES</th>\n",
       "      <th>T</th>\n",
       "      <th>SI</th>\n",
       "      <th>MN</th>\n",
       "      <th>S</th>\n",
       "      <th>P</th>\n",
       "      <th>CR</th>\n",
       "      <th>NI</th>\n",
       "      <th>CU</th>\n",
       "      <th>...</th>\n",
       "      <th>plavka_TIPE_FUR_koniceskaa</th>\n",
       "      <th>plavka_TIPE_FUR_zilindriceskaa</th>\n",
       "      <th>plavka_TIPE_GOL_4-soplh54</th>\n",
       "      <th>plavka_TIPE_GOL_4-soplx54</th>\n",
       "      <th>plavka_TIPE_GOL_5soplovaa</th>\n",
       "      <th>plavka_TIPE_GOL_601-5</th>\n",
       "      <th>plavka_TIPE_GOL_E32</th>\n",
       "      <th>plavka_TIPE_GOL_E37_4-soplh54</th>\n",
       "      <th>plavka_TIPE_GOL_E_4-soplh54</th>\n",
       "      <th>pol_ras_sum</th>\n",
       "    </tr>\n",
       "  </thead>\n",
       "  <tbody>\n",
       "    <tr>\n",
       "      <th>0</th>\n",
       "      <td>512324</td>\n",
       "      <td>240100.0</td>\n",
       "      <td>1355.0</td>\n",
       "      <td>0.46</td>\n",
       "      <td>0.33</td>\n",
       "      <td>0.027</td>\n",
       "      <td>0.079</td>\n",
       "      <td>0.01</td>\n",
       "      <td>0.01</td>\n",
       "      <td>0.02</td>\n",
       "      <td>...</td>\n",
       "      <td>0</td>\n",
       "      <td>1</td>\n",
       "      <td>1</td>\n",
       "      <td>0</td>\n",
       "      <td>0</td>\n",
       "      <td>0</td>\n",
       "      <td>0</td>\n",
       "      <td>0</td>\n",
       "      <td>0</td>\n",
       "      <td>463015.154170</td>\n",
       "    </tr>\n",
       "    <tr>\n",
       "      <th>1</th>\n",
       "      <td>512327</td>\n",
       "      <td>266400.0</td>\n",
       "      <td>1390.0</td>\n",
       "      <td>0.30</td>\n",
       "      <td>0.33</td>\n",
       "      <td>0.032</td>\n",
       "      <td>0.099</td>\n",
       "      <td>0.01</td>\n",
       "      <td>0.00</td>\n",
       "      <td>0.00</td>\n",
       "      <td>...</td>\n",
       "      <td>0</td>\n",
       "      <td>1</td>\n",
       "      <td>1</td>\n",
       "      <td>0</td>\n",
       "      <td>0</td>\n",
       "      <td>0</td>\n",
       "      <td>0</td>\n",
       "      <td>0</td>\n",
       "      <td>0</td>\n",
       "      <td>499984.992640</td>\n",
       "    </tr>\n",
       "    <tr>\n",
       "      <th>2</th>\n",
       "      <td>512328</td>\n",
       "      <td>270200.0</td>\n",
       "      <td>1373.0</td>\n",
       "      <td>0.00</td>\n",
       "      <td>0.00</td>\n",
       "      <td>0.000</td>\n",
       "      <td>0.000</td>\n",
       "      <td>0.00</td>\n",
       "      <td>0.00</td>\n",
       "      <td>0.00</td>\n",
       "      <td>...</td>\n",
       "      <td>0</td>\n",
       "      <td>1</td>\n",
       "      <td>1</td>\n",
       "      <td>0</td>\n",
       "      <td>0</td>\n",
       "      <td>0</td>\n",
       "      <td>0</td>\n",
       "      <td>0</td>\n",
       "      <td>0</td>\n",
       "      <td>468358.082766</td>\n",
       "    </tr>\n",
       "  </tbody>\n",
       "</table>\n",
       "<p>3 rows × 143 columns</p>\n",
       "</div>"
      ],
      "text/plain": [
       "     NPLV       VES       T    SI    MN      S      P    CR    NI    CU  ...  \\\n",
       "0  512324  240100.0  1355.0  0.46  0.33  0.027  0.079  0.01  0.01  0.02  ...   \n",
       "1  512327  266400.0  1390.0  0.30  0.33  0.032  0.099  0.01  0.00  0.00  ...   \n",
       "2  512328  270200.0  1373.0  0.00  0.00  0.000  0.000  0.00  0.00  0.00  ...   \n",
       "\n",
       "   plavka_TIPE_FUR_koniceskaa  plavka_TIPE_FUR_zilindriceskaa  \\\n",
       "0                           0                               1   \n",
       "1                           0                               1   \n",
       "2                           0                               1   \n",
       "\n",
       "  plavka_TIPE_GOL_4-soplh54  plavka_TIPE_GOL_4-soplx54  \\\n",
       "0                         1                          0   \n",
       "1                         1                          0   \n",
       "2                         1                          0   \n",
       "\n",
       "   plavka_TIPE_GOL_5soplovaa  plavka_TIPE_GOL_601-5  plavka_TIPE_GOL_E32  \\\n",
       "0                          0                      0                    0   \n",
       "1                          0                      0                    0   \n",
       "2                          0                      0                    0   \n",
       "\n",
       "   plavka_TIPE_GOL_E37_4-soplh54  plavka_TIPE_GOL_E_4-soplh54    pol_ras_sum  \n",
       "0                              0                            0  463015.154170  \n",
       "1                              0                            0  499984.992640  \n",
       "2                              0                            0  468358.082766  \n",
       "\n",
       "[3 rows x 143 columns]"
      ]
     },
     "execution_count": 5,
     "metadata": {},
     "output_type": "execute_result"
    }
   ],
   "source": [
    "test = pd.read_pickle(path.joinpath('test_wo_gas_wo_sip.pkl'))\n",
    "print(test.shape)\n",
    "test.head(3)"
   ]
  },
  {
   "cell_type": "code",
   "execution_count": 23,
   "id": "5895224c",
   "metadata": {
    "ExecuteTime": {
     "end_time": "2021-10-30T21:42:14.413045Z",
     "start_time": "2021-10-30T21:42:11.391972Z"
    },
    "scrolled": false
   },
   "outputs": [
    {
     "name": "stdout",
     "output_type": "stream",
     "text": [
      "Training until validation scores don't improve for 1000 rounds\n",
      "[25]\ttrain's rmse: 14.4279\ttrain's l2: 208.164\ttest T's rmse: 23.3143\ttest T's l2: 543.555\n",
      "[50]\ttrain's rmse: 10.6786\ttrain's l2: 114.033\ttest T's rmse: 22.9779\ttest T's l2: 527.984\n",
      "[75]\ttrain's rmse: 8.24427\ttrain's l2: 67.968\ttest T's rmse: 22.9208\ttest T's l2: 525.365\n",
      "[100]\ttrain's rmse: 6.58623\ttrain's l2: 43.3785\ttest T's rmse: 22.8306\ttest T's l2: 521.238\n",
      "Did not meet early stopping. Best iteration is:\n",
      "[100]\ttrain's rmse: 6.58623\ttrain's l2: 43.3785\ttest T's rmse: 22.8306\ttest T's l2: 521.238\n",
      "Training until validation scores don't improve for 1000 rounds\n",
      "[25]\ttrain's rmse: 0.0530782\ttrain's l2: 0.00281729\ttest C's rmse: 0.0543015\ttest C's l2: 0.00294866\n",
      "[50]\ttrain's rmse: 0.0405486\ttrain's l2: 0.00164419\ttest C's rmse: 0.0549653\ttest C's l2: 0.00302118\n",
      "[75]\ttrain's rmse: 0.0327118\ttrain's l2: 0.00107006\ttest C's rmse: 0.0558707\ttest C's l2: 0.00312153\n",
      "[100]\ttrain's rmse: 0.0272586\ttrain's l2: 0.000743033\ttest C's rmse: 0.0557225\ttest C's l2: 0.00310499\n",
      "Did not meet early stopping. Best iteration is:\n",
      "[100]\ttrain's rmse: 0.0272586\ttrain's l2: 0.000743033\ttest C's rmse: 0.0557225\ttest C's l2: 0.00310499\n",
      "\n",
      " Распределения истинных и предсказанных данных T на трейне\n"
     ]
    },
    {
     "data": {
      "image/png": "[encoded data removed]",
      "text/plain": [
       "<Figure size 432x288 with 1 Axes>"
      ]
     },
     "metadata": {
      "needs_background": "light"
     },
     "output_type": "display_data"
    },
    {
     "name": "stdout",
     "output_type": "stream",
     "text": [
      "\n",
      " Распределения истинных и предсказанных данных T на тесте\n"
     ]
    },
    {
     "data": {
      "image/png": "[encoded data removed]",
      "text/plain": [
       "<Figure size 432x288 with 1 Axes>"
      ]
     },
     "metadata": {
      "needs_background": "light"
     },
     "output_type": "display_data"
    },
    {
     "name": "stdout",
     "output_type": "stream",
     "text": [
      "\n",
      " Распределения истинных и предсказанных данных C на трейне\n"
     ]
    },
    {
     "data": {
      "image/png": "[encoded data removed]",
      "text/plain": [
       "<Figure size 432x288 with 1 Axes>"
      ]
     },
     "metadata": {
      "needs_background": "light"
     },
     "output_type": "display_data"
    },
    {
     "name": "stdout",
     "output_type": "stream",
     "text": [
      "\n",
      " Распределения истинных и предсказанных данных C на тесте\n"
     ]
    },
    {
     "data": {
      "image/png": "[encoded data removed]",
      "text/plain": [
       "<Figure size 432x288 with 1 Axes>"
      ]
     },
     "metadata": {
      "needs_background": "light"
     },
     "output_type": "display_data"
    }
   ],
   "source": [
    "X_train, X_valid = train_test_split(\n",
    "    target_train.drop(['TST', 'C', 'DATA_ZAMERA'], axis=1), train_size=0.8, random_state=1)\n",
    "    \n",
    "y_train_t, y_valid_t = train_test_split(\n",
    "    target_train['TST'], train_size=0.8, random_state=1)\n",
    "    \n",
    "y_train_c, y_valid_c = train_test_split(\n",
    "    target_train['C'], train_size=0.8, random_state=1)\n",
    "\n",
    "y_train_true_c, y_valid_true_c = train_test_split(\n",
    "    target_train['C'], train_size=0.8, random_state=1)\n",
    "\n",
    "y_train_true_t, y_valid_true_t = train_test_split(\n",
    "    target_train['TST'], train_size=0.8, random_state=1)\n",
    "\n",
    "lgb_params = { \n",
    "#     'boosting_type': 'gbdt',\n",
    "#     'n_estimators': 10000,\n",
    "#     'learning_rate': 0.05134, # default = 0.1, constraints: learning_rate > 0.0\n",
    "#     'num_leaves': 10, # default = 31\n",
    "#     'min_data_in_leaf':10000, # default = 20\n",
    "#     'feature_fraction':0.1, # default = 1.0, constraints: 0.0 < feature_fraction <= 1.0\n",
    "#     'max_depth': 10,\n",
    "#     'subsample_for_bin': 240000,\n",
    "#     'lambda_l1': 2,\n",
    "#     'lambda_l2': 0,\n",
    "#     'colsample_bytree': 0.508716,\n",
    "#     'min_split_gain': 0.024766,\n",
    "#     'subsample': 0.7,\n",
    "#     'is_unbalance': False,\n",
    "     'random_state': 27,\n",
    "     'silent': -1,\n",
    "     'verbose': -1\n",
    "}\n",
    "\n",
    "model_t = lgb.LGBMRegressor(**lgb_params)\n",
    "model_c = lgb.LGBMRegressor(**lgb_params)\n",
    "model_t.fit(\n",
    "    X=X_train, \n",
    "    y=y_train_t,\n",
    "    eval_set=[(X_train, y_train_t), (X_valid, y_valid_t)],\n",
    "    eval_names=[\"train\", \"test T\"],\n",
    "    early_stopping_rounds=1000,\n",
    "    eval_metric='rmse',\n",
    "    verbose=25\n",
    ")\n",
    "model_c.fit(\n",
    "    X=X_train, \n",
    "    y=y_train_c,\n",
    "    eval_set=[(X_train, y_train_c), (X_valid, y_valid_c)],\n",
    "    eval_names=[\"train\", \"test C\"],\n",
    "    early_stopping_rounds=1000,\n",
    "    eval_metric='rmse',\n",
    "    verbose=25\n",
    ")\n",
    "# metric from https://lightgbm.readthedocs.io/en/latest/Parameters.html#metric\n",
    "# eval_metric could be taken from: https://xgboost.readthedocs.io/en/latest/parameter.html\n",
    "# or  https://xgboost.readthedocs.io/en/latest/parameter.html#learning-task-parameters\n",
    "\n",
    "train_predictions_t, test_predictions_t = pd.DataFrame(), pd.DataFrame()\n",
    "train_predictions_c, test_predictions_c = pd.DataFrame(), pd.DataFrame()\n",
    "\n",
    "train_predictions_t = model_t.predict(X_train)\n",
    "test_predictions_t = model_t.predict(X_valid)\n",
    "\n",
    "train_predictions_c = model_c.predict(X_train)\n",
    "test_predictions_c = model_c.predict(X_valid)\n",
    "\n",
    "# график\n",
    "print('\\n Распределения истинных и предсказанных данных T на трейне')\n",
    "ax =  pd.Series(train_predictions_t).plot.kde(label='train t')\n",
    "pd.Series(y_train_t).plot.kde(ax=ax, label='true')\n",
    "plt.legend()\n",
    "plt.show();\n",
    "\n",
    "# график\n",
    "print('\\n Распределения истинных и предсказанных данных T на тесте')\n",
    "ax =  pd.Series(test_predictions_t).plot.kde(label='test t')\n",
    "pd.Series(y_valid_t).plot.kde(ax=ax, label='true')\n",
    "plt.legend()\n",
    "plt.show();\n",
    "\n",
    "# график\n",
    "print('\\n Распределения истинных и предсказанных данных C на трейне')\n",
    "ax =  pd.Series(train_predictions_c).plot.kde(label='train c')\n",
    "pd.Series(y_train_c).plot.kde(ax=ax, label='true')\n",
    "plt.legend()\n",
    "plt.show();\n",
    "\n",
    "# график\n",
    "print('\\n Распределения истинных и предсказанных данных C на тесте')\n",
    "ax =  pd.Series(test_predictions_c).plot.kde(label='test c')\n",
    "pd.Series(y_valid_c).plot.kde(ax=ax, label='true')\n",
    "plt.legend()\n",
    "plt.show();"
   ]
  },
  {
   "cell_type": "code",
   "execution_count": 24,
   "id": "fc137a26",
   "metadata": {
    "ExecuteTime": {
     "end_time": "2021-10-30T21:42:18.395282Z",
     "start_time": "2021-10-30T21:42:18.333849Z"
    }
   },
   "outputs": [],
   "source": [
    "train_predictions_t = model_t.predict(X_train)\n",
    "test_predictions_t = model_t.predict(X_valid)\n",
    "\n",
    "train_predictions_c = model_c.predict(X_train)\n",
    "test_predictions_c = model_c.predict(X_valid)"
   ]
  },
  {
   "cell_type": "code",
   "execution_count": 25,
   "id": "8178292e",
   "metadata": {
    "ExecuteTime": {
     "end_time": "2021-10-30T21:42:19.349826Z",
     "start_time": "2021-10-30T21:42:19.317892Z"
    }
   },
   "outputs": [],
   "source": [
    "test_t = model_t.predict(test.drop(['DATA_ZAMERA'], axis=1))\n",
    "test_c = model_c.predict(test.drop(['DATA_ZAMERA'], axis=1))"
   ]
  },
  {
   "cell_type": "code",
   "execution_count": 26,
   "id": "a7af9ded",
   "metadata": {
    "ExecuteTime": {
     "end_time": "2021-10-30T21:42:20.321698Z",
     "start_time": "2021-10-30T21:42:20.295032Z"
    }
   },
   "outputs": [
    {
     "data": {
      "text/html": [
       "<div>\n",
       "<style scoped>\n",
       "    .dataframe tbody tr th:only-of-type {\n",
       "        vertical-align: middle;\n",
       "    }\n",
       "\n",
       "    .dataframe tbody tr th {\n",
       "        vertical-align: top;\n",
       "    }\n",
       "\n",
       "    .dataframe thead th {\n",
       "        text-align: right;\n",
       "    }\n",
       "</style>\n",
       "<table border=\"1\" class=\"dataframe\">\n",
       "  <thead>\n",
       "    <tr style=\"text-align: right;\">\n",
       "      <th></th>\n",
       "      <th>TST</th>\n",
       "      <th>C</th>\n",
       "    </tr>\n",
       "  </thead>\n",
       "  <tbody>\n",
       "    <tr>\n",
       "      <th>1944</th>\n",
       "      <td>1684</td>\n",
       "      <td>0.037</td>\n",
       "    </tr>\n",
       "    <tr>\n",
       "      <th>56</th>\n",
       "      <td>1666</td>\n",
       "      <td>0.056</td>\n",
       "    </tr>\n",
       "  </tbody>\n",
       "</table>\n",
       "</div>"
      ],
      "text/plain": [
       "       TST      C\n",
       "1944  1684  0.037\n",
       "56    1666  0.056"
      ]
     },
     "execution_count": 26,
     "metadata": {},
     "output_type": "execute_result"
    }
   ],
   "source": [
    "answers = pd.concat([pd.Series(y_valid_true_t).rename('TST'), \n",
    "                     pd.Series(y_valid_true_c).rename('C')\n",
    "                   ],\n",
    "                   axis=1\n",
    "                  )\n",
    "answers.head(2)"
   ]
  },
  {
   "cell_type": "code",
   "execution_count": 27,
   "id": "566e8db9",
   "metadata": {
    "ExecuteTime": {
     "end_time": "2021-10-30T21:42:24.988973Z",
     "start_time": "2021-10-30T21:42:24.966035Z"
    }
   },
   "outputs": [
    {
     "data": {
      "text/html": [
       "<div>\n",
       "<style scoped>\n",
       "    .dataframe tbody tr th:only-of-type {\n",
       "        vertical-align: middle;\n",
       "    }\n",
       "\n",
       "    .dataframe tbody tr th {\n",
       "        vertical-align: top;\n",
       "    }\n",
       "\n",
       "    .dataframe thead th {\n",
       "        text-align: right;\n",
       "    }\n",
       "</style>\n",
       "<table border=\"1\" class=\"dataframe\">\n",
       "  <thead>\n",
       "    <tr style=\"text-align: right;\">\n",
       "      <th></th>\n",
       "      <th>TST</th>\n",
       "      <th>C</th>\n",
       "    </tr>\n",
       "  </thead>\n",
       "  <tbody>\n",
       "    <tr>\n",
       "      <th>1944</th>\n",
       "      <td>1684</td>\n",
       "      <td>0.037</td>\n",
       "    </tr>\n",
       "    <tr>\n",
       "      <th>56</th>\n",
       "      <td>1666</td>\n",
       "      <td>0.056</td>\n",
       "    </tr>\n",
       "  </tbody>\n",
       "</table>\n",
       "</div>"
      ],
      "text/plain": [
       "       TST      C\n",
       "1944  1684  0.037\n",
       "56    1666  0.056"
      ]
     },
     "execution_count": 27,
     "metadata": {},
     "output_type": "execute_result"
    }
   ],
   "source": [
    "predictions = pd.concat([pd.Series(y_valid_t).rename('TST'), \n",
    "                     pd.Series(y_valid_c).rename('C')\n",
    "                   ],\n",
    "                   axis=1\n",
    "                  )\n",
    "predictions.head(2)"
   ]
  },
  {
   "cell_type": "code",
   "execution_count": 1078,
   "id": "80dff3bc",
   "metadata": {
    "ExecuteTime": {
     "end_time": "2021-10-30T15:14:18.035972Z",
     "start_time": "2021-10-30T15:14:18.026998Z"
    }
   },
   "outputs": [
    {
     "data": {
      "text/plain": [
       "1.0"
      ]
     },
     "execution_count": 1078,
     "metadata": {},
     "output_type": "execute_result"
    }
   ],
   "source": [
    "def metric(answers, user_csv):\n",
    "\n",
    "    delta_c = np.abs(np.array(answers['C']) - np.array(user_csv['C']))\n",
    "    hit_rate_c = np.int64(delta_c < 0.02)\n",
    "\n",
    "    delta_t = np.abs(np.array(answers['TST']) - np.array(user_csv['TST']))\n",
    "    hit_rate_t = np.int64(delta_t < 20)\n",
    "\n",
    "    N = np.size(answers['C'])\n",
    "\n",
    "    return np.sum(hit_rate_c + hit_rate_t) / 2 / N\n",
    "\n",
    "metric(predictions, answers)"
   ]
  },
  {
   "cell_type": "code",
   "execution_count": 28,
   "id": "2eac5ea1",
   "metadata": {
    "ExecuteTime": {
     "end_time": "2021-10-30T21:42:28.218701Z",
     "start_time": "2021-10-30T21:42:28.206734Z"
    }
   },
   "outputs": [
    {
     "data": {
      "text/html": [
       "<div>\n",
       "<style scoped>\n",
       "    .dataframe tbody tr th:only-of-type {\n",
       "        vertical-align: middle;\n",
       "    }\n",
       "\n",
       "    .dataframe tbody tr th {\n",
       "        vertical-align: top;\n",
       "    }\n",
       "\n",
       "    .dataframe thead th {\n",
       "        text-align: right;\n",
       "    }\n",
       "</style>\n",
       "<table border=\"1\" class=\"dataframe\">\n",
       "  <thead>\n",
       "    <tr style=\"text-align: right;\">\n",
       "      <th></th>\n",
       "      <th>NPLV</th>\n",
       "      <th>TST</th>\n",
       "      <th>C</th>\n",
       "    </tr>\n",
       "  </thead>\n",
       "  <tbody>\n",
       "    <tr>\n",
       "      <th>0</th>\n",
       "      <td>512324</td>\n",
       "      <td>1652.526945</td>\n",
       "      <td>0.060166</td>\n",
       "    </tr>\n",
       "    <tr>\n",
       "      <th>1</th>\n",
       "      <td>512327</td>\n",
       "      <td>1660.170507</td>\n",
       "      <td>0.053987</td>\n",
       "    </tr>\n",
       "  </tbody>\n",
       "</table>\n",
       "</div>"
      ],
      "text/plain": [
       "     NPLV          TST         C\n",
       "0  512324  1652.526945  0.060166\n",
       "1  512327  1660.170507  0.053987"
      ]
     },
     "execution_count": 28,
     "metadata": {},
     "output_type": "execute_result"
    }
   ],
   "source": [
    "submit = pd.concat([test['NPLV'], \n",
    "                    pd.Series(test_t).rename('TST'), \n",
    "                    pd.Series(test_c).rename('C')\n",
    "                   ],\n",
    "                   axis=1\n",
    "                  )\n",
    "submit.head(2)"
   ]
  },
  {
   "cell_type": "code",
   "execution_count": 29,
   "id": "972340b2",
   "metadata": {
    "ExecuteTime": {
     "end_time": "2021-10-30T21:42:31.426781Z",
     "start_time": "2021-10-30T21:42:31.407833Z"
    }
   },
   "outputs": [
    {
     "name": "stdout",
     "output_type": "stream",
     "text": [
      "File name:  lgb_predictions_2021-10-31_00-42-31.csv\n",
      "\n",
      " File saved to disk!\n"
     ]
    }
   ],
   "source": [
    "# получаем текущие дату и время\n",
    "now = datetime.now().strftime(\"%Y-%m-%d_%H-%M-%S\")\n",
    "\n",
    "# создаём путь и имя файла с датой и временем\n",
    "# file_name = f'../../data/kaggle/gb_competitive_data_analysis/lgb_predictions_{now}.csv'\n",
    "file_name = f'lgb_predictions_{now}.csv'\n",
    "print('File name: ', file_name)\n",
    "\n",
    "# сохраняем в csv\n",
    "submit.to_csv(file_name, index=False, encoding='utf-8')\n",
    "print('\\n File saved to disk!')"
   ]
  },
  {
   "cell_type": "code",
   "execution_count": null,
   "id": "5c94907b",
   "metadata": {},
   "outputs": [],
   "source": []
  }
 ],
 "metadata": {
  "kernelspec": {
   "display_name": "Python 3",
   "language": "python",
   "name": "python3"
  },
  "language_info": {
   "codemirror_mode": {
    "name": "ipython",
    "version": 3
   },
   "file_extension": ".py",
   "mimetype": "text/x-python",
   "name": "python",
   "nbconvert_exporter": "python",
   "pygments_lexer": "ipython3",
   "version": "3.8.8"
  },
  "toc": {
   "base_numbering": 1,
   "nav_menu": {},
   "number_sections": false,
   "sideBar": true,
   "skip_h1_title": false,
   "title_cell": "Table of Contents",
   "title_sidebar": "Contents",
   "toc_cell": false,
   "toc_position": {},
   "toc_section_display": true,
   "toc_window_display": false
  },
  "varInspector": {
   "cols": {
    "lenName": 16,
    "lenType": 16,
    "lenVar": 40
   },
   "kernels_config": {
    "python": {
     "delete_cmd_postfix": "",
     "delete_cmd_prefix": "del ",
     "library": "var_list.py",
     "varRefreshCmd": "print(var_dic_list())"
    },
    "r": {
     "delete_cmd_postfix": ") ",
     "delete_cmd_prefix": "rm(",
     "library": "var_list.r",
     "varRefreshCmd": "cat(var_dic_list()) "
    }
   },
   "types_to_exclude": [
    "module",
    "function",
    "builtin_function_or_method",
    "instance",
    "_Feature"
   ],
   "window_display": false
  }
 },
 "nbformat": 4,
 "nbformat_minor": 5
}
