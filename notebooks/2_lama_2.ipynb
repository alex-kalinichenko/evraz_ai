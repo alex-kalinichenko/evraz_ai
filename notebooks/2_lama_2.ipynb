{
 "cells": [
  {
   "cell_type": "markdown",
   "id": "875e3b86",
   "metadata": {},
   "source": [
    "Evraz AI Challenge\n",
    "---\n",
    "\n",
    "29-31 октября 2021 г\n",
    "\n",
    "**Трек 1: Продуйте металл через Data Science**. \n",
    "\n",
    "Разработайте модель, прогнозирующую содержание углерода и температуру чугуна во время процесса продувки металла\n",
    "\n",
    "https://hackathon.evraz.com/"
   ]
  },
  {
   "cell_type": "markdown",
   "id": "62ea6c51",
   "metadata": {
    "ExecuteTime": {
     "end_time": "2021-10-29T15:36:54.436442Z",
     "start_time": "2021-10-29T15:36:54.421487Z"
    }
   },
   "source": [
    "**Исходные данные**\n",
    "\n",
    "В рамках этой задачи вам будут даны данные о продувки чугуна в цехе:\n",
    "\n",
    "- **produv** – Таблица содержит основные параметры продувки - мгновенный расход кислорода и положение (наклон) фурмы\n",
    "- **lom** – Вместе с чугуном в фурму засыпают лом - это часть технологического процесса. Таблица содержит вес и тип ломов, использованных в каждой плавке\n",
    "- **plavki** – Основная информация по плавке - характеристики плавки (марка металла, направление разливки) и оборудования\n",
    "- **sip** – Сыпучие добавки, используемые в технологическом процессе\n",
    "- **chronom** – хронометраж - время начала и конца различных операций во время плавки\n",
    "- **chugun** – Химический состав и характеристики чугуна\n",
    "- **gas** – Информация об анализе отходящих газов\n",
    "- **target** – целевые значения\n",
    "\n",
    "\n",
    "- [описание задачи](https://russianhackers.notion.site/1-Data-Science-4cc89ba42de1429bbac316f59bf07a3b)\n",
    "- [атрибутный состав данных](https://russianhackers.notion.site/a685453e4fde41a098d9ad704d906e21?v=c482eaeb8f3143d58763b4b9008f1fec)\n",
    "\n",
    "### Light Auto ML\n",
    "\n",
    "Light Auto ML House prices regression: https://www.kaggle.com/alexryzhkov/lightautoml-houseprices-love\n",
    "\n",
    "Light Auto ML Titanic classification: https://towardsdatascience.com/lightautoml-preset-usage-tutorial-2cce7da6f936 и https://www.kaggle.com/alexryzhkov/lightautoml-extreme-short-titanic-solution"
   ]
  },
  {
   "cell_type": "code",
   "execution_count": 12,
   "id": "f275c239",
   "metadata": {
    "ExecuteTime": {
     "end_time": "2021-11-01T18:32:53.450598Z",
     "start_time": "2021-11-01T18:32:53.444616Z"
    }
   },
   "outputs": [],
   "source": [
    "import pandas as pd\n",
    "import numpy as np\n",
    "from pathlib2 import Path\n",
    "import matplotlib.pyplot as plt\n",
    "from typing import List, Tuple, Optional\n",
    "import re\n",
    "import lightgbm as lgb\n",
    "from datetime import datetime\n",
    "\n",
    "from lightautoml.automl.presets.tabular_presets import TabularAutoML, TabularUtilizedAutoML\n",
    "from lightautoml.tasks import Task"
   ]
  },
  {
   "cell_type": "markdown",
   "id": "25ff1338",
   "metadata": {},
   "source": [
    "## Функции"
   ]
  },
  {
   "cell_type": "markdown",
   "id": "64d7b407",
   "metadata": {},
   "source": [
    "# Загрузка данных"
   ]
  },
  {
   "cell_type": "code",
   "execution_count": 2,
   "id": "41462e0c",
   "metadata": {
    "ExecuteTime": {
     "end_time": "2021-11-01T18:03:31.336213Z",
     "start_time": "2021-11-01T18:03:31.322252Z"
    }
   },
   "outputs": [],
   "source": [
    "path = Path('../../../data/2021_evraz')"
   ]
  },
  {
   "cell_type": "code",
   "execution_count": 3,
   "id": "4ac228ef",
   "metadata": {
    "ExecuteTime": {
     "end_time": "2021-11-01T18:03:31.418308Z",
     "start_time": "2021-11-01T18:03:31.373429Z"
    },
    "scrolled": true
   },
   "outputs": [
    {
     "name": "stdout",
     "output_type": "stream",
     "text": [
      "(2063, 167)\n"
     ]
    },
    {
     "data": {
      "text/html": [
       "<div>\n",
       "<style scoped>\n",
       "    .dataframe tbody tr th:only-of-type {\n",
       "        vertical-align: middle;\n",
       "    }\n",
       "\n",
       "    .dataframe tbody tr th {\n",
       "        vertical-align: top;\n",
       "    }\n",
       "\n",
       "    .dataframe thead th {\n",
       "        text-align: right;\n",
       "    }\n",
       "</style>\n",
       "<table border=\"1\" class=\"dataframe\">\n",
       "  <thead>\n",
       "    <tr style=\"text-align: right;\">\n",
       "      <th></th>\n",
       "      <th>NPLV</th>\n",
       "      <th>TST</th>\n",
       "      <th>C</th>\n",
       "      <th>VES</th>\n",
       "      <th>T_x</th>\n",
       "      <th>SI</th>\n",
       "      <th>MN</th>\n",
       "      <th>S</th>\n",
       "      <th>P</th>\n",
       "      <th>CR</th>\n",
       "      <th>...</th>\n",
       "      <th>NMSYP_Dolomsyr</th>\n",
       "      <th>NMSYP_Ugol_TO</th>\n",
       "      <th>NMSYP_FLUMAG</th>\n",
       "      <th>NMSYP_FlusFOMI</th>\n",
       "      <th>NMSYP_agl_ofl_s</th>\n",
       "      <th>NMSYP_dolom_syr</th>\n",
       "      <th>NMSYP_izvotsev</th>\n",
       "      <th>NMSYP_izv_ZOI</th>\n",
       "      <th>NMSYP_izv_otsev</th>\n",
       "      <th>NMSYP_koks_25_40</th>\n",
       "    </tr>\n",
       "  </thead>\n",
       "  <tbody>\n",
       "    <tr>\n",
       "      <th>0</th>\n",
       "      <td>510008</td>\n",
       "      <td>1690</td>\n",
       "      <td>0.060</td>\n",
       "      <td>263700.0</td>\n",
       "      <td>1396.0</td>\n",
       "      <td>0.44</td>\n",
       "      <td>0.22</td>\n",
       "      <td>0.023</td>\n",
       "      <td>0.097</td>\n",
       "      <td>0.03</td>\n",
       "      <td>...</td>\n",
       "      <td>0</td>\n",
       "      <td>2950</td>\n",
       "      <td>2960</td>\n",
       "      <td>980</td>\n",
       "      <td>0</td>\n",
       "      <td>0</td>\n",
       "      <td>0</td>\n",
       "      <td>14080</td>\n",
       "      <td>0</td>\n",
       "      <td>0</td>\n",
       "    </tr>\n",
       "    <tr>\n",
       "      <th>1</th>\n",
       "      <td>510009</td>\n",
       "      <td>1683</td>\n",
       "      <td>0.097</td>\n",
       "      <td>264500.0</td>\n",
       "      <td>1419.0</td>\n",
       "      <td>0.68</td>\n",
       "      <td>0.20</td>\n",
       "      <td>0.017</td>\n",
       "      <td>0.087</td>\n",
       "      <td>0.02</td>\n",
       "      <td>...</td>\n",
       "      <td>0</td>\n",
       "      <td>2930</td>\n",
       "      <td>0</td>\n",
       "      <td>960</td>\n",
       "      <td>0</td>\n",
       "      <td>0</td>\n",
       "      <td>1060</td>\n",
       "      <td>18830</td>\n",
       "      <td>0</td>\n",
       "      <td>0</td>\n",
       "    </tr>\n",
       "    <tr>\n",
       "      <th>2</th>\n",
       "      <td>510010</td>\n",
       "      <td>1662</td>\n",
       "      <td>0.091</td>\n",
       "      <td>263800.0</td>\n",
       "      <td>1384.0</td>\n",
       "      <td>0.56</td>\n",
       "      <td>0.26</td>\n",
       "      <td>0.017</td>\n",
       "      <td>0.096</td>\n",
       "      <td>0.03</td>\n",
       "      <td>...</td>\n",
       "      <td>0</td>\n",
       "      <td>2990</td>\n",
       "      <td>2960</td>\n",
       "      <td>1050</td>\n",
       "      <td>0</td>\n",
       "      <td>0</td>\n",
       "      <td>990</td>\n",
       "      <td>16080</td>\n",
       "      <td>0</td>\n",
       "      <td>0</td>\n",
       "    </tr>\n",
       "  </tbody>\n",
       "</table>\n",
       "<p>3 rows × 167 columns</p>\n",
       "</div>"
      ],
      "text/plain": [
       "     NPLV   TST      C       VES     T_x    SI    MN      S      P    CR  ...  \\\n",
       "0  510008  1690  0.060  263700.0  1396.0  0.44  0.22  0.023  0.097  0.03  ...   \n",
       "1  510009  1683  0.097  264500.0  1419.0  0.68  0.20  0.017  0.087  0.02  ...   \n",
       "2  510010  1662  0.091  263800.0  1384.0  0.56  0.26  0.017  0.096  0.03  ...   \n",
       "\n",
       "   NMSYP_Dolomsyr  NMSYP_Ugol_TO  NMSYP_FLUMAG  NMSYP_FlusFOMI  \\\n",
       "0               0           2950          2960             980   \n",
       "1               0           2930             0             960   \n",
       "2               0           2990          2960            1050   \n",
       "\n",
       "  NMSYP_agl_ofl_s  NMSYP_dolom_syr  NMSYP_izvotsev  NMSYP_izv_ZOI  \\\n",
       "0               0                0               0          14080   \n",
       "1               0                0            1060          18830   \n",
       "2               0                0             990          16080   \n",
       "\n",
       "   NMSYP_izv_otsev  NMSYP_koks_25_40  \n",
       "0                0                 0  \n",
       "1                0                 0  \n",
       "2                0                 0  \n",
       "\n",
       "[3 rows x 167 columns]"
      ]
     },
     "execution_count": 3,
     "metadata": {},
     "output_type": "execute_result"
    }
   ],
   "source": [
    "target_train = pd.read_pickle(path.joinpath('target_train_all.pkl'))\n",
    "print(target_train.shape)\n",
    "target_train.head(3)"
   ]
  },
  {
   "cell_type": "code",
   "execution_count": 4,
   "id": "d957a53b",
   "metadata": {
    "ExecuteTime": {
     "end_time": "2021-11-01T18:03:40.412599Z",
     "start_time": "2021-11-01T18:03:40.393470Z"
    }
   },
   "outputs": [
    {
     "name": "stdout",
     "output_type": "stream",
     "text": [
      "(780, 165)\n"
     ]
    },
    {
     "data": {
      "text/html": [
       "<div>\n",
       "<style scoped>\n",
       "    .dataframe tbody tr th:only-of-type {\n",
       "        vertical-align: middle;\n",
       "    }\n",
       "\n",
       "    .dataframe tbody tr th {\n",
       "        vertical-align: top;\n",
       "    }\n",
       "\n",
       "    .dataframe thead th {\n",
       "        text-align: right;\n",
       "    }\n",
       "</style>\n",
       "<table border=\"1\" class=\"dataframe\">\n",
       "  <thead>\n",
       "    <tr style=\"text-align: right;\">\n",
       "      <th></th>\n",
       "      <th>NPLV</th>\n",
       "      <th>VES</th>\n",
       "      <th>T_x</th>\n",
       "      <th>SI</th>\n",
       "      <th>MN</th>\n",
       "      <th>S</th>\n",
       "      <th>P</th>\n",
       "      <th>CR</th>\n",
       "      <th>NI</th>\n",
       "      <th>CU</th>\n",
       "      <th>...</th>\n",
       "      <th>NMSYP_Dolomsyr</th>\n",
       "      <th>NMSYP_Ugol_TO</th>\n",
       "      <th>NMSYP_FLUMAG</th>\n",
       "      <th>NMSYP_FlusFOMI</th>\n",
       "      <th>NMSYP_agl_ofl_s</th>\n",
       "      <th>NMSYP_dolom_syr</th>\n",
       "      <th>NMSYP_izvotsev</th>\n",
       "      <th>NMSYP_izv_ZOI</th>\n",
       "      <th>NMSYP_izv_otsev</th>\n",
       "      <th>NMSYP_koks_25_40</th>\n",
       "    </tr>\n",
       "  </thead>\n",
       "  <tbody>\n",
       "    <tr>\n",
       "      <th>0</th>\n",
       "      <td>512324</td>\n",
       "      <td>240100.0</td>\n",
       "      <td>1355.0</td>\n",
       "      <td>0.46</td>\n",
       "      <td>0.33</td>\n",
       "      <td>0.027</td>\n",
       "      <td>0.079</td>\n",
       "      <td>0.01</td>\n",
       "      <td>0.01</td>\n",
       "      <td>0.02</td>\n",
       "      <td>...</td>\n",
       "      <td>0</td>\n",
       "      <td>1310</td>\n",
       "      <td>1670</td>\n",
       "      <td>0</td>\n",
       "      <td>0</td>\n",
       "      <td>0</td>\n",
       "      <td>0</td>\n",
       "      <td>13960</td>\n",
       "      <td>0</td>\n",
       "      <td>0</td>\n",
       "    </tr>\n",
       "    <tr>\n",
       "      <th>1</th>\n",
       "      <td>512327</td>\n",
       "      <td>266400.0</td>\n",
       "      <td>1390.0</td>\n",
       "      <td>0.30</td>\n",
       "      <td>0.33</td>\n",
       "      <td>0.032</td>\n",
       "      <td>0.099</td>\n",
       "      <td>0.01</td>\n",
       "      <td>0.00</td>\n",
       "      <td>0.00</td>\n",
       "      <td>...</td>\n",
       "      <td>0</td>\n",
       "      <td>0</td>\n",
       "      <td>0</td>\n",
       "      <td>0</td>\n",
       "      <td>0</td>\n",
       "      <td>0</td>\n",
       "      <td>0</td>\n",
       "      <td>15290</td>\n",
       "      <td>0</td>\n",
       "      <td>50</td>\n",
       "    </tr>\n",
       "    <tr>\n",
       "      <th>2</th>\n",
       "      <td>512328</td>\n",
       "      <td>270200.0</td>\n",
       "      <td>1373.0</td>\n",
       "      <td>0.00</td>\n",
       "      <td>0.00</td>\n",
       "      <td>0.000</td>\n",
       "      <td>0.000</td>\n",
       "      <td>0.00</td>\n",
       "      <td>0.00</td>\n",
       "      <td>0.00</td>\n",
       "      <td>...</td>\n",
       "      <td>0</td>\n",
       "      <td>0</td>\n",
       "      <td>0</td>\n",
       "      <td>0</td>\n",
       "      <td>0</td>\n",
       "      <td>0</td>\n",
       "      <td>0</td>\n",
       "      <td>20010</td>\n",
       "      <td>0</td>\n",
       "      <td>1400</td>\n",
       "    </tr>\n",
       "  </tbody>\n",
       "</table>\n",
       "<p>3 rows × 165 columns</p>\n",
       "</div>"
      ],
      "text/plain": [
       "     NPLV       VES     T_x    SI    MN      S      P    CR    NI    CU  ...  \\\n",
       "0  512324  240100.0  1355.0  0.46  0.33  0.027  0.079  0.01  0.01  0.02  ...   \n",
       "1  512327  266400.0  1390.0  0.30  0.33  0.032  0.099  0.01  0.00  0.00  ...   \n",
       "2  512328  270200.0  1373.0  0.00  0.00  0.000  0.000  0.00  0.00  0.00  ...   \n",
       "\n",
       "   NMSYP_Dolomsyr  NMSYP_Ugol_TO NMSYP_FLUMAG  NMSYP_FlusFOMI  \\\n",
       "0               0           1310         1670               0   \n",
       "1               0              0            0               0   \n",
       "2               0              0            0               0   \n",
       "\n",
       "   NMSYP_agl_ofl_s  NMSYP_dolom_syr  NMSYP_izvotsev  NMSYP_izv_ZOI  \\\n",
       "0                0                0               0          13960   \n",
       "1                0                0               0          15290   \n",
       "2                0                0               0          20010   \n",
       "\n",
       "   NMSYP_izv_otsev  NMSYP_koks_25_40  \n",
       "0                0                 0  \n",
       "1                0                50  \n",
       "2                0              1400  \n",
       "\n",
       "[3 rows x 165 columns]"
      ]
     },
     "execution_count": 4,
     "metadata": {},
     "output_type": "execute_result"
    }
   ],
   "source": [
    "test = pd.read_pickle(path.joinpath('test_all.pkl'))\n",
    "print(test.shape)\n",
    "test.head(3)"
   ]
  },
  {
   "cell_type": "code",
   "execution_count": 5,
   "id": "a9a0ef64",
   "metadata": {
    "ExecuteTime": {
     "end_time": "2021-11-01T18:03:43.949847Z",
     "start_time": "2021-11-01T18:03:43.936883Z"
    }
   },
   "outputs": [
    {
     "data": {
      "text/plain": [
       "Index(['NPLV', 'TST', 'C', 'VES', 'T_x', 'SI', 'MN', 'S', 'P', 'CR',\n",
       "       ...\n",
       "       'NMSYP_Dolomsyr', 'NMSYP_Ugol_TO', 'NMSYP_FLUMAG', 'NMSYP_FlusFOMI',\n",
       "       'NMSYP_agl_ofl_s', 'NMSYP_dolom_syr', 'NMSYP_izvotsev', 'NMSYP_izv_ZOI',\n",
       "       'NMSYP_izv_otsev', 'NMSYP_koks_25_40'],\n",
       "      dtype='object', length=167)"
      ]
     },
     "execution_count": 5,
     "metadata": {},
     "output_type": "execute_result"
    }
   ],
   "source": [
    "target_train.columns"
   ]
  },
  {
   "cell_type": "markdown",
   "id": "9352da53",
   "metadata": {},
   "source": [
    "https://towardsdatascience.com/lightautoml-preset-usage-tutorial-2cce7da6f936\n",
    "\n",
    "As you can see, use_algos are lists in the list — this is the notation to create ML pipelines with as many levels of algorithms as you want. For example, `[['linear_l2', 'lgb', 'cb'], ['lgb_tuned', 'cb']]` stands for 3 algorithms on the first level and 2 on the second. After the second level will be fully trained, predictions from the 2 algorithms are weighted averaged to construct the final prediction. The full set of parameters (not only general ones), which can be provided for the TabularAutoML customization, can be found in its [YAML config](https://github.com/sberbank-ai-lab/LightAutoML/blob/master/lightautoml/automl/presets/tabular_config.yml).\n",
    "\n",
    "Base algorithms, which are currently available to be in general_params use_algos:\n",
    "- Linear model (called `linear_l2`)\n",
    "- LightGBM model with expert params based on dataset (`lgb`)\n",
    "- LightGBM with tuned params using Optuna (`lgb_tuned`)\n",
    "- CatBoost model with expert params (`cb`) and\n",
    "- CatBoost with params from Optuna (`cb_tuned`)"
   ]
  },
  {
   "cell_type": "code",
   "execution_count": 13,
   "id": "d4bb4fd6",
   "metadata": {
    "ExecuteTime": {
     "end_time": "2021-11-01T18:32:57.400520Z",
     "start_time": "2021-11-01T18:32:57.351614Z"
    }
   },
   "outputs": [],
   "source": [
    "automl_t = TabularUtilizedAutoML(task = Task('reg', metric = 'mse'), \n",
    "                                 timeout = 600, # 600 seconds = 10 minutes\n",
    "                                 cpu_limit = 4, # Optimal for Kaggle kernels\n",
    "                                 general_params = {'use_algos': [['linear_l2', 'lgb_tuned']]})\n",
    "\n",
    "automl_c = TabularUtilizedAutoML(task = Task('reg', metric = 'mse'), \n",
    "                                 timeout = 600, # 600 seconds = 10 minutes\n",
    "                                 cpu_limit = 4, # Optimal for Kaggle kernels\n",
    "                                 general_params = {'use_algos': [['linear_l2', 'lgb', 'cb'], ['lgb_tuned', 'cb']]})"
   ]
  },
  {
   "cell_type": "code",
   "execution_count": 14,
   "id": "9c7f412e",
   "metadata": {
    "ExecuteTime": {
     "end_time": "2021-11-01T18:45:55.959104Z",
     "start_time": "2021-11-01T18:32:59.797393Z"
    }
   },
   "outputs": [],
   "source": [
    "oof_pred_t = automl_t.fit_predict(target_train,  roles = {'target': 'TST', 'drop': 'C'})\n",
    "oof_pred_c = automl_c.fit_predict(target_train,  roles = {'target': 'C', 'drop': 'TST'})"
   ]
  },
  {
   "cell_type": "code",
   "execution_count": 15,
   "id": "9f442b87",
   "metadata": {
    "ExecuteTime": {
     "end_time": "2021-11-01T18:45:58.172512Z",
     "start_time": "2021-11-01T18:45:56.084021Z"
    }
   },
   "outputs": [],
   "source": [
    "test_pred_t = automl_t.predict(test)\n",
    "test_pred_c = automl_c.predict(test)"
   ]
  },
  {
   "cell_type": "code",
   "execution_count": 16,
   "id": "3b614ca0",
   "metadata": {
    "ExecuteTime": {
     "end_time": "2021-11-01T18:45:58.313738Z",
     "start_time": "2021-11-01T18:45:58.298812Z"
    }
   },
   "outputs": [
    {
     "data": {
      "text/html": [
       "<div>\n",
       "<style scoped>\n",
       "    .dataframe tbody tr th:only-of-type {\n",
       "        vertical-align: middle;\n",
       "    }\n",
       "\n",
       "    .dataframe tbody tr th {\n",
       "        vertical-align: top;\n",
       "    }\n",
       "\n",
       "    .dataframe thead th {\n",
       "        text-align: right;\n",
       "    }\n",
       "</style>\n",
       "<table border=\"1\" class=\"dataframe\">\n",
       "  <thead>\n",
       "    <tr style=\"text-align: right;\">\n",
       "      <th></th>\n",
       "      <th>NPLV</th>\n",
       "      <th>TST</th>\n",
       "      <th>C</th>\n",
       "    </tr>\n",
       "  </thead>\n",
       "  <tbody>\n",
       "    <tr>\n",
       "      <th>0</th>\n",
       "      <td>512324</td>\n",
       "      <td>1660.386475</td>\n",
       "      <td>0.052478</td>\n",
       "    </tr>\n",
       "    <tr>\n",
       "      <th>1</th>\n",
       "      <td>512327</td>\n",
       "      <td>1662.991943</td>\n",
       "      <td>0.078322</td>\n",
       "    </tr>\n",
       "    <tr>\n",
       "      <th>2</th>\n",
       "      <td>512328</td>\n",
       "      <td>1658.475098</td>\n",
       "      <td>0.109283</td>\n",
       "    </tr>\n",
       "    <tr>\n",
       "      <th>3</th>\n",
       "      <td>512331</td>\n",
       "      <td>1655.760498</td>\n",
       "      <td>0.085248</td>\n",
       "    </tr>\n",
       "    <tr>\n",
       "      <th>4</th>\n",
       "      <td>512333</td>\n",
       "      <td>1662.438110</td>\n",
       "      <td>0.109976</td>\n",
       "    </tr>\n",
       "    <tr>\n",
       "      <th>...</th>\n",
       "      <td>...</td>\n",
       "      <td>...</td>\n",
       "      <td>...</td>\n",
       "    </tr>\n",
       "    <tr>\n",
       "      <th>775</th>\n",
       "      <td>513369</td>\n",
       "      <td>1662.905273</td>\n",
       "      <td>0.076655</td>\n",
       "    </tr>\n",
       "    <tr>\n",
       "      <th>776</th>\n",
       "      <td>513370</td>\n",
       "      <td>1664.241577</td>\n",
       "      <td>0.115325</td>\n",
       "    </tr>\n",
       "    <tr>\n",
       "      <th>777</th>\n",
       "      <td>513371</td>\n",
       "      <td>1667.691284</td>\n",
       "      <td>0.091230</td>\n",
       "    </tr>\n",
       "    <tr>\n",
       "      <th>778</th>\n",
       "      <td>513372</td>\n",
       "      <td>1670.125854</td>\n",
       "      <td>0.091940</td>\n",
       "    </tr>\n",
       "    <tr>\n",
       "      <th>779</th>\n",
       "      <td>513374</td>\n",
       "      <td>1671.958740</td>\n",
       "      <td>0.095554</td>\n",
       "    </tr>\n",
       "  </tbody>\n",
       "</table>\n",
       "<p>780 rows × 3 columns</p>\n",
       "</div>"
      ],
      "text/plain": [
       "       NPLV          TST         C\n",
       "0    512324  1660.386475  0.052478\n",
       "1    512327  1662.991943  0.078322\n",
       "2    512328  1658.475098  0.109283\n",
       "3    512331  1655.760498  0.085248\n",
       "4    512333  1662.438110  0.109976\n",
       "..      ...          ...       ...\n",
       "775  513369  1662.905273  0.076655\n",
       "776  513370  1664.241577  0.115325\n",
       "777  513371  1667.691284  0.091230\n",
       "778  513372  1670.125854  0.091940\n",
       "779  513374  1671.958740  0.095554\n",
       "\n",
       "[780 rows x 3 columns]"
      ]
     },
     "execution_count": 16,
     "metadata": {},
     "output_type": "execute_result"
    }
   ],
   "source": [
    "pd.DataFrame({'NPLV': test['NPLV'],\n",
    "              'TST':test_pred_t.data[:, 0], \n",
    "              'C': test_pred_c.data[:, 0]\n",
    "             })"
   ]
  },
  {
   "cell_type": "code",
   "execution_count": 17,
   "id": "2f460be1",
   "metadata": {
    "ExecuteTime": {
     "end_time": "2021-11-01T18:45:58.453501Z",
     "start_time": "2021-11-01T18:45:58.438540Z"
    }
   },
   "outputs": [
    {
     "name": "stdout",
     "output_type": "stream",
     "text": [
      "File name:  lama_l2_lgb_cb_optuna_2021-11-01_21-45-58.csv\n",
      "\n",
      " File saved to disk!\n"
     ]
    }
   ],
   "source": [
    "# получаем текущие дату и время\n",
    "now = datetime.now().strftime(\"%Y-%m-%d_%H-%M-%S\")\n",
    "\n",
    "# создаём путь и имя файла с датой и временем\n",
    "# file_name = f'../../data/kaggle/gb_competitive_data_analysis/lgb_predictions_{now}.csv'\n",
    "file_name = f'lama_l2_lgb_cb_optuna_{now}.csv'\n",
    "print('File name: ', file_name)\n",
    "\n",
    "# сохраняем в csv\n",
    "pd.DataFrame({'NPLV': test['NPLV'],\n",
    "              'TST':test_pred_t.data[:, 0], \n",
    "              'C': test_pred_c.data[:, 0]\n",
    "             }).to_csv(file_name, index=False, encoding='utf-8')\n",
    "print('\\n File saved to disk!')"
   ]
  },
  {
   "cell_type": "code",
   "execution_count": 11,
   "id": "14a8721b",
   "metadata": {
    "ExecuteTime": {
     "end_time": "2021-10-30T16:50:27.233278Z",
     "start_time": "2021-10-30T16:50:27.218355Z"
    }
   },
   "outputs": [],
   "source": [
    "def metric(answers, user_csv):\n",
    "\n",
    "    delta_c = np.abs(np.array(answers['C']) - np.array(user_csv['C']))\n",
    "    hit_rate_c = np.int64(delta_c < 0.02)\n",
    "\n",
    "    delta_t = np.abs(np.array(answers['TST']) - np.array(user_csv['TST']))\n",
    "    hit_rate_t = np.int64(delta_t < 20)\n",
    "\n",
    "    N = np.size(answers['C'])\n",
    "\n",
    "    return np.sum(hit_rate_c + hit_rate_t) / 2 / N"
   ]
  }
 ],
 "metadata": {
  "kernelspec": {
   "display_name": "Python 3",
   "language": "python",
   "name": "python3"
  },
  "language_info": {
   "codemirror_mode": {
    "name": "ipython",
    "version": 3
   },
   "file_extension": ".py",
   "mimetype": "text/x-python",
   "name": "python",
   "nbconvert_exporter": "python",
   "pygments_lexer": "ipython3",
   "version": "3.8.8"
  },
  "toc": {
   "base_numbering": 1,
   "nav_menu": {},
   "number_sections": false,
   "sideBar": true,
   "skip_h1_title": false,
   "title_cell": "Table of Contents",
   "title_sidebar": "Contents",
   "toc_cell": false,
   "toc_position": {},
   "toc_section_display": true,
   "toc_window_display": false
  },
  "varInspector": {
   "cols": {
    "lenName": 16,
    "lenType": 16,
    "lenVar": 40
   },
   "kernels_config": {
    "python": {
     "delete_cmd_postfix": "",
     "delete_cmd_prefix": "del ",
     "library": "var_list.py",
     "varRefreshCmd": "print(var_dic_list())"
    },
    "r": {
     "delete_cmd_postfix": ") ",
     "delete_cmd_prefix": "rm(",
     "library": "var_list.r",
     "varRefreshCmd": "cat(var_dic_list()) "
    }
   },
   "types_to_exclude": [
    "module",
    "function",
    "builtin_function_or_method",
    "instance",
    "_Feature"
   ],
   "window_display": false
  }
 },
 "nbformat": 4,
 "nbformat_minor": 5
}
